{
 "cells": [
  {
   "cell_type": "markdown",
   "metadata": {},
   "source": [
    "#### Aquí encontrarás todo lo que necesitas saber: https://www.kaggle.com/t/ab8726f0cfc84544abbae69a6be88071"
   ]
  },
  {
   "cell_type": "markdown",
   "metadata": {},
   "source": [
    "## Librerias"
   ]
  },
  {
   "cell_type": "code",
   "execution_count": 1,
   "metadata": {},
   "outputs": [],
   "source": [
    "import seaborn as sns\n",
    "import pandas as pd\n",
    "import numpy as np\n",
    "import matplotlib.pyplot as plt\n",
    "from scipy.stats import norm\n",
    "from sklearn.preprocessing import FunctionTransformer, StandardScaler, OneHotEncoder,StandardScaler,MinMaxScaler,LabelEncoder\n",
    "from sklearn.compose import ColumnTransformer\n",
    "from sklearn.pipeline import make_pipeline\n",
    "from sklearn.impute import SimpleImputer\n",
    "from sklearn.linear_model import LogisticRegression\n",
    "from sklearn.model_selection import train_test_split\n",
    "from sklearn.datasets import load_iris, fetch_california_housing\n",
    "\n",
    "import urllib.request\n",
    "from PIL import Image"
   ]
  },
  {
   "cell_type": "markdown",
   "metadata": {},
   "source": [
    "## Data"
   ]
  },
  {
   "cell_type": "code",
   "execution_count": 2,
   "metadata": {},
   "outputs": [],
   "source": [
    "### Para que funcione necesitas bajarte los archivos de datos de Kaggle \n",
    "train = pd.read_csv(\"data/train.csv\")\n",
    "test = pd.read_csv(\"data/test.csv\")\n",
    "\n"
   ]
  },
  {
   "cell_type": "markdown",
   "metadata": {},
   "source": [
    "## Data exploration"
   ]
  },
  {
   "cell_type": "markdown",
   "metadata": {},
   "source": [
    "### TEST\n"
   ]
  },
  {
   "cell_type": "code",
   "execution_count": 3,
   "metadata": {},
   "outputs": [
    {
     "name": "stdout",
     "output_type": "stream",
     "text": [
      "<class 'pandas.core.frame.DataFrame'>\n",
      "RangeIndex: 391 entries, 0 to 390\n",
      "Data columns (total 12 columns):\n",
      " #   Column            Non-Null Count  Dtype  \n",
      "---  ------            --------------  -----  \n",
      " 0   laptop_ID         391 non-null    int64  \n",
      " 1   Company           391 non-null    object \n",
      " 2   Product           391 non-null    object \n",
      " 3   TypeName          391 non-null    object \n",
      " 4   Inches            391 non-null    float64\n",
      " 5   ScreenResolution  391 non-null    object \n",
      " 6   Cpu               391 non-null    object \n",
      " 7   Ram               391 non-null    object \n",
      " 8   Memory            391 non-null    object \n",
      " 9   Gpu               391 non-null    object \n",
      " 10  OpSys             391 non-null    object \n",
      " 11  Weight            391 non-null    object \n",
      "dtypes: float64(1), int64(1), object(10)\n",
      "memory usage: 36.8+ KB\n"
     ]
    }
   ],
   "source": [
    "test.info()"
   ]
  },
  {
   "cell_type": "code",
   "execution_count": 104,
   "metadata": {},
   "outputs": [
    {
     "data": {
      "text/html": [
       "<div>\n",
       "<style scoped>\n",
       "    .dataframe tbody tr th:only-of-type {\n",
       "        vertical-align: middle;\n",
       "    }\n",
       "\n",
       "    .dataframe tbody tr th {\n",
       "        vertical-align: top;\n",
       "    }\n",
       "\n",
       "    .dataframe thead th {\n",
       "        text-align: right;\n",
       "    }\n",
       "</style>\n",
       "<table border=\"1\" class=\"dataframe\">\n",
       "  <thead>\n",
       "    <tr style=\"text-align: right;\">\n",
       "      <th></th>\n",
       "      <th>laptop_ID</th>\n",
       "      <th>Company</th>\n",
       "      <th>Product</th>\n",
       "      <th>TypeName</th>\n",
       "      <th>Inches</th>\n",
       "      <th>ScreenResolution</th>\n",
       "      <th>Ram_GB</th>\n",
       "      <th>Gpu</th>\n",
       "      <th>OpSys</th>\n",
       "      <th>WeightInKgs</th>\n",
       "      <th>Capacidad_GB</th>\n",
       "      <th>Cpu_brand</th>\n",
       "      <th>CpuType</th>\n",
       "    </tr>\n",
       "  </thead>\n",
       "  <tbody>\n",
       "    <tr>\n",
       "      <th>0</th>\n",
       "      <td>750</td>\n",
       "      <td>Toshiba</td>\n",
       "      <td>Tecra X40-D-10G</td>\n",
       "      <td>Notebook</td>\n",
       "      <td>14.0</td>\n",
       "      <td>1920x1080</td>\n",
       "      <td>8</td>\n",
       "      <td>Intel HD Graphics 620</td>\n",
       "      <td>Windows 10</td>\n",
       "      <td>1.25</td>\n",
       "      <td>256</td>\n",
       "      <td>Intel</td>\n",
       "      <td>Core i5 7200U 2.5GHz</td>\n",
       "    </tr>\n",
       "    <tr>\n",
       "      <th>1</th>\n",
       "      <td>726</td>\n",
       "      <td>Mediacom</td>\n",
       "      <td>Smartbook 142</td>\n",
       "      <td>Notebook</td>\n",
       "      <td>14.0</td>\n",
       "      <td>1920x1200</td>\n",
       "      <td>4</td>\n",
       "      <td>Intel HD Graphics 400</td>\n",
       "      <td>Windows 10</td>\n",
       "      <td>1.40</td>\n",
       "      <td>32</td>\n",
       "      <td>Intel</td>\n",
       "      <td>Atom Z8350 1.92GHz</td>\n",
       "    </tr>\n",
       "    <tr>\n",
       "      <th>2</th>\n",
       "      <td>633</td>\n",
       "      <td>Mediacom</td>\n",
       "      <td>SmartBook 140</td>\n",
       "      <td>Notebook</td>\n",
       "      <td>14.0</td>\n",
       "      <td>1920x1080</td>\n",
       "      <td>2</td>\n",
       "      <td>Intel HD Graphics</td>\n",
       "      <td>Windows 10</td>\n",
       "      <td>1.40</td>\n",
       "      <td>32</td>\n",
       "      <td>Intel</td>\n",
       "      <td>Atom x5-Z8350 1.44GHz</td>\n",
       "    </tr>\n",
       "    <tr>\n",
       "      <th>3</th>\n",
       "      <td>363</td>\n",
       "      <td>Dell</td>\n",
       "      <td>Inspiron 7577</td>\n",
       "      <td>Gaming</td>\n",
       "      <td>15.6</td>\n",
       "      <td>1920x1080</td>\n",
       "      <td>8</td>\n",
       "      <td>Nvidia GeForce GTX 1050</td>\n",
       "      <td>Windows 10</td>\n",
       "      <td>2.65</td>\n",
       "      <td>1000</td>\n",
       "      <td>Intel</td>\n",
       "      <td>Core i5 7300HQ 2.5GHz</td>\n",
       "    </tr>\n",
       "    <tr>\n",
       "      <th>4</th>\n",
       "      <td>319</td>\n",
       "      <td>Asus</td>\n",
       "      <td>VivoBook Flip</td>\n",
       "      <td>2 in 1 Convertible</td>\n",
       "      <td>11.6</td>\n",
       "      <td>1366x768</td>\n",
       "      <td>2</td>\n",
       "      <td>Intel HD Graphics 500</td>\n",
       "      <td>Windows 10</td>\n",
       "      <td>1.10</td>\n",
       "      <td>32</td>\n",
       "      <td>Intel</td>\n",
       "      <td>Celeron Dual Core N3350 1.1GHz</td>\n",
       "    </tr>\n",
       "    <tr>\n",
       "      <th>...</th>\n",
       "      <td>...</td>\n",
       "      <td>...</td>\n",
       "      <td>...</td>\n",
       "      <td>...</td>\n",
       "      <td>...</td>\n",
       "      <td>...</td>\n",
       "      <td>...</td>\n",
       "      <td>...</td>\n",
       "      <td>...</td>\n",
       "      <td>...</td>\n",
       "      <td>...</td>\n",
       "      <td>...</td>\n",
       "      <td>...</td>\n",
       "    </tr>\n",
       "    <tr>\n",
       "      <th>386</th>\n",
       "      <td>693</td>\n",
       "      <td>Dell</td>\n",
       "      <td>Alienware 15</td>\n",
       "      <td>Gaming</td>\n",
       "      <td>15.6</td>\n",
       "      <td>1920x1080</td>\n",
       "      <td>16</td>\n",
       "      <td>Nvidia GeForce GTX 1070</td>\n",
       "      <td>Windows 10</td>\n",
       "      <td>3.49</td>\n",
       "      <td>256</td>\n",
       "      <td>Intel</td>\n",
       "      <td>Core i7 7820HK 2.9GHz</td>\n",
       "    </tr>\n",
       "    <tr>\n",
       "      <th>387</th>\n",
       "      <td>1132</td>\n",
       "      <td>Razer</td>\n",
       "      <td>Blade Stealth</td>\n",
       "      <td>Ultrabook</td>\n",
       "      <td>12.5</td>\n",
       "      <td>3840x2160</td>\n",
       "      <td>8</td>\n",
       "      <td>Intel HD Graphics 520</td>\n",
       "      <td>Windows 10</td>\n",
       "      <td>1.25</td>\n",
       "      <td>256</td>\n",
       "      <td>Intel</td>\n",
       "      <td>Core i7 6500U 2.5GHz</td>\n",
       "    </tr>\n",
       "    <tr>\n",
       "      <th>388</th>\n",
       "      <td>49</td>\n",
       "      <td>Dell</td>\n",
       "      <td>Inspiron 3567</td>\n",
       "      <td>Notebook</td>\n",
       "      <td>15.6</td>\n",
       "      <td>1920x1080</td>\n",
       "      <td>4</td>\n",
       "      <td>AMD Radeon R5 M430</td>\n",
       "      <td>Windows 10</td>\n",
       "      <td>2.30</td>\n",
       "      <td>256</td>\n",
       "      <td>Intel</td>\n",
       "      <td>Core i5 7200U 2.5GHz</td>\n",
       "    </tr>\n",
       "    <tr>\n",
       "      <th>389</th>\n",
       "      <td>1243</td>\n",
       "      <td>Asus</td>\n",
       "      <td>X540SA-RBPDN09 (N3710/4GB/1TB/W10)</td>\n",
       "      <td>Notebook</td>\n",
       "      <td>15.6</td>\n",
       "      <td>1366x768</td>\n",
       "      <td>4</td>\n",
       "      <td>Intel HD Graphics 405</td>\n",
       "      <td>Windows 10</td>\n",
       "      <td>2.65</td>\n",
       "      <td>1000</td>\n",
       "      <td>Intel</td>\n",
       "      <td>Pentium Quad Core N3710 1.6GHz</td>\n",
       "    </tr>\n",
       "    <tr>\n",
       "      <th>390</th>\n",
       "      <td>924</td>\n",
       "      <td>HP</td>\n",
       "      <td>Elitebook Folio</td>\n",
       "      <td>Ultrabook</td>\n",
       "      <td>12.5</td>\n",
       "      <td>3840x2160</td>\n",
       "      <td>8</td>\n",
       "      <td>Intel HD Graphics 515</td>\n",
       "      <td>Windows 10</td>\n",
       "      <td>1.09</td>\n",
       "      <td>240</td>\n",
       "      <td>Intel</td>\n",
       "      <td>Core M 6Y75 1.2GHz</td>\n",
       "    </tr>\n",
       "  </tbody>\n",
       "</table>\n",
       "<p>391 rows × 13 columns</p>\n",
       "</div>"
      ],
      "text/plain": [
       "     laptop_ID   Company                             Product  \\\n",
       "0          750   Toshiba                     Tecra X40-D-10G   \n",
       "1          726  Mediacom                       Smartbook 142   \n",
       "2          633  Mediacom                       SmartBook 140   \n",
       "3          363      Dell                       Inspiron 7577   \n",
       "4          319      Asus                       VivoBook Flip   \n",
       "..         ...       ...                                 ...   \n",
       "386        693      Dell                        Alienware 15   \n",
       "387       1132     Razer                       Blade Stealth   \n",
       "388         49      Dell                       Inspiron 3567   \n",
       "389       1243      Asus  X540SA-RBPDN09 (N3710/4GB/1TB/W10)   \n",
       "390        924        HP                     Elitebook Folio   \n",
       "\n",
       "               TypeName  Inches ScreenResolution  Ram_GB  \\\n",
       "0              Notebook    14.0        1920x1080       8   \n",
       "1              Notebook    14.0        1920x1200       4   \n",
       "2              Notebook    14.0        1920x1080       2   \n",
       "3                Gaming    15.6        1920x1080       8   \n",
       "4    2 in 1 Convertible    11.6         1366x768       2   \n",
       "..                  ...     ...              ...     ...   \n",
       "386              Gaming    15.6        1920x1080      16   \n",
       "387           Ultrabook    12.5        3840x2160       8   \n",
       "388            Notebook    15.6        1920x1080       4   \n",
       "389            Notebook    15.6         1366x768       4   \n",
       "390           Ultrabook    12.5        3840x2160       8   \n",
       "\n",
       "                         Gpu       OpSys  WeightInKgs  Capacidad_GB Cpu_brand  \\\n",
       "0      Intel HD Graphics 620  Windows 10         1.25           256     Intel   \n",
       "1      Intel HD Graphics 400  Windows 10         1.40            32     Intel   \n",
       "2          Intel HD Graphics  Windows 10         1.40            32     Intel   \n",
       "3    Nvidia GeForce GTX 1050  Windows 10         2.65          1000     Intel   \n",
       "4      Intel HD Graphics 500  Windows 10         1.10            32     Intel   \n",
       "..                       ...         ...          ...           ...       ...   \n",
       "386  Nvidia GeForce GTX 1070  Windows 10         3.49           256     Intel   \n",
       "387    Intel HD Graphics 520  Windows 10         1.25           256     Intel   \n",
       "388       AMD Radeon R5 M430  Windows 10         2.30           256     Intel   \n",
       "389    Intel HD Graphics 405  Windows 10         2.65          1000     Intel   \n",
       "390    Intel HD Graphics 515  Windows 10         1.09           240     Intel   \n",
       "\n",
       "                            CpuType  \n",
       "0              Core i5 7200U 2.5GHz  \n",
       "1                Atom Z8350 1.92GHz  \n",
       "2             Atom x5-Z8350 1.44GHz  \n",
       "3             Core i5 7300HQ 2.5GHz  \n",
       "4    Celeron Dual Core N3350 1.1GHz  \n",
       "..                              ...  \n",
       "386           Core i7 7820HK 2.9GHz  \n",
       "387            Core i7 6500U 2.5GHz  \n",
       "388            Core i5 7200U 2.5GHz  \n",
       "389  Pentium Quad Core N3710 1.6GHz  \n",
       "390              Core M 6Y75 1.2GHz  \n",
       "\n",
       "[391 rows x 13 columns]"
      ]
     },
     "execution_count": 104,
     "metadata": {},
     "output_type": "execute_result"
    }
   ],
   "source": [
    "test"
   ]
  },
  {
   "cell_type": "code",
   "execution_count": 60,
   "metadata": {},
   "outputs": [],
   "source": [
    "test.rename(columns={'Weight': 'WeightInKgs'}, inplace=True)\n",
    "test['WeightInKgs'] = test['WeightInKgs'].str.rstrip('kg')\n",
    "test['WeightInKgs'] = test['WeightInKgs'].astype(float)"
   ]
  },
  {
   "cell_type": "code",
   "execution_count": 61,
   "metadata": {},
   "outputs": [],
   "source": [
    "test['Ram'] = test['Ram'].str.rstrip('GB')\n",
    "test['Ram'] = test['Ram'].astype(int)\n",
    "test.rename(columns={'Ram': 'Ram_GB'}, inplace=True)"
   ]
  },
  {
   "cell_type": "code",
   "execution_count": 62,
   "metadata": {},
   "outputs": [],
   "source": [
    "test = pd.DataFrame(test)\n",
    "\n",
    "# Regular expression pattern para extraer números antes de GB y TB\n",
    "pattern = r'(\\d+)GB|\\s*(\\d+)TB'\n",
    "\n",
    "# Aplica el patrón y crea una nueva columna 'Capacidad_GB' con los números antes de GB\n",
    "test['Capacidad_GB'] = test['Memory'].str.extract(pattern)[0]\n",
    "\n",
    "# Aplica el patrón y crea una nueva columna 'Capacidad_TB' con los números antes de TB\n",
    "test['Capacidad_TB'] = test['Memory'].str.extract(pattern)[1]\n"
   ]
  },
  {
   "cell_type": "code",
   "execution_count": 63,
   "metadata": {},
   "outputs": [],
   "source": [
    "test['Capacidad_TB'].fillna(0, inplace=True)\n",
    "test['Capacidad_TB'] = test['Capacidad_TB'].astype(int)\n",
    "test['Capacidad_TB'] = test['Capacidad_TB'].apply(lambda x: x*1000)\n",
    "\n",
    "test['Capacidad_GB'].fillna(0, inplace=True)\n",
    "test['Capacidad_GB'] = test['Capacidad_GB'].astype(int)\n",
    "test['Capacidad_GB'] = test['Capacidad_GB']+test['Capacidad_TB']\n",
    "test[test['Capacidad_GB']== 0] = 1000\n",
    "columns_delete = ['Memory','Capacidad_TB']\n",
    "test = test.drop(columns_delete, axis=1)"
   ]
  },
  {
   "cell_type": "code",
   "execution_count": 64,
   "metadata": {},
   "outputs": [],
   "source": [
    "test[['ScreenType', 'ScreenResolution']] = test['ScreenResolution'].str.rsplit(' ', n=1, expand=True)\n",
    "test['ScreenResolution'] = test['ScreenResolution'].fillna(test['ScreenType'])"
   ]
  },
  {
   "cell_type": "code",
   "execution_count": 71,
   "metadata": {},
   "outputs": [],
   "source": [
    "test = test.drop('ScreenType', axis = 1)"
   ]
  },
  {
   "cell_type": "code",
   "execution_count": 65,
   "metadata": {},
   "outputs": [],
   "source": [
    "test[['Cpu_brand', 'CpuType']] = test['Cpu'].str.split(' ', n=1, expand=True)\n",
    "test = test.drop('Cpu', axis= 1)"
   ]
  },
  {
   "cell_type": "markdown",
   "metadata": {},
   "source": [
    "### TRAIN\n",
    "Hacemos las modifciaciones en train"
   ]
  },
  {
   "cell_type": "code",
   "execution_count": 4,
   "metadata": {},
   "outputs": [
    {
     "name": "stdout",
     "output_type": "stream",
     "text": [
      "<class 'pandas.core.frame.DataFrame'>\n",
      "RangeIndex: 912 entries, 0 to 911\n",
      "Data columns (total 13 columns):\n",
      " #   Column            Non-Null Count  Dtype  \n",
      "---  ------            --------------  -----  \n",
      " 0   laptop_ID         912 non-null    int64  \n",
      " 1   Company           912 non-null    object \n",
      " 2   Product           912 non-null    object \n",
      " 3   TypeName          912 non-null    object \n",
      " 4   Inches            912 non-null    float64\n",
      " 5   ScreenResolution  912 non-null    object \n",
      " 6   Cpu               912 non-null    object \n",
      " 7   Ram               912 non-null    object \n",
      " 8   Memory            912 non-null    object \n",
      " 9   Gpu               912 non-null    object \n",
      " 10  OpSys             912 non-null    object \n",
      " 11  Weight            912 non-null    object \n",
      " 12  Price_euros       912 non-null    float64\n",
      "dtypes: float64(2), int64(1), object(10)\n",
      "memory usage: 92.8+ KB\n"
     ]
    }
   ],
   "source": [
    "train.info()"
   ]
  },
  {
   "cell_type": "code",
   "execution_count": 5,
   "metadata": {},
   "outputs": [
    {
     "data": {
      "text/html": [
       "<div>\n",
       "<style scoped>\n",
       "    .dataframe tbody tr th:only-of-type {\n",
       "        vertical-align: middle;\n",
       "    }\n",
       "\n",
       "    .dataframe tbody tr th {\n",
       "        vertical-align: top;\n",
       "    }\n",
       "\n",
       "    .dataframe thead th {\n",
       "        text-align: right;\n",
       "    }\n",
       "</style>\n",
       "<table border=\"1\" class=\"dataframe\">\n",
       "  <thead>\n",
       "    <tr style=\"text-align: right;\">\n",
       "      <th></th>\n",
       "      <th>laptop_ID</th>\n",
       "      <th>Company</th>\n",
       "      <th>Product</th>\n",
       "      <th>TypeName</th>\n",
       "      <th>Inches</th>\n",
       "      <th>ScreenResolution</th>\n",
       "      <th>Cpu</th>\n",
       "      <th>Ram</th>\n",
       "      <th>Memory</th>\n",
       "      <th>Gpu</th>\n",
       "      <th>OpSys</th>\n",
       "      <th>Weight</th>\n",
       "      <th>Price_euros</th>\n",
       "    </tr>\n",
       "  </thead>\n",
       "  <tbody>\n",
       "    <tr>\n",
       "      <th>0</th>\n",
       "      <td>1104</td>\n",
       "      <td>Acer</td>\n",
       "      <td>Aspire ES1-523</td>\n",
       "      <td>Notebook</td>\n",
       "      <td>15.6</td>\n",
       "      <td>1366x768</td>\n",
       "      <td>AMD A8-Series 7410 2.2GHz</td>\n",
       "      <td>4GB</td>\n",
       "      <td>500GB HDD</td>\n",
       "      <td>AMD Radeon R5</td>\n",
       "      <td>Windows 10</td>\n",
       "      <td>2.4kg</td>\n",
       "      <td>387.0</td>\n",
       "    </tr>\n",
       "    <tr>\n",
       "      <th>1</th>\n",
       "      <td>114</td>\n",
       "      <td>Dell</td>\n",
       "      <td>XPS 13</td>\n",
       "      <td>Ultrabook</td>\n",
       "      <td>13.3</td>\n",
       "      <td>Quad HD+ / Touchscreen 3200x1800</td>\n",
       "      <td>Intel Core i7 7560U 2.4GHz</td>\n",
       "      <td>8GB</td>\n",
       "      <td>256GB SSD</td>\n",
       "      <td>Intel Iris Plus Graphics 640</td>\n",
       "      <td>Windows 10</td>\n",
       "      <td>1.23kg</td>\n",
       "      <td>1379.0</td>\n",
       "    </tr>\n",
       "    <tr>\n",
       "      <th>2</th>\n",
       "      <td>172</td>\n",
       "      <td>Acer</td>\n",
       "      <td>Aspire A517-51G</td>\n",
       "      <td>Notebook</td>\n",
       "      <td>17.3</td>\n",
       "      <td>IPS Panel Full HD 1920x1080</td>\n",
       "      <td>Intel Core i5 8250U 1.6GHz</td>\n",
       "      <td>8GB</td>\n",
       "      <td>256GB SSD</td>\n",
       "      <td>Nvidia GeForce MX150</td>\n",
       "      <td>Windows 10</td>\n",
       "      <td>3kg</td>\n",
       "      <td>854.0</td>\n",
       "    </tr>\n",
       "    <tr>\n",
       "      <th>3</th>\n",
       "      <td>918</td>\n",
       "      <td>HP</td>\n",
       "      <td>Elitebook 820</td>\n",
       "      <td>Netbook</td>\n",
       "      <td>12.5</td>\n",
       "      <td>Full HD 1920x1080</td>\n",
       "      <td>Intel Core i7 7500U 2.7GHz</td>\n",
       "      <td>8GB</td>\n",
       "      <td>512GB SSD</td>\n",
       "      <td>Intel HD Graphics 620</td>\n",
       "      <td>Windows 10</td>\n",
       "      <td>1.26kg</td>\n",
       "      <td>1483.0</td>\n",
       "    </tr>\n",
       "    <tr>\n",
       "      <th>4</th>\n",
       "      <td>447</td>\n",
       "      <td>Lenovo</td>\n",
       "      <td>IdeaPad 320-15AST</td>\n",
       "      <td>Notebook</td>\n",
       "      <td>17.3</td>\n",
       "      <td>1600x900</td>\n",
       "      <td>AMD A6-Series 9220 2.5GHz</td>\n",
       "      <td>8GB</td>\n",
       "      <td>1TB HDD</td>\n",
       "      <td>AMD Radeon R4</td>\n",
       "      <td>Windows 10</td>\n",
       "      <td>2.8kg</td>\n",
       "      <td>519.0</td>\n",
       "    </tr>\n",
       "  </tbody>\n",
       "</table>\n",
       "</div>"
      ],
      "text/plain": [
       "   laptop_ID Company            Product   TypeName  Inches  \\\n",
       "0       1104    Acer     Aspire ES1-523   Notebook    15.6   \n",
       "1        114    Dell             XPS 13  Ultrabook    13.3   \n",
       "2        172    Acer    Aspire A517-51G   Notebook    17.3   \n",
       "3        918      HP      Elitebook 820    Netbook    12.5   \n",
       "4        447  Lenovo  IdeaPad 320-15AST   Notebook    17.3   \n",
       "\n",
       "                   ScreenResolution                         Cpu  Ram  \\\n",
       "0                          1366x768   AMD A8-Series 7410 2.2GHz  4GB   \n",
       "1  Quad HD+ / Touchscreen 3200x1800  Intel Core i7 7560U 2.4GHz  8GB   \n",
       "2       IPS Panel Full HD 1920x1080  Intel Core i5 8250U 1.6GHz  8GB   \n",
       "3                 Full HD 1920x1080  Intel Core i7 7500U 2.7GHz  8GB   \n",
       "4                          1600x900   AMD A6-Series 9220 2.5GHz  8GB   \n",
       "\n",
       "      Memory                           Gpu       OpSys  Weight  Price_euros  \n",
       "0  500GB HDD                 AMD Radeon R5  Windows 10   2.4kg        387.0  \n",
       "1  256GB SSD  Intel Iris Plus Graphics 640  Windows 10  1.23kg       1379.0  \n",
       "2  256GB SSD          Nvidia GeForce MX150  Windows 10     3kg        854.0  \n",
       "3  512GB SSD         Intel HD Graphics 620  Windows 10  1.26kg       1483.0  \n",
       "4    1TB HDD                 AMD Radeon R4  Windows 10   2.8kg        519.0  "
      ]
     },
     "execution_count": 5,
     "metadata": {},
     "output_type": "execute_result"
    }
   ],
   "source": [
    "train.head()"
   ]
  },
  {
   "cell_type": "code",
   "execution_count": 6,
   "metadata": {},
   "outputs": [
    {
     "name": "stdout",
     "output_type": "stream",
     "text": [
      "['Acer' 'Dell' 'HP' 'Lenovo' 'Asus' 'Xiaomi' 'Apple' 'Samsung' 'Razer'\n",
      " 'Toshiba' 'Fujitsu' 'Microsoft' 'MSI' 'LG' 'Mediacom' 'Google' 'Vero'\n",
      " 'Huawei' 'Chuwi']\n",
      "['Notebook' 'Ultrabook' 'Netbook' 'Gaming' '2 in 1 Convertible'\n",
      " 'Workstation']\n",
      "['1366x768' 'Quad HD+ / Touchscreen 3200x1800'\n",
      " 'IPS Panel Full HD 1920x1080' 'Full HD 1920x1080' '1600x900'\n",
      " 'IPS Panel Full HD / Touchscreen 1920x1080'\n",
      " 'IPS Panel Retina Display 2304x1440'\n",
      " '4K Ultra HD / Touchscreen 3840x2160' 'Touchscreen 2560x1440'\n",
      " 'Full HD / Touchscreen 1920x1080' '1440x900'\n",
      " 'IPS Panel Quad HD+ / Touchscreen 3200x1800' 'Touchscreen 2256x1504'\n",
      " 'IPS Panel 4K Ultra HD / Touchscreen 3840x2160'\n",
      " 'IPS Panel Touchscreen / 4K Ultra HD 3840x2160' 'IPS Panel 1366x768'\n",
      " '4K Ultra HD 3840x2160' 'IPS Panel 4K Ultra HD 3840x2160'\n",
      " 'IPS Panel Retina Display 2880x1800' 'IPS Panel Touchscreen 2560x1440'\n",
      " 'Touchscreen 1366x768' '2560x1440' 'IPS Panel Retina Display 2560x1600'\n",
      " 'Quad HD+ 3200x1800' 'IPS Panel Full HD 2560x1440' '1920x1080'\n",
      " 'Touchscreen 2400x1600' 'IPS Panel 2560x1440'\n",
      " 'IPS Panel Quad HD+ 3200x1800' 'IPS Panel Touchscreen 1366x768'\n",
      " 'IPS Panel Touchscreen 1920x1200' 'Touchscreen / Quad HD+ 3200x1800'\n",
      " 'IPS Panel Quad HD+ 2560x1440' 'IPS Panel Full HD 2160x1440']\n"
     ]
    },
    {
     "ename": "KeyError",
     "evalue": "'Ram_GB'",
     "output_type": "error",
     "traceback": [
      "\u001b[1;31m---------------------------------------------------------------------------\u001b[0m",
      "\u001b[1;31mKeyError\u001b[0m                                  Traceback (most recent call last)",
      "File \u001b[1;32mc:\\Users\\laura\\OneDrive\\Desktop\\DS_PT_09_2023\\.venv\\Lib\\site-packages\\pandas\\core\\indexes\\base.py:3790\u001b[0m, in \u001b[0;36mIndex.get_loc\u001b[1;34m(self, key)\u001b[0m\n\u001b[0;32m   3789\u001b[0m \u001b[38;5;28;01mtry\u001b[39;00m:\n\u001b[1;32m-> 3790\u001b[0m     \u001b[38;5;28;01mreturn\u001b[39;00m \u001b[38;5;28;43mself\u001b[39;49m\u001b[38;5;241;43m.\u001b[39;49m\u001b[43m_engine\u001b[49m\u001b[38;5;241;43m.\u001b[39;49m\u001b[43mget_loc\u001b[49m\u001b[43m(\u001b[49m\u001b[43mcasted_key\u001b[49m\u001b[43m)\u001b[49m\n\u001b[0;32m   3791\u001b[0m \u001b[38;5;28;01mexcept\u001b[39;00m \u001b[38;5;167;01mKeyError\u001b[39;00m \u001b[38;5;28;01mas\u001b[39;00m err:\n",
      "File \u001b[1;32mindex.pyx:152\u001b[0m, in \u001b[0;36mpandas._libs.index.IndexEngine.get_loc\u001b[1;34m()\u001b[0m\n",
      "File \u001b[1;32mindex.pyx:181\u001b[0m, in \u001b[0;36mpandas._libs.index.IndexEngine.get_loc\u001b[1;34m()\u001b[0m\n",
      "File \u001b[1;32mpandas\\_libs\\hashtable_class_helper.pxi:7080\u001b[0m, in \u001b[0;36mpandas._libs.hashtable.PyObjectHashTable.get_item\u001b[1;34m()\u001b[0m\n",
      "File \u001b[1;32mpandas\\_libs\\hashtable_class_helper.pxi:7088\u001b[0m, in \u001b[0;36mpandas._libs.hashtable.PyObjectHashTable.get_item\u001b[1;34m()\u001b[0m\n",
      "\u001b[1;31mKeyError\u001b[0m: 'Ram_GB'",
      "\nThe above exception was the direct cause of the following exception:\n",
      "\u001b[1;31mKeyError\u001b[0m                                  Traceback (most recent call last)",
      "Cell \u001b[1;32mIn[6], line 7\u001b[0m\n\u001b[0;32m      3\u001b[0m \u001b[38;5;28mprint\u001b[39m(train[\u001b[38;5;124m'\u001b[39m\u001b[38;5;124mTypeName\u001b[39m\u001b[38;5;124m'\u001b[39m]\u001b[38;5;241m.\u001b[39munique())  \u001b[38;5;66;03m#convertir\u001b[39;00m\n\u001b[0;32m      5\u001b[0m \u001b[38;5;28mprint\u001b[39m(train[\u001b[38;5;124m'\u001b[39m\u001b[38;5;124mScreenResolution\u001b[39m\u001b[38;5;124m'\u001b[39m]\u001b[38;5;241m.\u001b[39munique())\n\u001b[1;32m----> 7\u001b[0m \u001b[38;5;28mprint\u001b[39m(\u001b[43mtrain\u001b[49m\u001b[43m[\u001b[49m\u001b[38;5;124;43m'\u001b[39;49m\u001b[38;5;124;43mRam_GB\u001b[39;49m\u001b[38;5;124;43m'\u001b[39;49m\u001b[43m]\u001b[49m\u001b[38;5;241m.\u001b[39munique())\n\u001b[0;32m      9\u001b[0m \u001b[38;5;28mprint\u001b[39m(train[\u001b[38;5;124m'\u001b[39m\u001b[38;5;124mMemory\u001b[39m\u001b[38;5;124m'\u001b[39m]\u001b[38;5;241m.\u001b[39munique())\n\u001b[0;32m     11\u001b[0m \u001b[38;5;28mprint\u001b[39m(train[\u001b[38;5;124m'\u001b[39m\u001b[38;5;124mOpSys\u001b[39m\u001b[38;5;124m'\u001b[39m]\u001b[38;5;241m.\u001b[39munique())    \u001b[38;5;66;03m#convertir\u001b[39;00m\n",
      "File \u001b[1;32mc:\\Users\\laura\\OneDrive\\Desktop\\DS_PT_09_2023\\.venv\\Lib\\site-packages\\pandas\\core\\frame.py:3896\u001b[0m, in \u001b[0;36mDataFrame.__getitem__\u001b[1;34m(self, key)\u001b[0m\n\u001b[0;32m   3894\u001b[0m \u001b[38;5;28;01mif\u001b[39;00m \u001b[38;5;28mself\u001b[39m\u001b[38;5;241m.\u001b[39mcolumns\u001b[38;5;241m.\u001b[39mnlevels \u001b[38;5;241m>\u001b[39m \u001b[38;5;241m1\u001b[39m:\n\u001b[0;32m   3895\u001b[0m     \u001b[38;5;28;01mreturn\u001b[39;00m \u001b[38;5;28mself\u001b[39m\u001b[38;5;241m.\u001b[39m_getitem_multilevel(key)\n\u001b[1;32m-> 3896\u001b[0m indexer \u001b[38;5;241m=\u001b[39m \u001b[38;5;28;43mself\u001b[39;49m\u001b[38;5;241;43m.\u001b[39;49m\u001b[43mcolumns\u001b[49m\u001b[38;5;241;43m.\u001b[39;49m\u001b[43mget_loc\u001b[49m\u001b[43m(\u001b[49m\u001b[43mkey\u001b[49m\u001b[43m)\u001b[49m\n\u001b[0;32m   3897\u001b[0m \u001b[38;5;28;01mif\u001b[39;00m is_integer(indexer):\n\u001b[0;32m   3898\u001b[0m     indexer \u001b[38;5;241m=\u001b[39m [indexer]\n",
      "File \u001b[1;32mc:\\Users\\laura\\OneDrive\\Desktop\\DS_PT_09_2023\\.venv\\Lib\\site-packages\\pandas\\core\\indexes\\base.py:3797\u001b[0m, in \u001b[0;36mIndex.get_loc\u001b[1;34m(self, key)\u001b[0m\n\u001b[0;32m   3792\u001b[0m     \u001b[38;5;28;01mif\u001b[39;00m \u001b[38;5;28misinstance\u001b[39m(casted_key, \u001b[38;5;28mslice\u001b[39m) \u001b[38;5;129;01mor\u001b[39;00m (\n\u001b[0;32m   3793\u001b[0m         \u001b[38;5;28misinstance\u001b[39m(casted_key, abc\u001b[38;5;241m.\u001b[39mIterable)\n\u001b[0;32m   3794\u001b[0m         \u001b[38;5;129;01mand\u001b[39;00m \u001b[38;5;28many\u001b[39m(\u001b[38;5;28misinstance\u001b[39m(x, \u001b[38;5;28mslice\u001b[39m) \u001b[38;5;28;01mfor\u001b[39;00m x \u001b[38;5;129;01min\u001b[39;00m casted_key)\n\u001b[0;32m   3795\u001b[0m     ):\n\u001b[0;32m   3796\u001b[0m         \u001b[38;5;28;01mraise\u001b[39;00m InvalidIndexError(key)\n\u001b[1;32m-> 3797\u001b[0m     \u001b[38;5;28;01mraise\u001b[39;00m \u001b[38;5;167;01mKeyError\u001b[39;00m(key) \u001b[38;5;28;01mfrom\u001b[39;00m \u001b[38;5;21;01merr\u001b[39;00m\n\u001b[0;32m   3798\u001b[0m \u001b[38;5;28;01mexcept\u001b[39;00m \u001b[38;5;167;01mTypeError\u001b[39;00m:\n\u001b[0;32m   3799\u001b[0m     \u001b[38;5;66;03m# If we have a listlike key, _check_indexing_error will raise\u001b[39;00m\n\u001b[0;32m   3800\u001b[0m     \u001b[38;5;66;03m#  InvalidIndexError. Otherwise we fall through and re-raise\u001b[39;00m\n\u001b[0;32m   3801\u001b[0m     \u001b[38;5;66;03m#  the TypeError.\u001b[39;00m\n\u001b[0;32m   3802\u001b[0m     \u001b[38;5;28mself\u001b[39m\u001b[38;5;241m.\u001b[39m_check_indexing_error(key)\n",
      "\u001b[1;31mKeyError\u001b[0m: 'Ram_GB'"
     ]
    }
   ],
   "source": [
    "print(train['Company'].unique())\n",
    "\n",
    "print(train['TypeName'].unique())  #convertir\n",
    "\n",
    "print(train['ScreenResolution'].unique())\n",
    "\n",
    "print(train['Ram_GB'].unique())\n",
    "\n",
    "print(train['Memory'].unique())\n",
    "\n",
    "print(train['OpSys'].unique())    #convertir\n"
   ]
  },
  {
   "cell_type": "code",
   "execution_count": 8,
   "metadata": {},
   "outputs": [],
   "source": [
    "train.rename(columns={'Weight': 'WeightInKgs'}, inplace=True)\n",
    "train['WeightInKgs'] = train['WeightInKgs'].str.rstrip('kg')\n",
    "train['WeightInKgs'] = train['WeightInKgs'].astype(float)"
   ]
  },
  {
   "cell_type": "code",
   "execution_count": 9,
   "metadata": {},
   "outputs": [],
   "source": [
    "train['Ram'] = train['Ram'].str.rstrip('GB')\n",
    "# train['Ram'] = train['Ram'].map(lambda x : x.str.rstrip('GB'))  es lo mismo. Se podria crear una columna nueva ram_l x ej para qeu se vean estos datos, pero luego habria que drop las antiguas para no tener columnas duplicadas\n",
    "train['Ram'] = train['Ram'].astype(int)\n",
    "train.rename(columns={'Ram': 'Ram_GB'}, inplace=True)"
   ]
  },
  {
   "cell_type": "markdown",
   "metadata": {},
   "source": [
    "**Para columnas categoricas**\n"
   ]
  },
  {
   "cell_type": "markdown",
   "metadata": {},
   "source": [
    "**Memory** pasos a seguir:\n",
    "- Separar numerico con tb o gb\n",
    "- transformar tb a gb\n",
    "- eliminar gb\n",
    "- separar "
   ]
  },
  {
   "cell_type": "code",
   "execution_count": 10,
   "metadata": {},
   "outputs": [],
   "source": [
    "train = pd.DataFrame(train)\n",
    "\n",
    "# Regular expression pattern para extraer números antes de GB y TB\n",
    "pattern = r'(\\d+)GB|\\s*(\\d+)TB'\n",
    "\n",
    "# Aplica el patrón y crea una nueva columna 'Capacidad_GB' con los números antes de GB\n",
    "train['Capacidad_GB'] = train['Memory'].str.extract(pattern)[0]\n",
    "\n",
    "# Aplica el patrón y crea una nueva columna 'Capacidad_TB' con los números antes de TB\n",
    "train['Capacidad_TB'] = train['Memory'].str.extract(pattern)[1]\n"
   ]
  },
  {
   "cell_type": "code",
   "execution_count": 11,
   "metadata": {},
   "outputs": [],
   "source": [
    "train['Capacidad_TB'].fillna(0, inplace=True)\n",
    "train['Capacidad_TB'] = train['Capacidad_TB'].astype(int)\n",
    "train['Capacidad_TB'] = train['Capacidad_TB'].apply(lambda x: x*1000)\n",
    "\n",
    "train['Capacidad_GB'].fillna(0, inplace=True)\n",
    "train['Capacidad_GB'] = train['Capacidad_GB'].astype(int)\n",
    "train['Capacidad_GB'] = train['Capacidad_GB']+train['Capacidad_TB']\n",
    "train[train['Capacidad_GB']== 0] = 1000\n",
    "\n"
   ]
  },
  {
   "cell_type": "code",
   "execution_count": 13,
   "metadata": {},
   "outputs": [
    {
     "data": {
      "text/plain": [
       "(912, 15)"
      ]
     },
     "execution_count": 13,
     "metadata": {},
     "output_type": "execute_result"
    }
   ],
   "source": [
    "train.shape\n"
   ]
  },
  {
   "cell_type": "code",
   "execution_count": 14,
   "metadata": {},
   "outputs": [
    {
     "data": {
      "text/plain": [
       "Capacidad_GB\n",
       "256     357\n",
       "1000    173\n",
       "128     130\n",
       "512      98\n",
       "500      95\n",
       "32       29\n",
       "64       11\n",
       "2000      9\n",
       "16        7\n",
       "180       2\n",
       "508       1\n",
       "Name: count, dtype: int64"
      ]
     },
     "execution_count": 14,
     "metadata": {},
     "output_type": "execute_result"
    }
   ],
   "source": [
    "train['Capacidad_GB'].value_counts()"
   ]
  },
  {
   "cell_type": "code",
   "execution_count": 45,
   "metadata": {},
   "outputs": [],
   "source": [
    "columns_delete = ['Memory','Capacidad_TB']\n",
    "train = train.drop(columns_delete, axis=1)"
   ]
  },
  {
   "cell_type": "markdown",
   "metadata": {},
   "source": [
    "**Screen**\n",
    "- dividir entre lo que hay delante de la resolucion y convertir a numero."
   ]
  },
  {
   "cell_type": "code",
   "execution_count": 40,
   "metadata": {},
   "outputs": [
    {
     "ename": "ValueError",
     "evalue": "Columns must be same length as key",
     "output_type": "error",
     "traceback": [
      "\u001b[1;31m---------------------------------------------------------------------------\u001b[0m",
      "\u001b[1;31mValueError\u001b[0m                                Traceback (most recent call last)",
      "Cell \u001b[1;32mIn[40], line 1\u001b[0m\n\u001b[1;32m----> 1\u001b[0m \u001b[43mtrain\u001b[49m\u001b[43m[\u001b[49m\u001b[43m[\u001b[49m\u001b[38;5;124;43m'\u001b[39;49m\u001b[38;5;124;43mScreenType\u001b[39;49m\u001b[38;5;124;43m'\u001b[39;49m\u001b[43m,\u001b[49m\u001b[43m \u001b[49m\u001b[38;5;124;43m'\u001b[39;49m\u001b[38;5;124;43mScreenResolution\u001b[39;49m\u001b[38;5;124;43m'\u001b[39;49m\u001b[43m]\u001b[49m\u001b[43m]\u001b[49m \u001b[38;5;241m=\u001b[39m train[\u001b[38;5;124m'\u001b[39m\u001b[38;5;124mScreenResolution\u001b[39m\u001b[38;5;124m'\u001b[39m]\u001b[38;5;241m.\u001b[39mstr\u001b[38;5;241m.\u001b[39mrsplit(\u001b[38;5;124m'\u001b[39m\u001b[38;5;124m \u001b[39m\u001b[38;5;124m'\u001b[39m, n\u001b[38;5;241m=\u001b[39m\u001b[38;5;241m1\u001b[39m, expand\u001b[38;5;241m=\u001b[39m\u001b[38;5;28;01mTrue\u001b[39;00m)\n\u001b[0;32m      2\u001b[0m train[\u001b[38;5;124m'\u001b[39m\u001b[38;5;124mScreenResolution\u001b[39m\u001b[38;5;124m'\u001b[39m] \u001b[38;5;241m=\u001b[39m train[\u001b[38;5;124m'\u001b[39m\u001b[38;5;124mScreenResolution\u001b[39m\u001b[38;5;124m'\u001b[39m]\u001b[38;5;241m.\u001b[39mfillna(train[\u001b[38;5;124m'\u001b[39m\u001b[38;5;124mScreenType\u001b[39m\u001b[38;5;124m'\u001b[39m])\n\u001b[0;32m      3\u001b[0m train \u001b[38;5;241m=\u001b[39m train\u001b[38;5;241m.\u001b[39mdrop(\u001b[38;5;124m'\u001b[39m\u001b[38;5;124mScreenType\u001b[39m\u001b[38;5;124m'\u001b[39m, axis \u001b[38;5;241m=\u001b[39m \u001b[38;5;241m1\u001b[39m)\n",
      "File \u001b[1;32mc:\\Users\\laura\\OneDrive\\Desktop\\DS_PT_09_2023\\.venv\\Lib\\site-packages\\pandas\\core\\frame.py:4082\u001b[0m, in \u001b[0;36mDataFrame.__setitem__\u001b[1;34m(self, key, value)\u001b[0m\n\u001b[0;32m   4080\u001b[0m     \u001b[38;5;28mself\u001b[39m\u001b[38;5;241m.\u001b[39m_setitem_frame(key, value)\n\u001b[0;32m   4081\u001b[0m \u001b[38;5;28;01melif\u001b[39;00m \u001b[38;5;28misinstance\u001b[39m(key, (Series, np\u001b[38;5;241m.\u001b[39mndarray, \u001b[38;5;28mlist\u001b[39m, Index)):\n\u001b[1;32m-> 4082\u001b[0m     \u001b[38;5;28;43mself\u001b[39;49m\u001b[38;5;241;43m.\u001b[39;49m\u001b[43m_setitem_array\u001b[49m\u001b[43m(\u001b[49m\u001b[43mkey\u001b[49m\u001b[43m,\u001b[49m\u001b[43m \u001b[49m\u001b[43mvalue\u001b[49m\u001b[43m)\u001b[49m\n\u001b[0;32m   4083\u001b[0m \u001b[38;5;28;01melif\u001b[39;00m \u001b[38;5;28misinstance\u001b[39m(value, DataFrame):\n\u001b[0;32m   4084\u001b[0m     \u001b[38;5;28mself\u001b[39m\u001b[38;5;241m.\u001b[39m_set_item_frame_value(key, value)\n",
      "File \u001b[1;32mc:\\Users\\laura\\OneDrive\\Desktop\\DS_PT_09_2023\\.venv\\Lib\\site-packages\\pandas\\core\\frame.py:4124\u001b[0m, in \u001b[0;36mDataFrame._setitem_array\u001b[1;34m(self, key, value)\u001b[0m\n\u001b[0;32m   4119\u001b[0m \u001b[38;5;28;01melse\u001b[39;00m:\n\u001b[0;32m   4120\u001b[0m     \u001b[38;5;66;03m# Note: unlike self.iloc[:, indexer] = value, this will\u001b[39;00m\n\u001b[0;32m   4121\u001b[0m     \u001b[38;5;66;03m#  never try to overwrite values inplace\u001b[39;00m\n\u001b[0;32m   4123\u001b[0m     \u001b[38;5;28;01mif\u001b[39;00m \u001b[38;5;28misinstance\u001b[39m(value, DataFrame):\n\u001b[1;32m-> 4124\u001b[0m         \u001b[43mcheck_key_length\u001b[49m\u001b[43m(\u001b[49m\u001b[38;5;28;43mself\u001b[39;49m\u001b[38;5;241;43m.\u001b[39;49m\u001b[43mcolumns\u001b[49m\u001b[43m,\u001b[49m\u001b[43m \u001b[49m\u001b[43mkey\u001b[49m\u001b[43m,\u001b[49m\u001b[43m \u001b[49m\u001b[43mvalue\u001b[49m\u001b[43m)\u001b[49m\n\u001b[0;32m   4125\u001b[0m         \u001b[38;5;28;01mfor\u001b[39;00m k1, k2 \u001b[38;5;129;01min\u001b[39;00m \u001b[38;5;28mzip\u001b[39m(key, value\u001b[38;5;241m.\u001b[39mcolumns):\n\u001b[0;32m   4126\u001b[0m             \u001b[38;5;28mself\u001b[39m[k1] \u001b[38;5;241m=\u001b[39m value[k2]\n",
      "File \u001b[1;32mc:\\Users\\laura\\OneDrive\\Desktop\\DS_PT_09_2023\\.venv\\Lib\\site-packages\\pandas\\core\\indexers\\utils.py:390\u001b[0m, in \u001b[0;36mcheck_key_length\u001b[1;34m(columns, key, value)\u001b[0m\n\u001b[0;32m    388\u001b[0m \u001b[38;5;28;01mif\u001b[39;00m columns\u001b[38;5;241m.\u001b[39mis_unique:\n\u001b[0;32m    389\u001b[0m     \u001b[38;5;28;01mif\u001b[39;00m \u001b[38;5;28mlen\u001b[39m(value\u001b[38;5;241m.\u001b[39mcolumns) \u001b[38;5;241m!=\u001b[39m \u001b[38;5;28mlen\u001b[39m(key):\n\u001b[1;32m--> 390\u001b[0m         \u001b[38;5;28;01mraise\u001b[39;00m \u001b[38;5;167;01mValueError\u001b[39;00m(\u001b[38;5;124m\"\u001b[39m\u001b[38;5;124mColumns must be same length as key\u001b[39m\u001b[38;5;124m\"\u001b[39m)\n\u001b[0;32m    391\u001b[0m \u001b[38;5;28;01melse\u001b[39;00m:\n\u001b[0;32m    392\u001b[0m     \u001b[38;5;66;03m# Missing keys in columns are represented as -1\u001b[39;00m\n\u001b[0;32m    393\u001b[0m     \u001b[38;5;28;01mif\u001b[39;00m \u001b[38;5;28mlen\u001b[39m(columns\u001b[38;5;241m.\u001b[39mget_indexer_non_unique(key)[\u001b[38;5;241m0\u001b[39m]) \u001b[38;5;241m!=\u001b[39m \u001b[38;5;28mlen\u001b[39m(value\u001b[38;5;241m.\u001b[39mcolumns):\n",
      "\u001b[1;31mValueError\u001b[0m: Columns must be same length as key"
     ]
    }
   ],
   "source": [
    "train[['ScreenType', 'ScreenResolution']] = train['ScreenResolution'].str.rsplit(' ', n=1, expand=True)\n",
    "train['ScreenResolution'] = train['ScreenResolution'].fillna(train['ScreenType'])\n"
   ]
  },
  {
   "cell_type": "code",
   "execution_count": 42,
   "metadata": {},
   "outputs": [],
   "source": [
    "train = train.drop('ScreenType', axis = 1)"
   ]
  },
  {
   "cell_type": "markdown",
   "metadata": {},
   "source": [
    "**CPU**"
   ]
  },
  {
   "cell_type": "code",
   "execution_count": 56,
   "metadata": {},
   "outputs": [],
   "source": [
    "train[['Cpu_brand', 'CpuType']] = train['Cpu'].str.split(' ', n=1, expand=True)\n",
    "train = train.drop('Cpu', axis= 1)"
   ]
  },
  {
   "cell_type": "markdown",
   "metadata": {},
   "source": [
    "### OneHotEncoder\n",
    "\n",
    "Aplicamos la función para los dos df TRAIN y TEST"
   ]
  },
  {
   "cell_type": "code",
   "execution_count": 58,
   "metadata": {},
   "outputs": [],
   "source": [
    "# def apply_onehot_encoder(train:pd.DataFrame, columns_to_encode:list, test:pd.DataFrame=None):\n",
    "    \n",
    "#     # Resetear índices para evitar desalineación\n",
    "#     train = train.reset_index(drop=True)\n",
    "    \n",
    "#     # Crear el OneHotEncoder\n",
    "#     encoder = OneHotEncoder(sparse=False, handle_unknown='ignore')\n",
    "\n",
    "#     # Ajustar y transformar las columnas seleccionadas\n",
    "#     transformed_data = encoder.fit_transform(train[columns_to_encode])\n",
    "\n",
    "#     # Crear un DataFrame con las columnas transformadas\n",
    "#     transformed_df = pd.DataFrame(transformed_data, columns=encoder.get_feature_names_out(columns_to_encode))\n",
    "    \n",
    "#     # Concatenar con el DataFrame original excluyendo las columnas transformadas\n",
    "#     df_concatenated = pd.concat([train.drop(columns_to_encode, axis=1), transformed_df], axis=1)\n",
    "\n",
    "#     # Si se proporciona un segundo DataFrame, aplicar la misma transformación\n",
    "#     if test is not None:\n",
    "#         transformed_data_to_transform = encoder.transform(test[columns_to_encode])\n",
    "#         transformed_df_to_transform = pd.DataFrame(transformed_data_to_transform, columns=encoder.get_feature_names_out(columns_to_encode))\n",
    "#         df_to_transform_concatenated = pd.concat([test.drop(columns_to_encode, axis=1), transformed_df_to_transform], axis=1)\n",
    "#         return df_concatenated, df_to_transform_concatenated\n",
    "\n",
    "#     return df_concatenated"
   ]
  },
  {
   "cell_type": "markdown",
   "metadata": {},
   "source": [
    "Me daba error de tipo, asi que he añadido una linea a la función de juan, para que se todo se transforme a strings. ERA PORQUE HAY NANS"
   ]
  },
  {
   "cell_type": "code",
   "execution_count": 82,
   "metadata": {},
   "outputs": [],
   "source": [
    "def apply_onehot_encoder(train: pd.DataFrame, columns_to_encode: list, test: pd.DataFrame = None):\n",
    "    \n",
    "    # Resetear índices para evitar desalineación\n",
    "    train = train.reset_index(drop=True)\n",
    "    \n",
    "    # Convertir todas las columnas a strings\n",
    "    train[columns_to_encode] = train[columns_to_encode].astype(str)\n",
    "\n",
    "    # Crear el OneHotEncoder\n",
    "    encoder = OneHotEncoder(sparse=False, handle_unknown='ignore')\n",
    "\n",
    "    # Ajustar y transformar las columnas seleccionadas\n",
    "    transformed_data = encoder.fit_transform(train[columns_to_encode])\n",
    "\n",
    "    # Crear un DataFrame con las columnas transformadas\n",
    "    transformed_df = pd.DataFrame(transformed_data, columns=encoder.get_feature_names_out(columns_to_encode))\n",
    "    \n",
    "    # Concatenar con el DataFrame original excluyendo las columnas transformadas\n",
    "    df_concatenated = pd.concat([train.drop(columns=columns_to_encode), transformed_df], axis=1)\n",
    "\n",
    "    # Si se proporciona un segundo DataFrame, aplicar la misma transformación\n",
    "    if test is not None:\n",
    "        # Convertir todas las columnas a strings en el conjunto de prueba\n",
    "        test[columns_to_encode] = test[columns_to_encode].astype(str)\n",
    "        \n",
    "        transformed_data_to_transform = encoder.transform(test[columns_to_encode])\n",
    "        transformed_df_to_transform = pd.DataFrame(transformed_data_to_transform, columns=encoder.get_feature_names_out(columns_to_encode))\n",
    "        df_to_transform_concatenated = pd.concat([test.drop(columns=columns_to_encode), transformed_df_to_transform], axis=1)\n",
    "        return df_concatenated, df_to_transform_concatenated\n",
    "\n",
    "    return df_concatenated"
   ]
  },
  {
   "cell_type": "code",
   "execution_count": 86,
   "metadata": {},
   "outputs": [
    {
     "name": "stdout",
     "output_type": "stream",
     "text": [
      "<class 'pandas.core.frame.DataFrame'>\n",
      "RangeIndex: 912 entries, 0 to 911\n",
      "Data columns (total 14 columns):\n",
      " #   Column            Non-Null Count  Dtype  \n",
      "---  ------            --------------  -----  \n",
      " 0   laptop_ID         912 non-null    int64  \n",
      " 1   Company           912 non-null    object \n",
      " 2   Product           912 non-null    object \n",
      " 3   TypeName          912 non-null    object \n",
      " 4   Inches            912 non-null    float64\n",
      " 5   ScreenResolution  904 non-null    object \n",
      " 6   Ram_GB            912 non-null    int32  \n",
      " 7   Gpu               912 non-null    object \n",
      " 8   OpSys             912 non-null    object \n",
      " 9   WeightInKgs       912 non-null    float64\n",
      " 10  Price_euros       912 non-null    float64\n",
      " 11  Capacidad_GB      912 non-null    int64  \n",
      " 12  Cpu_brand         904 non-null    object \n",
      " 13  CpuType           904 non-null    object \n",
      "dtypes: float64(3), int32(1), int64(2), object(8)\n",
      "memory usage: 96.3+ KB\n"
     ]
    }
   ],
   "source": [
    "train.info()"
   ]
  },
  {
   "cell_type": "code",
   "execution_count": 90,
   "metadata": {},
   "outputs": [
    {
     "name": "stderr",
     "output_type": "stream",
     "text": [
      "c:\\Users\\laura\\OneDrive\\Desktop\\DS_PT_09_2023\\.venv\\Lib\\site-packages\\sklearn\\preprocessing\\_encoders.py:975: FutureWarning: `sparse` was renamed to `sparse_output` in version 1.2 and will be removed in 1.4. `sparse_output` is ignored unless you leave `sparse` to its default value.\n",
      "  warnings.warn(\n"
     ]
    }
   ],
   "source": [
    "columns_to_encode = ['Company','TypeName','Cpu_brand','ScreenResolution','OpSys']\n",
    "train_ampliado, test_ampliado = apply_onehot_encoder(train,columns_to_encode,test)"
   ]
  },
  {
   "cell_type": "code",
   "execution_count": 91,
   "metadata": {},
   "outputs": [
    {
     "data": {
      "text/plain": [
       "(912, 64)"
      ]
     },
     "execution_count": 91,
     "metadata": {},
     "output_type": "execute_result"
    }
   ],
   "source": [
    "train_ampliado.shape"
   ]
  },
  {
   "cell_type": "markdown",
   "metadata": {},
   "source": [
    "## Data processing"
   ]
  },
  {
   "cell_type": "markdown",
   "metadata": {},
   "source": [
    "Utilizariamos una transformación logaritmica en los datos de precio para normalizar la curva: \n",
    "***La transformación logarítmica se usa normalmente si los datos tienen una distribución sesgada de forma positiva (como se muestra a continuación) y algunos valores son muy grandes. Si estos valores grandes están en su área de estudio, la transformación logarítmica le ayudará a que las varianzas sean más constantes y normalizará sus datos. Con respecto a la terminología, cuando se implementa una transformación logarítmica con kriging, el método de predicción se conoce como kriging lognormal, mientras que para todos los demás valores de λ, el método de kriging asociado se conoce como kriging transgaussiano.***\n",
    "\n"
   ]
  },
  {
   "cell_type": "code",
   "execution_count": 92,
   "metadata": {},
   "outputs": [],
   "source": [
    "train_ampliado['Price_euros'] = np.log(train_ampliado['Price_euros'])"
   ]
  },
  {
   "cell_type": "markdown",
   "metadata": {},
   "source": [
    "-----------------------------------------------------------------------------------------------------------------"
   ]
  },
  {
   "cell_type": "markdown",
   "metadata": {},
   "source": [
    "## Pasos que si o si debéis realizar para poder participar en la competición:"
   ]
  },
  {
   "cell_type": "code",
   "execution_count": 93,
   "metadata": {},
   "outputs": [],
   "source": [
    "from sklearn.impute import SimpleImputer\n",
    "from sklearn.compose import ColumnTransformer\n",
    "from sklearn.pipeline import make_pipeline\n",
    "from sklearn.preprocessing import OneHotEncoder,StandardScaler,MinMaxScaler,LabelEncoder\n",
    "from sklearn.linear_model import LogisticRegression\n",
    "from sklearn.model_selection import train_test_split"
   ]
  },
  {
   "cell_type": "markdown",
   "metadata": {},
   "source": [
    "### 1. Definir X e y"
   ]
  },
  {
   "cell_type": "code",
   "execution_count": 121,
   "metadata": {},
   "outputs": [
    {
     "data": {
      "text/plain": [
       "(912, 59)"
      ]
     },
     "execution_count": 121,
     "metadata": {},
     "output_type": "execute_result"
    }
   ],
   "source": [
    "X = train_ampliado.drop(['Price_euros', 'laptop_ID', 'Product','Gpu','CpuType'], axis=1)\n",
    "y = train_ampliado['Price_euros'].copy()\n",
    "X.shape"
   ]
  },
  {
   "cell_type": "code",
   "execution_count": 122,
   "metadata": {},
   "outputs": [
    {
     "data": {
      "text/plain": [
       "(912,)"
      ]
     },
     "execution_count": 122,
     "metadata": {},
     "output_type": "execute_result"
    }
   ],
   "source": [
    "y.shape"
   ]
  },
  {
   "cell_type": "code",
   "execution_count": 123,
   "metadata": {},
   "outputs": [
    {
     "data": {
      "text/plain": [
       "Index(['Inches', 'Ram_GB', 'WeightInKgs', 'Capacidad_GB', 'Company_1000',\n",
       "       'Company_Acer', 'Company_Apple', 'Company_Asus', 'Company_Chuwi',\n",
       "       'Company_Dell', 'Company_Fujitsu', 'Company_Google', 'Company_HP',\n",
       "       'Company_Huawei', 'Company_LG', 'Company_Lenovo', 'Company_MSI',\n",
       "       'Company_Mediacom', 'Company_Microsoft', 'Company_Razer',\n",
       "       'Company_Samsung', 'Company_Toshiba', 'Company_Vero', 'Company_Xiaomi',\n",
       "       'TypeName_1000', 'TypeName_2 in 1 Convertible', 'TypeName_Gaming',\n",
       "       'TypeName_Netbook', 'TypeName_Notebook', 'TypeName_Ultrabook',\n",
       "       'TypeName_Workstation', 'Cpu_brand_AMD', 'Cpu_brand_Intel',\n",
       "       'Cpu_brand_nan', 'ScreenResolution_1366x768',\n",
       "       'ScreenResolution_1440x900', 'ScreenResolution_1600x900',\n",
       "       'ScreenResolution_1920x1080', 'ScreenResolution_1920x1200',\n",
       "       'ScreenResolution_2160x1440', 'ScreenResolution_2256x1504',\n",
       "       'ScreenResolution_2304x1440', 'ScreenResolution_2400x1600',\n",
       "       'ScreenResolution_2560x1440', 'ScreenResolution_2560x1600',\n",
       "       'ScreenResolution_2880x1800', 'ScreenResolution_3200x1800',\n",
       "       'ScreenResolution_3840x2160', 'ScreenResolution_nan', 'OpSys_1000',\n",
       "       'OpSys_Android', 'OpSys_Chrome OS', 'OpSys_Linux', 'OpSys_Mac OS X',\n",
       "       'OpSys_No OS', 'OpSys_Windows 10', 'OpSys_Windows 10 S',\n",
       "       'OpSys_Windows 7', 'OpSys_macOS'],\n",
       "      dtype='object')"
      ]
     },
     "execution_count": 123,
     "metadata": {},
     "output_type": "execute_result"
    }
   ],
   "source": [
    "X.columns"
   ]
  },
  {
   "cell_type": "code",
   "execution_count": 124,
   "metadata": {},
   "outputs": [],
   "source": [
    "numeric_features = ['Inches','Ram_GB', 'WeightInKgs','Capacidad_GB']      "
   ]
  },
  {
   "cell_type": "code",
   "execution_count": 125,
   "metadata": {},
   "outputs": [],
   "source": [
    "scaler = StandardScaler()\n",
    "\n",
    "# Ajusta y transforma las columnas seleccionadas en el conjunto de entrenamiento (X)\n",
    "X[numeric_features] = scaler.fit_transform(X[numeric_features])"
   ]
  },
  {
   "cell_type": "markdown",
   "metadata": {},
   "source": [
    "### 2. Dividir X_train, X_test, y_train, y_test"
   ]
  },
  {
   "cell_type": "code",
   "execution_count": 126,
   "metadata": {},
   "outputs": [],
   "source": [
    "X_train, X_test, y_train, y_test = train_test_split(X,y, test_size = 0.3, random_state = 42) "
   ]
  },
  {
   "cell_type": "markdown",
   "metadata": {},
   "source": [
    "### 3. Asignar el modelo (vacío) a una variable\n"
   ]
  },
  {
   "cell_type": "code",
   "execution_count": 127,
   "metadata": {},
   "outputs": [],
   "source": [
    "from sklearn.linear_model import LinearRegression\n",
    "from sklearn.model_selection import cross_val_score\n",
    "# probamos OTROS MODELOS, AHORA EL RIDGE/SVR\n",
    "from sklearn.linear_model import Ridge, Lasso\n",
    "# model = Ridge()\n",
    "\n",
    "from sklearn.svm import SVR\n",
    "# model = SVR(kernel= 'Poly', degree=3)\n",
    "# el kernel puede ser linear, poly....\n"
   ]
  },
  {
   "cell_type": "code",
   "execution_count": 133,
   "metadata": {},
   "outputs": [
    {
     "data": {
      "text/html": [
       "<style>#sk-container-id-4 {color: black;}#sk-container-id-4 pre{padding: 0;}#sk-container-id-4 div.sk-toggleable {background-color: white;}#sk-container-id-4 label.sk-toggleable__label {cursor: pointer;display: block;width: 100%;margin-bottom: 0;padding: 0.3em;box-sizing: border-box;text-align: center;}#sk-container-id-4 label.sk-toggleable__label-arrow:before {content: \"▸\";float: left;margin-right: 0.25em;color: #696969;}#sk-container-id-4 label.sk-toggleable__label-arrow:hover:before {color: black;}#sk-container-id-4 div.sk-estimator:hover label.sk-toggleable__label-arrow:before {color: black;}#sk-container-id-4 div.sk-toggleable__content {max-height: 0;max-width: 0;overflow: hidden;text-align: left;background-color: #f0f8ff;}#sk-container-id-4 div.sk-toggleable__content pre {margin: 0.2em;color: black;border-radius: 0.25em;background-color: #f0f8ff;}#sk-container-id-4 input.sk-toggleable__control:checked~div.sk-toggleable__content {max-height: 200px;max-width: 100%;overflow: auto;}#sk-container-id-4 input.sk-toggleable__control:checked~label.sk-toggleable__label-arrow:before {content: \"▾\";}#sk-container-id-4 div.sk-estimator input.sk-toggleable__control:checked~label.sk-toggleable__label {background-color: #d4ebff;}#sk-container-id-4 div.sk-label input.sk-toggleable__control:checked~label.sk-toggleable__label {background-color: #d4ebff;}#sk-container-id-4 input.sk-hidden--visually {border: 0;clip: rect(1px 1px 1px 1px);clip: rect(1px, 1px, 1px, 1px);height: 1px;margin: -1px;overflow: hidden;padding: 0;position: absolute;width: 1px;}#sk-container-id-4 div.sk-estimator {font-family: monospace;background-color: #f0f8ff;border: 1px dotted black;border-radius: 0.25em;box-sizing: border-box;margin-bottom: 0.5em;}#sk-container-id-4 div.sk-estimator:hover {background-color: #d4ebff;}#sk-container-id-4 div.sk-parallel-item::after {content: \"\";width: 100%;border-bottom: 1px solid gray;flex-grow: 1;}#sk-container-id-4 div.sk-label:hover label.sk-toggleable__label {background-color: #d4ebff;}#sk-container-id-4 div.sk-serial::before {content: \"\";position: absolute;border-left: 1px solid gray;box-sizing: border-box;top: 0;bottom: 0;left: 50%;z-index: 0;}#sk-container-id-4 div.sk-serial {display: flex;flex-direction: column;align-items: center;background-color: white;padding-right: 0.2em;padding-left: 0.2em;position: relative;}#sk-container-id-4 div.sk-item {position: relative;z-index: 1;}#sk-container-id-4 div.sk-parallel {display: flex;align-items: stretch;justify-content: center;background-color: white;position: relative;}#sk-container-id-4 div.sk-item::before, #sk-container-id-4 div.sk-parallel-item::before {content: \"\";position: absolute;border-left: 1px solid gray;box-sizing: border-box;top: 0;bottom: 0;left: 50%;z-index: -1;}#sk-container-id-4 div.sk-parallel-item {display: flex;flex-direction: column;z-index: 1;position: relative;background-color: white;}#sk-container-id-4 div.sk-parallel-item:first-child::after {align-self: flex-end;width: 50%;}#sk-container-id-4 div.sk-parallel-item:last-child::after {align-self: flex-start;width: 50%;}#sk-container-id-4 div.sk-parallel-item:only-child::after {width: 0;}#sk-container-id-4 div.sk-dashed-wrapped {border: 1px dashed gray;margin: 0 0.4em 0.5em 0.4em;box-sizing: border-box;padding-bottom: 0.4em;background-color: white;}#sk-container-id-4 div.sk-label label {font-family: monospace;font-weight: bold;display: inline-block;line-height: 1.2em;}#sk-container-id-4 div.sk-label-container {text-align: center;}#sk-container-id-4 div.sk-container {/* jupyter's `normalize.less` sets `[hidden] { display: none; }` but bootstrap.min.css set `[hidden] { display: none !important; }` so we also need the `!important` here to be able to override the default hidden behavior on the sphinx rendered scikit-learn.org. See: https://github.com/scikit-learn/scikit-learn/issues/21755 */display: inline-block !important;position: relative;}#sk-container-id-4 div.sk-text-repr-fallback {display: none;}</style><div id=\"sk-container-id-4\" class=\"sk-top-container\"><div class=\"sk-text-repr-fallback\"><pre>SVR()</pre><b>In a Jupyter environment, please rerun this cell to show the HTML representation or trust the notebook. <br />On GitHub, the HTML representation is unable to render, please try loading this page with nbviewer.org.</b></div><div class=\"sk-container\" hidden><div class=\"sk-item\"><div class=\"sk-estimator sk-toggleable\"><input class=\"sk-toggleable__control sk-hidden--visually\" id=\"sk-estimator-id-4\" type=\"checkbox\" checked><label for=\"sk-estimator-id-4\" class=\"sk-toggleable__label sk-toggleable__label-arrow\">SVR</label><div class=\"sk-toggleable__content\"><pre>SVR()</pre></div></div></div></div></div>"
      ],
      "text/plain": [
       "SVR()"
      ]
     },
     "execution_count": 133,
     "metadata": {},
     "output_type": "execute_result"
    }
   ],
   "source": [
    "# model =  LinearRegression()\n",
    "# model = Ridge()\n",
    "model = SVR()\n",
    "model"
   ]
  },
  {
   "cell_type": "code",
   "execution_count": 134,
   "metadata": {},
   "outputs": [
    {
     "name": "stdout",
     "output_type": "stream",
     "text": [
      "[0.28464483 0.30547203 0.30055097 0.3347987  0.33030393]\n"
     ]
    },
    {
     "data": {
      "text/plain": [
       "0.31115409160800184"
      ]
     },
     "execution_count": 134,
     "metadata": {},
     "output_type": "execute_result"
    }
   ],
   "source": [
    "# Esto lo hacemos antes del fit para comprobar cuál sería mejor.\n",
    "\n",
    "scores = -cross_val_score(model, X, y, cv=5, scoring='neg_root_mean_squared_error')\n",
    "print(scores)\n",
    "np.mean(scores)\n",
    "# para hacer cross validation con los modelos que hemos creado. \n",
    "# Tenemos scoring podemos elegir cuál queremmos. Como queremos el RMSE "
   ]
  },
  {
   "cell_type": "code",
   "execution_count": 135,
   "metadata": {},
   "outputs": [
    {
     "name": "stdout",
     "output_type": "stream",
     "text": [
      "5.256974403013654\n",
      "8.612321536507814\n"
     ]
    }
   ],
   "source": [
    "# ¿cuánto nos estamos equivocando? Si el RMSE es de 300, y el precio es de 191, es mucho...\n",
    "print(y.min())\n",
    "print(y.max())"
   ]
  },
  {
   "cell_type": "code",
   "execution_count": 136,
   "metadata": {},
   "outputs": [
    {
     "data": {
      "text/html": [
       "<style>#sk-container-id-5 {color: black;}#sk-container-id-5 pre{padding: 0;}#sk-container-id-5 div.sk-toggleable {background-color: white;}#sk-container-id-5 label.sk-toggleable__label {cursor: pointer;display: block;width: 100%;margin-bottom: 0;padding: 0.3em;box-sizing: border-box;text-align: center;}#sk-container-id-5 label.sk-toggleable__label-arrow:before {content: \"▸\";float: left;margin-right: 0.25em;color: #696969;}#sk-container-id-5 label.sk-toggleable__label-arrow:hover:before {color: black;}#sk-container-id-5 div.sk-estimator:hover label.sk-toggleable__label-arrow:before {color: black;}#sk-container-id-5 div.sk-toggleable__content {max-height: 0;max-width: 0;overflow: hidden;text-align: left;background-color: #f0f8ff;}#sk-container-id-5 div.sk-toggleable__content pre {margin: 0.2em;color: black;border-radius: 0.25em;background-color: #f0f8ff;}#sk-container-id-5 input.sk-toggleable__control:checked~div.sk-toggleable__content {max-height: 200px;max-width: 100%;overflow: auto;}#sk-container-id-5 input.sk-toggleable__control:checked~label.sk-toggleable__label-arrow:before {content: \"▾\";}#sk-container-id-5 div.sk-estimator input.sk-toggleable__control:checked~label.sk-toggleable__label {background-color: #d4ebff;}#sk-container-id-5 div.sk-label input.sk-toggleable__control:checked~label.sk-toggleable__label {background-color: #d4ebff;}#sk-container-id-5 input.sk-hidden--visually {border: 0;clip: rect(1px 1px 1px 1px);clip: rect(1px, 1px, 1px, 1px);height: 1px;margin: -1px;overflow: hidden;padding: 0;position: absolute;width: 1px;}#sk-container-id-5 div.sk-estimator {font-family: monospace;background-color: #f0f8ff;border: 1px dotted black;border-radius: 0.25em;box-sizing: border-box;margin-bottom: 0.5em;}#sk-container-id-5 div.sk-estimator:hover {background-color: #d4ebff;}#sk-container-id-5 div.sk-parallel-item::after {content: \"\";width: 100%;border-bottom: 1px solid gray;flex-grow: 1;}#sk-container-id-5 div.sk-label:hover label.sk-toggleable__label {background-color: #d4ebff;}#sk-container-id-5 div.sk-serial::before {content: \"\";position: absolute;border-left: 1px solid gray;box-sizing: border-box;top: 0;bottom: 0;left: 50%;z-index: 0;}#sk-container-id-5 div.sk-serial {display: flex;flex-direction: column;align-items: center;background-color: white;padding-right: 0.2em;padding-left: 0.2em;position: relative;}#sk-container-id-5 div.sk-item {position: relative;z-index: 1;}#sk-container-id-5 div.sk-parallel {display: flex;align-items: stretch;justify-content: center;background-color: white;position: relative;}#sk-container-id-5 div.sk-item::before, #sk-container-id-5 div.sk-parallel-item::before {content: \"\";position: absolute;border-left: 1px solid gray;box-sizing: border-box;top: 0;bottom: 0;left: 50%;z-index: -1;}#sk-container-id-5 div.sk-parallel-item {display: flex;flex-direction: column;z-index: 1;position: relative;background-color: white;}#sk-container-id-5 div.sk-parallel-item:first-child::after {align-self: flex-end;width: 50%;}#sk-container-id-5 div.sk-parallel-item:last-child::after {align-self: flex-start;width: 50%;}#sk-container-id-5 div.sk-parallel-item:only-child::after {width: 0;}#sk-container-id-5 div.sk-dashed-wrapped {border: 1px dashed gray;margin: 0 0.4em 0.5em 0.4em;box-sizing: border-box;padding-bottom: 0.4em;background-color: white;}#sk-container-id-5 div.sk-label label {font-family: monospace;font-weight: bold;display: inline-block;line-height: 1.2em;}#sk-container-id-5 div.sk-label-container {text-align: center;}#sk-container-id-5 div.sk-container {/* jupyter's `normalize.less` sets `[hidden] { display: none; }` but bootstrap.min.css set `[hidden] { display: none !important; }` so we also need the `!important` here to be able to override the default hidden behavior on the sphinx rendered scikit-learn.org. See: https://github.com/scikit-learn/scikit-learn/issues/21755 */display: inline-block !important;position: relative;}#sk-container-id-5 div.sk-text-repr-fallback {display: none;}</style><div id=\"sk-container-id-5\" class=\"sk-top-container\"><div class=\"sk-text-repr-fallback\"><pre>SVR()</pre><b>In a Jupyter environment, please rerun this cell to show the HTML representation or trust the notebook. <br />On GitHub, the HTML representation is unable to render, please try loading this page with nbviewer.org.</b></div><div class=\"sk-container\" hidden><div class=\"sk-item\"><div class=\"sk-estimator sk-toggleable\"><input class=\"sk-toggleable__control sk-hidden--visually\" id=\"sk-estimator-id-5\" type=\"checkbox\" checked><label for=\"sk-estimator-id-5\" class=\"sk-toggleable__label sk-toggleable__label-arrow\">SVR</label><div class=\"sk-toggleable__content\"><pre>SVR()</pre></div></div></div></div></div>"
      ],
      "text/plain": [
       "SVR()"
      ]
     },
     "execution_count": 136,
     "metadata": {},
     "output_type": "execute_result"
    }
   ],
   "source": [
    "model.fit(X_test,y_test)"
   ]
  },
  {
   "cell_type": "code",
   "execution_count": 137,
   "metadata": {},
   "outputs": [
    {
     "data": {
      "text/plain": [
       "array([6.96981522, 5.77002132, 6.96986533, 7.14713499, 7.31222014,\n",
       "       6.07118193, 7.10045446, 7.30037376, 6.96986533, 7.21264533,\n",
       "       6.94670521, 6.58833686, 5.80305602, 7.28840075, 7.30047011,\n",
       "       7.32368228, 7.31622597, 7.16061829, 6.7523544 , 6.49644594,\n",
       "       6.34494994, 6.20706439, 6.59836919, 6.46453262, 6.83571643,\n",
       "       6.56759754, 7.00140263, 7.32403327, 6.6530588 , 6.4497927 ,\n",
       "       7.4165817 , 7.08191473, 6.25644877, 7.15212402, 6.95784594,\n",
       "       6.22221041, 6.18702434, 6.36261998, 7.28887495, 6.80744911,\n",
       "       7.03243082, 6.90079301, 6.95832739, 7.55100333, 6.70113936,\n",
       "       5.99800277, 6.85557029, 6.39143446, 7.13558041, 6.18319116,\n",
       "       7.34725359, 6.58369677, 6.05081433, 7.49707662, 7.06212532,\n",
       "       7.43366162, 7.05884676, 7.03228397, 7.65060467, 7.32360537,\n",
       "       6.02602481, 6.95843725, 6.01889567, 7.11990916, 6.04648805,\n",
       "       6.60554017, 6.1078244 , 6.7078446 , 7.3374549 , 6.18068216,\n",
       "       7.0751209 , 6.52807186, 7.7592353 , 7.11990916, 7.16330255,\n",
       "       7.37565885, 7.79072052, 6.16251132, 6.68226412, 6.67207856,\n",
       "       6.79963733, 6.92070809, 7.41220714, 6.58609021, 6.85025474,\n",
       "       7.08012803, 7.27168122, 6.31283709, 7.31251728, 6.49611318,\n",
       "       7.10027563, 6.95780773, 7.40588381, 6.30136282, 6.95833211,\n",
       "       6.962672  , 7.41837933, 6.58012645, 6.50495031, 6.99144956,\n",
       "       6.96920991, 7.38212217, 7.14634382, 6.60681612, 7.21357295,\n",
       "       6.0633983 , 6.70109881, 6.70108522, 6.17502569, 7.00234434,\n",
       "       7.1358032 , 7.09700452, 6.76280215, 7.69258688, 7.28171864,\n",
       "       7.18012743, 6.01943924, 6.44223098, 6.70333558, 6.95832739,\n",
       "       6.39145297, 5.98848233, 7.13500136, 6.62096286, 6.84961359,\n",
       "       6.46811737, 6.76270869, 7.25204433, 7.18237323, 6.70809072,\n",
       "       6.20706439, 6.42967894, 6.82679439, 7.63668213, 7.36583205,\n",
       "       7.06361729, 7.39479544, 7.30037376, 7.52164344, 7.38207741,\n",
       "       6.75830782, 7.1201932 , 6.56537216, 6.71156115, 7.14634382,\n",
       "       5.72742544, 6.9729918 , 7.03020699, 6.95784356, 6.98868633,\n",
       "       6.49697767, 7.37972785, 7.12018471, 7.42022295, 6.96922013,\n",
       "       6.74424819, 6.82648412, 7.27162272, 7.31479772, 7.20345201,\n",
       "       7.47497962, 7.14640213, 7.38711867, 7.37862527, 7.42252195,\n",
       "       5.70327575, 6.11223813, 6.62096036, 6.10786575, 7.00771461,\n",
       "       6.80744911, 6.95753253, 6.56542632, 7.2755148 , 6.83495085,\n",
       "       6.962672  , 6.90062779, 6.42967894, 7.08195603, 6.5138324 ,\n",
       "       6.82648412, 6.16252433, 6.95791925, 6.42969484, 7.29245626,\n",
       "       7.32290963, 6.76270869, 7.70319111, 6.31286329, 6.90140721,\n",
       "       7.36252102, 6.7495555 , 6.5550735 , 7.31224856, 6.5082424 ,\n",
       "       7.39530519, 7.63979295, 7.12008719, 6.39499911, 6.01991959,\n",
       "       7.14634382, 5.68972453, 6.80193081, 6.8343694 , 6.44709229,\n",
       "       7.44584062, 6.47420004, 7.53210448, 6.90116455, 7.2022975 ,\n",
       "       6.73864017, 7.00826039, 6.70780732, 6.25409147, 7.17678544,\n",
       "       7.69342882, 6.16057049, 7.06267783, 6.8063183 , 6.90011009,\n",
       "       6.96984784, 6.24194491, 6.96986034, 6.96217272, 7.12212648,\n",
       "       7.21262997, 6.94719214, 6.39143446, 6.06846652, 7.18563419,\n",
       "       6.90003207, 6.10790754, 7.05297605, 6.95891373, 7.70805885,\n",
       "       7.91789222, 6.58335423, 7.83772543, 7.1358032 , 7.50906271,\n",
       "       6.90067874, 6.65370977, 7.31569772, 5.68279662, 6.22608279,\n",
       "       7.62243221, 7.16120812, 6.96736855, 6.96922013, 6.99694113,\n",
       "       7.13983909, 6.76973458, 7.13987759, 7.03253917, 5.9980008 ,\n",
       "       6.99672825, 7.1976027 , 6.12688344, 7.03607338, 6.6530588 ,\n",
       "       6.83510262, 6.65324754, 7.12009152, 6.39143446, 6.80744911,\n",
       "       6.04111325, 7.16417177, 7.10033245, 6.42967894, 6.02687122,\n",
       "       7.30131196, 6.90016858, 6.78415712, 6.70113936])"
      ]
     },
     "execution_count": 137,
     "metadata": {},
     "output_type": "execute_result"
    }
   ],
   "source": [
    "pred = model.predict(X_test)\n",
    "pred"
   ]
  },
  {
   "cell_type": "code",
   "execution_count": 139,
   "metadata": {},
   "outputs": [
    {
     "data": {
      "text/html": [
       "<style>#sk-container-id-6 {color: black;}#sk-container-id-6 pre{padding: 0;}#sk-container-id-6 div.sk-toggleable {background-color: white;}#sk-container-id-6 label.sk-toggleable__label {cursor: pointer;display: block;width: 100%;margin-bottom: 0;padding: 0.3em;box-sizing: border-box;text-align: center;}#sk-container-id-6 label.sk-toggleable__label-arrow:before {content: \"▸\";float: left;margin-right: 0.25em;color: #696969;}#sk-container-id-6 label.sk-toggleable__label-arrow:hover:before {color: black;}#sk-container-id-6 div.sk-estimator:hover label.sk-toggleable__label-arrow:before {color: black;}#sk-container-id-6 div.sk-toggleable__content {max-height: 0;max-width: 0;overflow: hidden;text-align: left;background-color: #f0f8ff;}#sk-container-id-6 div.sk-toggleable__content pre {margin: 0.2em;color: black;border-radius: 0.25em;background-color: #f0f8ff;}#sk-container-id-6 input.sk-toggleable__control:checked~div.sk-toggleable__content {max-height: 200px;max-width: 100%;overflow: auto;}#sk-container-id-6 input.sk-toggleable__control:checked~label.sk-toggleable__label-arrow:before {content: \"▾\";}#sk-container-id-6 div.sk-estimator input.sk-toggleable__control:checked~label.sk-toggleable__label {background-color: #d4ebff;}#sk-container-id-6 div.sk-label input.sk-toggleable__control:checked~label.sk-toggleable__label {background-color: #d4ebff;}#sk-container-id-6 input.sk-hidden--visually {border: 0;clip: rect(1px 1px 1px 1px);clip: rect(1px, 1px, 1px, 1px);height: 1px;margin: -1px;overflow: hidden;padding: 0;position: absolute;width: 1px;}#sk-container-id-6 div.sk-estimator {font-family: monospace;background-color: #f0f8ff;border: 1px dotted black;border-radius: 0.25em;box-sizing: border-box;margin-bottom: 0.5em;}#sk-container-id-6 div.sk-estimator:hover {background-color: #d4ebff;}#sk-container-id-6 div.sk-parallel-item::after {content: \"\";width: 100%;border-bottom: 1px solid gray;flex-grow: 1;}#sk-container-id-6 div.sk-label:hover label.sk-toggleable__label {background-color: #d4ebff;}#sk-container-id-6 div.sk-serial::before {content: \"\";position: absolute;border-left: 1px solid gray;box-sizing: border-box;top: 0;bottom: 0;left: 50%;z-index: 0;}#sk-container-id-6 div.sk-serial {display: flex;flex-direction: column;align-items: center;background-color: white;padding-right: 0.2em;padding-left: 0.2em;position: relative;}#sk-container-id-6 div.sk-item {position: relative;z-index: 1;}#sk-container-id-6 div.sk-parallel {display: flex;align-items: stretch;justify-content: center;background-color: white;position: relative;}#sk-container-id-6 div.sk-item::before, #sk-container-id-6 div.sk-parallel-item::before {content: \"\";position: absolute;border-left: 1px solid gray;box-sizing: border-box;top: 0;bottom: 0;left: 50%;z-index: -1;}#sk-container-id-6 div.sk-parallel-item {display: flex;flex-direction: column;z-index: 1;position: relative;background-color: white;}#sk-container-id-6 div.sk-parallel-item:first-child::after {align-self: flex-end;width: 50%;}#sk-container-id-6 div.sk-parallel-item:last-child::after {align-self: flex-start;width: 50%;}#sk-container-id-6 div.sk-parallel-item:only-child::after {width: 0;}#sk-container-id-6 div.sk-dashed-wrapped {border: 1px dashed gray;margin: 0 0.4em 0.5em 0.4em;box-sizing: border-box;padding-bottom: 0.4em;background-color: white;}#sk-container-id-6 div.sk-label label {font-family: monospace;font-weight: bold;display: inline-block;line-height: 1.2em;}#sk-container-id-6 div.sk-label-container {text-align: center;}#sk-container-id-6 div.sk-container {/* jupyter's `normalize.less` sets `[hidden] { display: none; }` but bootstrap.min.css set `[hidden] { display: none !important; }` so we also need the `!important` here to be able to override the default hidden behavior on the sphinx rendered scikit-learn.org. See: https://github.com/scikit-learn/scikit-learn/issues/21755 */display: inline-block !important;position: relative;}#sk-container-id-6 div.sk-text-repr-fallback {display: none;}</style><div id=\"sk-container-id-6\" class=\"sk-top-container\"><div class=\"sk-text-repr-fallback\"><pre>SVR()</pre><b>In a Jupyter environment, please rerun this cell to show the HTML representation or trust the notebook. <br />On GitHub, the HTML representation is unable to render, please try loading this page with nbviewer.org.</b></div><div class=\"sk-container\" hidden><div class=\"sk-item\"><div class=\"sk-estimator sk-toggleable\"><input class=\"sk-toggleable__control sk-hidden--visually\" id=\"sk-estimator-id-6\" type=\"checkbox\" checked><label for=\"sk-estimator-id-6\" class=\"sk-toggleable__label sk-toggleable__label-arrow\">SVR</label><div class=\"sk-toggleable__content\"><pre>SVR()</pre></div></div></div></div></div>"
      ],
      "text/plain": [
       "SVR()"
      ]
     },
     "execution_count": 139,
     "metadata": {},
     "output_type": "execute_result"
    }
   ],
   "source": [
    "model.fit(X,y)"
   ]
  },
  {
   "cell_type": "code",
   "execution_count": 140,
   "metadata": {},
   "outputs": [
    {
     "data": {
      "text/plain": [
       "(912,)"
      ]
     },
     "execution_count": 140,
     "metadata": {},
     "output_type": "execute_result"
    }
   ],
   "source": [
    "pred = model.predict(X)\n",
    "pred.shape"
   ]
  },
  {
   "cell_type": "markdown",
   "metadata": {},
   "source": [
    "### 4. Sacar métricas, valorar el modelo \n",
    "\n",
    "Recuerda que en la competición se va a evaluar con la métrica de MAE."
   ]
  },
  {
   "cell_type": "code",
   "execution_count": 141,
   "metadata": {},
   "outputs": [
    {
     "name": "stdout",
     "output_type": "stream",
     "text": [
      "RMSE : 0.27187378951520413\n"
     ]
    }
   ],
   "source": [
    "from sklearn.metrics import mean_squared_error\n",
    "import numpy as np\n",
    "\n",
    "print('RMSE :',np.sqrt(mean_squared_error(y,pred)))"
   ]
  },
  {
   "cell_type": "code",
   "execution_count": null,
   "metadata": {},
   "outputs": [],
   "source": []
  },
  {
   "cell_type": "markdown",
   "metadata": {},
   "source": [
    "-----------------------------------------------------------------"
   ]
  },
  {
   "cell_type": "markdown",
   "metadata": {},
   "source": [
    "## Una vez listo el modelo, toca predecir con el dataset de predicción "
   ]
  },
  {
   "cell_type": "markdown",
   "metadata": {},
   "source": [
    "Definición de **modelo que está listo**. \n",
    "\n",
    "Tras hacer suficientes pruebas, analizar los datos, hacer feature engineering, probar diferentes modelos con diferentes parámetros, es con este con el que observo mejores métricas y menos overfitting. ¡Cuidado con el overfitting aquí! Si vuestro modelo aprende muy bien de estos datos pero hay overfitting cuando le pasemos los datos desconocidos de `test.csv` nos arriesgamos a que digamos, no salga lo esperado."
   ]
  },
  {
   "cell_type": "markdown",
   "metadata": {},
   "source": [
    "### 1. Entrena dicho modelo con TODOS tus datos de train, esto es con `train.csv` al completo.\n",
    "\n",
    "\n",
    "**CON LAS TRANSFORMACIONES QUE LE HAYAS REALIZADO A `X` INCLUÍDAS.**\n",
    "\n",
    "\n",
    "Véase:\n",
    "- Estandarización/Normalización\n",
    "- Eliminación de Outliers\n",
    "- Eliminación de columnas\n",
    "- Creación de columnas nuevas\n",
    "- Gestión de valores nulos\n",
    "- Y un largo etcétera de técnicas que como Data Scientist hayas considerado las mejores para tu dataset."
   ]
  },
  {
   "cell_type": "markdown",
   "metadata": {},
   "source": [
    "### 2. Carga los datos de `test.csv` para predecir."
   ]
  },
  {
   "cell_type": "code",
   "execution_count": 147,
   "metadata": {},
   "outputs": [
    {
     "data": {
      "text/plain": [
       "Index(['laptop_ID', 'Product', 'Inches', 'Ram_GB', 'Gpu', 'WeightInKgs',\n",
       "       'Capacidad_GB', 'CpuType', 'Company_1000', 'Company_Acer',\n",
       "       'Company_Apple', 'Company_Asus', 'Company_Chuwi', 'Company_Dell',\n",
       "       'Company_Fujitsu', 'Company_Google', 'Company_HP', 'Company_Huawei',\n",
       "       'Company_LG', 'Company_Lenovo', 'Company_MSI', 'Company_Mediacom',\n",
       "       'Company_Microsoft', 'Company_Razer', 'Company_Samsung',\n",
       "       'Company_Toshiba', 'Company_Vero', 'Company_Xiaomi', 'TypeName_1000',\n",
       "       'TypeName_2 in 1 Convertible', 'TypeName_Gaming', 'TypeName_Netbook',\n",
       "       'TypeName_Notebook', 'TypeName_Ultrabook', 'TypeName_Workstation',\n",
       "       'Cpu_brand_AMD', 'Cpu_brand_Intel', 'Cpu_brand_nan',\n",
       "       'ScreenResolution_1366x768', 'ScreenResolution_1440x900',\n",
       "       'ScreenResolution_1600x900', 'ScreenResolution_1920x1080',\n",
       "       'ScreenResolution_1920x1200', 'ScreenResolution_2160x1440',\n",
       "       'ScreenResolution_2256x1504', 'ScreenResolution_2304x1440',\n",
       "       'ScreenResolution_2400x1600', 'ScreenResolution_2560x1440',\n",
       "       'ScreenResolution_2560x1600', 'ScreenResolution_2880x1800',\n",
       "       'ScreenResolution_3200x1800', 'ScreenResolution_3840x2160',\n",
       "       'ScreenResolution_nan', 'OpSys_1000', 'OpSys_Android',\n",
       "       'OpSys_Chrome OS', 'OpSys_Linux', 'OpSys_Mac OS X', 'OpSys_No OS',\n",
       "       'OpSys_Windows 10', 'OpSys_Windows 10 S', 'OpSys_Windows 7',\n",
       "       'OpSys_macOS'],\n",
       "      dtype='object')"
      ]
     },
     "execution_count": 147,
     "metadata": {},
     "output_type": "execute_result"
    }
   ],
   "source": [
    "test_ampliado.columns"
   ]
  },
  {
   "cell_type": "code",
   "execution_count": 144,
   "metadata": {},
   "outputs": [],
   "source": [
    "X1 = test_ampliado.drop(['laptop_ID', 'Product','Gpu','CpuType'], axis=1)\n",
    "\n",
    "numeric_features = ['Inches','Ram_GB', 'WeightInKgs','Capacidad_GB']    \n",
    "scaler = StandardScaler()\n",
    "\n",
    "# Ajusta y transforma las columnas seleccionadas en el conjunto de entrenamiento (X)\n",
    "X1[numeric_features] = scaler.fit_transform(X[numeric_features])"
   ]
  },
  {
   "cell_type": "code",
   "execution_count": 145,
   "metadata": {},
   "outputs": [
    {
     "data": {
      "text/plain": [
       "(391, 59)"
      ]
     },
     "execution_count": 145,
     "metadata": {},
     "output_type": "execute_result"
    }
   ],
   "source": [
    "X1.shape"
   ]
  },
  {
   "cell_type": "code",
   "execution_count": 146,
   "metadata": {},
   "outputs": [
    {
     "data": {
      "text/html": [
       "<style>#sk-container-id-7 {color: black;}#sk-container-id-7 pre{padding: 0;}#sk-container-id-7 div.sk-toggleable {background-color: white;}#sk-container-id-7 label.sk-toggleable__label {cursor: pointer;display: block;width: 100%;margin-bottom: 0;padding: 0.3em;box-sizing: border-box;text-align: center;}#sk-container-id-7 label.sk-toggleable__label-arrow:before {content: \"▸\";float: left;margin-right: 0.25em;color: #696969;}#sk-container-id-7 label.sk-toggleable__label-arrow:hover:before {color: black;}#sk-container-id-7 div.sk-estimator:hover label.sk-toggleable__label-arrow:before {color: black;}#sk-container-id-7 div.sk-toggleable__content {max-height: 0;max-width: 0;overflow: hidden;text-align: left;background-color: #f0f8ff;}#sk-container-id-7 div.sk-toggleable__content pre {margin: 0.2em;color: black;border-radius: 0.25em;background-color: #f0f8ff;}#sk-container-id-7 input.sk-toggleable__control:checked~div.sk-toggleable__content {max-height: 200px;max-width: 100%;overflow: auto;}#sk-container-id-7 input.sk-toggleable__control:checked~label.sk-toggleable__label-arrow:before {content: \"▾\";}#sk-container-id-7 div.sk-estimator input.sk-toggleable__control:checked~label.sk-toggleable__label {background-color: #d4ebff;}#sk-container-id-7 div.sk-label input.sk-toggleable__control:checked~label.sk-toggleable__label {background-color: #d4ebff;}#sk-container-id-7 input.sk-hidden--visually {border: 0;clip: rect(1px 1px 1px 1px);clip: rect(1px, 1px, 1px, 1px);height: 1px;margin: -1px;overflow: hidden;padding: 0;position: absolute;width: 1px;}#sk-container-id-7 div.sk-estimator {font-family: monospace;background-color: #f0f8ff;border: 1px dotted black;border-radius: 0.25em;box-sizing: border-box;margin-bottom: 0.5em;}#sk-container-id-7 div.sk-estimator:hover {background-color: #d4ebff;}#sk-container-id-7 div.sk-parallel-item::after {content: \"\";width: 100%;border-bottom: 1px solid gray;flex-grow: 1;}#sk-container-id-7 div.sk-label:hover label.sk-toggleable__label {background-color: #d4ebff;}#sk-container-id-7 div.sk-serial::before {content: \"\";position: absolute;border-left: 1px solid gray;box-sizing: border-box;top: 0;bottom: 0;left: 50%;z-index: 0;}#sk-container-id-7 div.sk-serial {display: flex;flex-direction: column;align-items: center;background-color: white;padding-right: 0.2em;padding-left: 0.2em;position: relative;}#sk-container-id-7 div.sk-item {position: relative;z-index: 1;}#sk-container-id-7 div.sk-parallel {display: flex;align-items: stretch;justify-content: center;background-color: white;position: relative;}#sk-container-id-7 div.sk-item::before, #sk-container-id-7 div.sk-parallel-item::before {content: \"\";position: absolute;border-left: 1px solid gray;box-sizing: border-box;top: 0;bottom: 0;left: 50%;z-index: -1;}#sk-container-id-7 div.sk-parallel-item {display: flex;flex-direction: column;z-index: 1;position: relative;background-color: white;}#sk-container-id-7 div.sk-parallel-item:first-child::after {align-self: flex-end;width: 50%;}#sk-container-id-7 div.sk-parallel-item:last-child::after {align-self: flex-start;width: 50%;}#sk-container-id-7 div.sk-parallel-item:only-child::after {width: 0;}#sk-container-id-7 div.sk-dashed-wrapped {border: 1px dashed gray;margin: 0 0.4em 0.5em 0.4em;box-sizing: border-box;padding-bottom: 0.4em;background-color: white;}#sk-container-id-7 div.sk-label label {font-family: monospace;font-weight: bold;display: inline-block;line-height: 1.2em;}#sk-container-id-7 div.sk-label-container {text-align: center;}#sk-container-id-7 div.sk-container {/* jupyter's `normalize.less` sets `[hidden] { display: none; }` but bootstrap.min.css set `[hidden] { display: none !important; }` so we also need the `!important` here to be able to override the default hidden behavior on the sphinx rendered scikit-learn.org. See: https://github.com/scikit-learn/scikit-learn/issues/21755 */display: inline-block !important;position: relative;}#sk-container-id-7 div.sk-text-repr-fallback {display: none;}</style><div id=\"sk-container-id-7\" class=\"sk-top-container\"><div class=\"sk-text-repr-fallback\"><pre>SVR()</pre><b>In a Jupyter environment, please rerun this cell to show the HTML representation or trust the notebook. <br />On GitHub, the HTML representation is unable to render, please try loading this page with nbviewer.org.</b></div><div class=\"sk-container\" hidden><div class=\"sk-item\"><div class=\"sk-estimator sk-toggleable\"><input class=\"sk-toggleable__control sk-hidden--visually\" id=\"sk-estimator-id-7\" type=\"checkbox\" checked><label for=\"sk-estimator-id-7\" class=\"sk-toggleable__label sk-toggleable__label-arrow\">SVR</label><div class=\"sk-toggleable__content\"><pre>SVR()</pre></div></div></div></div></div>"
      ],
      "text/plain": [
       "SVR()"
      ]
     },
     "execution_count": 146,
     "metadata": {},
     "output_type": "execute_result"
    }
   ],
   "source": [
    "model"
   ]
  },
  {
   "cell_type": "code",
   "execution_count": 148,
   "metadata": {},
   "outputs": [],
   "source": [
    "final_predict = model.predict(X1)"
   ]
  },
  {
   "cell_type": "code",
   "execution_count": 149,
   "metadata": {},
   "outputs": [
    {
     "data": {
      "text/plain": [
       "array([7.21770295, 5.97317854, 5.97210772, 7.08364998, 6.05056755,\n",
       "       6.87972685, 6.50209406, 7.34302228, 7.39717623, 7.08908423,\n",
       "       6.38399317, 6.94803682, 7.28727668, 6.23885103, 6.75760631,\n",
       "       6.94851772, 7.19542131, 7.71551889, 6.4178593 , 6.33522011,\n",
       "       7.13010078, 6.41142886, 6.54435359, 6.56593669, 6.0366865 ,\n",
       "       7.67656712, 6.39234471, 6.30827631, 6.36689858, 7.08908423,\n",
       "       6.84473359, 6.90516194, 6.88953418, 6.68323092, 7.23056388,\n",
       "       7.21741045, 6.84472252, 7.19523898, 6.25890906, 7.6537825 ,\n",
       "       7.58716977, 7.08908423, 5.71468798, 7.35845169, 6.9486449 ,\n",
       "       7.59820223, 6.93967591, 7.58644886, 6.94924841, 7.15255799,\n",
       "       7.08549313, 6.47502298, 6.65906427, 7.1663637 , 5.87948156,\n",
       "       6.87768238, 6.81631511, 6.04928311, 6.94771226, 7.2176242 ,\n",
       "       6.61427325, 7.57168503, 6.76656132, 6.23255435, 6.77662643,\n",
       "       7.18201412, 6.78189108, 7.5299813 , 6.65903808, 6.93395891,\n",
       "       5.8793463 , 7.35845169, 7.41504061, 7.14609464, 6.40335515,\n",
       "       6.92546973, 6.40949607, 7.82626061, 6.31873931, 7.27907227,\n",
       "       6.75600499, 6.455489  , 6.94796232, 7.2906283 , 7.28843425,\n",
       "       6.56008644, 7.24665727, 6.9227526 , 6.729867  , 6.845851  ,\n",
       "       7.16335381, 6.43394593, 6.01384638, 7.4822445 , 7.66522383,\n",
       "       7.44042074, 6.94861566, 6.58315636, 5.89436659, 6.02803486,\n",
       "       7.28707839, 7.14287966, 6.92544423, 6.64635838, 7.28736802,\n",
       "       6.34858879, 8.05446568, 6.99005149, 7.86600146, 7.45018335,\n",
       "       7.19582389, 6.30799203, 7.32807035, 7.58639006, 6.94778714,\n",
       "       7.52856216, 7.31801954, 7.71366681, 6.97894689, 7.31780963,\n",
       "       6.63741592, 7.32875698, 7.41497385, 7.05878804, 6.77427124,\n",
       "       6.94861566, 6.50153945, 6.6423538 , 6.88705212, 7.07549049,\n",
       "       5.87192823, 6.33522011, 6.32276155, 6.25649888, 6.09639707,\n",
       "       7.65371555, 7.37314131, 7.59864348, 7.37197339, 6.92482115,\n",
       "       7.19594964, 7.27900748, 6.68450355, 7.4836743 , 7.78723725,\n",
       "       6.320117  , 7.48533259, 6.32276155, 6.31643465, 7.41383962,\n",
       "       6.89943394, 7.45512802, 7.28783052, 5.83802423, 7.37386179,\n",
       "       6.46982975, 7.0833134 , 7.09581212, 7.08209525, 6.53287279,\n",
       "       8.20995229, 7.33721856, 6.40337934, 6.1987315 , 6.94852755,\n",
       "       7.84413523, 6.9242629 , 6.96412382, 6.5442888 , 6.90516194,\n",
       "       6.03552496, 6.37597246, 6.6768788 , 6.64633857, 7.58686351,\n",
       "       6.72982444, 7.28010092, 6.91736496, 6.90995047, 5.8741664 ,\n",
       "       6.53737362, 7.41262363, 6.92557132, 6.95330057, 7.26038098,\n",
       "       6.92557132, 7.22744614, 6.14700046, 6.07557017, 7.26334693,\n",
       "       7.07633756, 6.64651647, 6.37564102, 6.36606995, 6.94874672,\n",
       "       7.59881113, 7.35845169, 6.64647702, 6.66761979, 7.823412  ,\n",
       "       6.67133346, 6.94851772, 7.19542131, 7.98914565, 6.66761979,\n",
       "       6.9227526 , 6.97569011, 7.19543195, 6.86134681, 6.23585822,\n",
       "       6.9227056 , 6.3485969 , 7.26334693, 7.32857969, 7.27894236,\n",
       "       5.91084576, 6.75404424, 7.45602742, 6.59008781, 7.34659923,\n",
       "       6.05058089, 6.14595721, 5.97912791, 7.68154971, 6.61522518,\n",
       "       7.65394342, 7.32804198, 7.09930652, 7.31457903, 6.91032518,\n",
       "       6.53016191, 6.34858879, 7.85830527, 6.95529303, 6.95328962,\n",
       "       6.68344532, 6.66696982, 6.52660661, 6.75770021, 6.655473  ,\n",
       "       7.54075707, 6.02136291, 7.14316172, 7.28010092, 6.84483299,\n",
       "       6.29531952, 6.51177999, 7.50931492, 6.94804177, 7.3807427 ,\n",
       "       6.15288928, 7.70471559, 6.90453707, 7.23329768, 5.96841488,\n",
       "       6.55497365, 7.41299374, 7.38039546, 6.65741246, 7.27894236,\n",
       "       7.16946011, 7.75518247, 6.37583856, 7.15146596, 6.13721734,\n",
       "       6.58254366, 6.58315636, 5.99901787, 6.81555702, 6.47533888,\n",
       "       6.92557132, 6.88943247, 6.06625676, 6.19875569, 7.12469508,\n",
       "       7.58692213, 7.58644301, 6.69315396, 6.60771765, 7.2906283 ,\n",
       "       6.94778714, 6.96796966, 7.80248751, 6.56218516, 6.825715  ,\n",
       "       6.07695332, 7.23326243, 7.46915761, 6.29965515, 7.52669046,\n",
       "       7.59786964, 7.08589095, 6.70727225, 6.77665356, 6.59748608,\n",
       "       6.52736118, 5.77415318, 6.845851  , 7.58833536, 7.14553403,\n",
       "       6.09678302, 6.03024716, 5.85923507, 7.28022745, 6.66639364,\n",
       "       7.59786964, 7.68302534, 6.02356819, 6.4191069 , 7.88482444,\n",
       "       7.19511325, 6.54415822, 7.373939  , 7.04027304, 6.61931763,\n",
       "       7.19541599, 7.77173051, 7.5095412 , 7.43821657, 7.46805885,\n",
       "       5.87353302, 6.93398755, 7.10038572, 7.36608055, 6.9531521 ,\n",
       "       6.44397187, 7.41335078, 6.07695332, 7.41311997, 6.92557132,\n",
       "       7.02892423, 6.27240176, 7.41451538, 6.86134681, 6.54410812,\n",
       "       6.729867  , 7.13544875, 6.81677289, 6.9314495 , 6.0769935 ,\n",
       "       7.07546535, 6.95320174, 6.51141231, 7.45507178, 6.37597246,\n",
       "       6.52660661, 6.42603237, 6.66062964, 6.94857657, 7.34858291,\n",
       "       6.92557132, 7.59657624, 6.38507276, 7.34663997, 7.59774288,\n",
       "       7.24688796, 5.9849796 , 7.94750193, 6.55497365, 6.24504588,\n",
       "       7.07526203, 7.02035959, 7.34666028, 7.58639006, 6.68228691,\n",
       "       6.25580194, 6.1987315 , 6.54423837, 7.36168973, 6.21636893,\n",
       "       5.79413029, 5.87192823, 7.9585419 , 6.25914214, 6.320117  ,\n",
       "       6.92488291, 7.4691167 , 6.54346718, 6.95313552, 7.31780963,\n",
       "       6.43514267, 6.9227526 , 6.34401421, 6.41853919, 7.66544936,\n",
       "       7.79403545, 7.48385218, 7.42719078, 6.87978193, 6.09832695,\n",
       "       7.32776428])"
      ]
     },
     "execution_count": 149,
     "metadata": {},
     "output_type": "execute_result"
    }
   ],
   "source": [
    "final_predict"
   ]
  },
  {
   "cell_type": "code",
   "execution_count": 167,
   "metadata": {},
   "outputs": [
    {
     "data": {
      "text/plain": [
       "array([[7.21770295],\n",
       "       [5.97317854],\n",
       "       [5.97210772],\n",
       "       [7.08364998],\n",
       "       [6.05056755],\n",
       "       [6.87972685],\n",
       "       [6.50209406],\n",
       "       [7.34302228],\n",
       "       [7.39717623],\n",
       "       [7.08908423],\n",
       "       [6.38399317],\n",
       "       [6.94803682],\n",
       "       [7.28727668],\n",
       "       [6.23885103],\n",
       "       [6.75760631],\n",
       "       [6.94851772],\n",
       "       [7.19542131],\n",
       "       [7.71551889],\n",
       "       [6.4178593 ],\n",
       "       [6.33522011],\n",
       "       [7.13010078],\n",
       "       [6.41142886],\n",
       "       [6.54435359],\n",
       "       [6.56593669],\n",
       "       [6.0366865 ],\n",
       "       [7.67656712],\n",
       "       [6.39234471],\n",
       "       [6.30827631],\n",
       "       [6.36689858],\n",
       "       [7.08908423],\n",
       "       [6.84473359],\n",
       "       [6.90516194],\n",
       "       [6.88953418],\n",
       "       [6.68323092],\n",
       "       [7.23056388],\n",
       "       [7.21741045],\n",
       "       [6.84472252],\n",
       "       [7.19523898],\n",
       "       [6.25890906],\n",
       "       [7.6537825 ],\n",
       "       [7.58716977],\n",
       "       [7.08908423],\n",
       "       [5.71468798],\n",
       "       [7.35845169],\n",
       "       [6.9486449 ],\n",
       "       [7.59820223],\n",
       "       [6.93967591],\n",
       "       [7.58644886],\n",
       "       [6.94924841],\n",
       "       [7.15255799],\n",
       "       [7.08549313],\n",
       "       [6.47502298],\n",
       "       [6.65906427],\n",
       "       [7.1663637 ],\n",
       "       [5.87948156],\n",
       "       [6.87768238],\n",
       "       [6.81631511],\n",
       "       [6.04928311],\n",
       "       [6.94771226],\n",
       "       [7.2176242 ],\n",
       "       [6.61427325],\n",
       "       [7.57168503],\n",
       "       [6.76656132],\n",
       "       [6.23255435],\n",
       "       [6.77662643],\n",
       "       [7.18201412],\n",
       "       [6.78189108],\n",
       "       [7.5299813 ],\n",
       "       [6.65903808],\n",
       "       [6.93395891],\n",
       "       [5.8793463 ],\n",
       "       [7.35845169],\n",
       "       [7.41504061],\n",
       "       [7.14609464],\n",
       "       [6.40335515],\n",
       "       [6.92546973],\n",
       "       [6.40949607],\n",
       "       [7.82626061],\n",
       "       [6.31873931],\n",
       "       [7.27907227],\n",
       "       [6.75600499],\n",
       "       [6.455489  ],\n",
       "       [6.94796232],\n",
       "       [7.2906283 ],\n",
       "       [7.28843425],\n",
       "       [6.56008644],\n",
       "       [7.24665727],\n",
       "       [6.9227526 ],\n",
       "       [6.729867  ],\n",
       "       [6.845851  ],\n",
       "       [7.16335381],\n",
       "       [6.43394593],\n",
       "       [6.01384638],\n",
       "       [7.4822445 ],\n",
       "       [7.66522383],\n",
       "       [7.44042074],\n",
       "       [6.94861566],\n",
       "       [6.58315636],\n",
       "       [5.89436659],\n",
       "       [6.02803486],\n",
       "       [7.28707839],\n",
       "       [7.14287966],\n",
       "       [6.92544423],\n",
       "       [6.64635838],\n",
       "       [7.28736802],\n",
       "       [6.34858879],\n",
       "       [8.05446568],\n",
       "       [6.99005149],\n",
       "       [7.86600146],\n",
       "       [7.45018335],\n",
       "       [7.19582389],\n",
       "       [6.30799203],\n",
       "       [7.32807035],\n",
       "       [7.58639006],\n",
       "       [6.94778714],\n",
       "       [7.52856216],\n",
       "       [7.31801954],\n",
       "       [7.71366681],\n",
       "       [6.97894689],\n",
       "       [7.31780963],\n",
       "       [6.63741592],\n",
       "       [7.32875698],\n",
       "       [7.41497385],\n",
       "       [7.05878804],\n",
       "       [6.77427124],\n",
       "       [6.94861566],\n",
       "       [6.50153945],\n",
       "       [6.6423538 ],\n",
       "       [6.88705212],\n",
       "       [7.07549049],\n",
       "       [5.87192823],\n",
       "       [6.33522011],\n",
       "       [6.32276155],\n",
       "       [6.25649888],\n",
       "       [6.09639707],\n",
       "       [7.65371555],\n",
       "       [7.37314131],\n",
       "       [7.59864348],\n",
       "       [7.37197339],\n",
       "       [6.92482115],\n",
       "       [7.19594964],\n",
       "       [7.27900748],\n",
       "       [6.68450355],\n",
       "       [7.4836743 ],\n",
       "       [7.78723725],\n",
       "       [6.320117  ],\n",
       "       [7.48533259],\n",
       "       [6.32276155],\n",
       "       [6.31643465],\n",
       "       [7.41383962],\n",
       "       [6.89943394],\n",
       "       [7.45512802],\n",
       "       [7.28783052],\n",
       "       [5.83802423],\n",
       "       [7.37386179],\n",
       "       [6.46982975],\n",
       "       [7.0833134 ],\n",
       "       [7.09581212],\n",
       "       [7.08209525],\n",
       "       [6.53287279],\n",
       "       [8.20995229],\n",
       "       [7.33721856],\n",
       "       [6.40337934],\n",
       "       [6.1987315 ],\n",
       "       [6.94852755],\n",
       "       [7.84413523],\n",
       "       [6.9242629 ],\n",
       "       [6.96412382],\n",
       "       [6.5442888 ],\n",
       "       [6.90516194],\n",
       "       [6.03552496],\n",
       "       [6.37597246],\n",
       "       [6.6768788 ],\n",
       "       [6.64633857],\n",
       "       [7.58686351],\n",
       "       [6.72982444],\n",
       "       [7.28010092],\n",
       "       [6.91736496],\n",
       "       [6.90995047],\n",
       "       [5.8741664 ],\n",
       "       [6.53737362],\n",
       "       [7.41262363],\n",
       "       [6.92557132],\n",
       "       [6.95330057],\n",
       "       [7.26038098],\n",
       "       [6.92557132],\n",
       "       [7.22744614],\n",
       "       [6.14700046],\n",
       "       [6.07557017],\n",
       "       [7.26334693],\n",
       "       [7.07633756],\n",
       "       [6.64651647],\n",
       "       [6.37564102],\n",
       "       [6.36606995],\n",
       "       [6.94874672],\n",
       "       [7.59881113],\n",
       "       [7.35845169],\n",
       "       [6.64647702],\n",
       "       [6.66761979],\n",
       "       [7.823412  ],\n",
       "       [6.67133346],\n",
       "       [6.94851772],\n",
       "       [7.19542131],\n",
       "       [7.98914565],\n",
       "       [6.66761979],\n",
       "       [6.9227526 ],\n",
       "       [6.97569011],\n",
       "       [7.19543195],\n",
       "       [6.86134681],\n",
       "       [6.23585822],\n",
       "       [6.9227056 ],\n",
       "       [6.3485969 ],\n",
       "       [7.26334693],\n",
       "       [7.32857969],\n",
       "       [7.27894236],\n",
       "       [5.91084576],\n",
       "       [6.75404424],\n",
       "       [7.45602742],\n",
       "       [6.59008781],\n",
       "       [7.34659923],\n",
       "       [6.05058089],\n",
       "       [6.14595721],\n",
       "       [5.97912791],\n",
       "       [7.68154971],\n",
       "       [6.61522518],\n",
       "       [7.65394342],\n",
       "       [7.32804198],\n",
       "       [7.09930652],\n",
       "       [7.31457903],\n",
       "       [6.91032518],\n",
       "       [6.53016191],\n",
       "       [6.34858879],\n",
       "       [7.85830527],\n",
       "       [6.95529303],\n",
       "       [6.95328962],\n",
       "       [6.68344532],\n",
       "       [6.66696982],\n",
       "       [6.52660661],\n",
       "       [6.75770021],\n",
       "       [6.655473  ],\n",
       "       [7.54075707],\n",
       "       [6.02136291],\n",
       "       [7.14316172],\n",
       "       [7.28010092],\n",
       "       [6.84483299],\n",
       "       [6.29531952],\n",
       "       [6.51177999],\n",
       "       [7.50931492],\n",
       "       [6.94804177],\n",
       "       [7.3807427 ],\n",
       "       [6.15288928],\n",
       "       [7.70471559],\n",
       "       [6.90453707],\n",
       "       [7.23329768],\n",
       "       [5.96841488],\n",
       "       [6.55497365],\n",
       "       [7.41299374],\n",
       "       [7.38039546],\n",
       "       [6.65741246],\n",
       "       [7.27894236],\n",
       "       [7.16946011],\n",
       "       [7.75518247],\n",
       "       [6.37583856],\n",
       "       [7.15146596],\n",
       "       [6.13721734],\n",
       "       [6.58254366],\n",
       "       [6.58315636],\n",
       "       [5.99901787],\n",
       "       [6.81555702],\n",
       "       [6.47533888],\n",
       "       [6.92557132],\n",
       "       [6.88943247],\n",
       "       [6.06625676],\n",
       "       [6.19875569],\n",
       "       [7.12469508],\n",
       "       [7.58692213],\n",
       "       [7.58644301],\n",
       "       [6.69315396],\n",
       "       [6.60771765],\n",
       "       [7.2906283 ],\n",
       "       [6.94778714],\n",
       "       [6.96796966],\n",
       "       [7.80248751],\n",
       "       [6.56218516],\n",
       "       [6.825715  ],\n",
       "       [6.07695332],\n",
       "       [7.23326243],\n",
       "       [7.46915761],\n",
       "       [6.29965515],\n",
       "       [7.52669046],\n",
       "       [7.59786964],\n",
       "       [7.08589095],\n",
       "       [6.70727225],\n",
       "       [6.77665356],\n",
       "       [6.59748608],\n",
       "       [6.52736118],\n",
       "       [5.77415318],\n",
       "       [6.845851  ],\n",
       "       [7.58833536],\n",
       "       [7.14553403],\n",
       "       [6.09678302],\n",
       "       [6.03024716],\n",
       "       [5.85923507],\n",
       "       [7.28022745],\n",
       "       [6.66639364],\n",
       "       [7.59786964],\n",
       "       [7.68302534],\n",
       "       [6.02356819],\n",
       "       [6.4191069 ],\n",
       "       [7.88482444],\n",
       "       [7.19511325],\n",
       "       [6.54415822],\n",
       "       [7.373939  ],\n",
       "       [7.04027304],\n",
       "       [6.61931763],\n",
       "       [7.19541599],\n",
       "       [7.77173051],\n",
       "       [7.5095412 ],\n",
       "       [7.43821657],\n",
       "       [7.46805885],\n",
       "       [5.87353302],\n",
       "       [6.93398755],\n",
       "       [7.10038572],\n",
       "       [7.36608055],\n",
       "       [6.9531521 ],\n",
       "       [6.44397187],\n",
       "       [7.41335078],\n",
       "       [6.07695332],\n",
       "       [7.41311997],\n",
       "       [6.92557132],\n",
       "       [7.02892423],\n",
       "       [6.27240176],\n",
       "       [7.41451538],\n",
       "       [6.86134681],\n",
       "       [6.54410812],\n",
       "       [6.729867  ],\n",
       "       [7.13544875],\n",
       "       [6.81677289],\n",
       "       [6.9314495 ],\n",
       "       [6.0769935 ],\n",
       "       [7.07546535],\n",
       "       [6.95320174],\n",
       "       [6.51141231],\n",
       "       [7.45507178],\n",
       "       [6.37597246],\n",
       "       [6.52660661],\n",
       "       [6.42603237],\n",
       "       [6.66062964],\n",
       "       [6.94857657],\n",
       "       [7.34858291],\n",
       "       [6.92557132],\n",
       "       [7.59657624],\n",
       "       [6.38507276],\n",
       "       [7.34663997],\n",
       "       [7.59774288],\n",
       "       [7.24688796],\n",
       "       [5.9849796 ],\n",
       "       [7.94750193],\n",
       "       [6.55497365],\n",
       "       [6.24504588],\n",
       "       [7.07526203],\n",
       "       [7.02035959],\n",
       "       [7.34666028],\n",
       "       [7.58639006],\n",
       "       [6.68228691],\n",
       "       [6.25580194],\n",
       "       [6.1987315 ],\n",
       "       [6.54423837],\n",
       "       [7.36168973],\n",
       "       [6.21636893],\n",
       "       [5.79413029],\n",
       "       [5.87192823],\n",
       "       [7.9585419 ],\n",
       "       [6.25914214],\n",
       "       [6.320117  ],\n",
       "       [6.92488291],\n",
       "       [7.4691167 ],\n",
       "       [6.54346718],\n",
       "       [6.95313552],\n",
       "       [7.31780963],\n",
       "       [6.43514267],\n",
       "       [6.9227526 ],\n",
       "       [6.34401421],\n",
       "       [6.41853919],\n",
       "       [7.66544936],\n",
       "       [7.79403545],\n",
       "       [7.48385218],\n",
       "       [7.42719078],\n",
       "       [6.87978193],\n",
       "       [6.09832695],\n",
       "       [7.32776428]])"
      ]
     },
     "execution_count": 167,
     "metadata": {},
     "output_type": "execute_result"
    }
   ],
   "source": [
    "predictions_submit_reshaped = final_predict.reshape(-1, 1)\n",
    "predictions_submit_reshaped\n"
   ]
  },
  {
   "cell_type": "code",
   "execution_count": 169,
   "metadata": {},
   "outputs": [],
   "source": [
    "\n",
    "# Reverse the scaling on the predictions using inverse_transform\n",
    "\n",
    "scaler=StandardScaler()\n",
    "scaler.fit(predictions_submit_reshaped)\n",
    "predictions_submit_inverse = scaler.inverse_transform(predictions_submit_reshaped)\n"
   ]
  },
  {
   "cell_type": "code",
   "execution_count": 171,
   "metadata": {},
   "outputs": [
    {
     "data": {
      "text/plain": [
       "(391, 1)"
      ]
     },
     "execution_count": 171,
     "metadata": {},
     "output_type": "execute_result"
    }
   ],
   "source": [
    "predictions_submit_inverse.shape"
   ]
  },
  {
   "cell_type": "code",
   "execution_count": null,
   "metadata": {},
   "outputs": [],
   "source": [
    "\n",
    "# If needed, reshape the result back to a 1D array\n",
    "predictions_submit_inverse = predictions_submit_inverse.flatten()"
   ]
  },
  {
   "cell_type": "markdown",
   "metadata": {},
   "source": [
    "**¿Por qué da error?** "
   ]
  },
  {
   "cell_type": "code",
   "execution_count": 150,
   "metadata": {},
   "outputs": [
    {
     "name": "stdout",
     "output_type": "stream",
     "text": [
      "(391,)\n",
      "[7.21770295 5.97317854 5.97210772 7.08364998 6.05056755 6.87972685\n",
      " 6.50209406 7.34302228 7.39717623 7.08908423 6.38399317 6.94803682\n",
      " 7.28727668 6.23885103 6.75760631 6.94851772 7.19542131 7.71551889\n",
      " 6.4178593  6.33522011 7.13010078 6.41142886 6.54435359 6.56593669\n",
      " 6.0366865  7.67656712 6.39234471 6.30827631 6.36689858 7.08908423\n",
      " 6.84473359 6.90516194 6.88953418 6.68323092 7.23056388 7.21741045\n",
      " 6.84472252 7.19523898 6.25890906 7.6537825  7.58716977 7.08908423\n",
      " 5.71468798 7.35845169 6.9486449  7.59820223 6.93967591 7.58644886\n",
      " 6.94924841 7.15255799 7.08549313 6.47502298 6.65906427 7.1663637\n",
      " 5.87948156 6.87768238 6.81631511 6.04928311 6.94771226 7.2176242\n",
      " 6.61427325 7.57168503 6.76656132 6.23255435 6.77662643 7.18201412\n",
      " 6.78189108 7.5299813  6.65903808 6.93395891 5.8793463  7.35845169\n",
      " 7.41504061 7.14609464 6.40335515 6.92546973 6.40949607 7.82626061\n",
      " 6.31873931 7.27907227 6.75600499 6.455489   6.94796232 7.2906283\n",
      " 7.28843425 6.56008644 7.24665727 6.9227526  6.729867   6.845851\n",
      " 7.16335381 6.43394593 6.01384638 7.4822445  7.66522383 7.44042074\n",
      " 6.94861566 6.58315636 5.89436659 6.02803486 7.28707839 7.14287966\n",
      " 6.92544423 6.64635838 7.28736802 6.34858879 8.05446568 6.99005149\n",
      " 7.86600146 7.45018335 7.19582389 6.30799203 7.32807035 7.58639006\n",
      " 6.94778714 7.52856216 7.31801954 7.71366681 6.97894689 7.31780963\n",
      " 6.63741592 7.32875698 7.41497385 7.05878804 6.77427124 6.94861566\n",
      " 6.50153945 6.6423538  6.88705212 7.07549049 5.87192823 6.33522011\n",
      " 6.32276155 6.25649888 6.09639707 7.65371555 7.37314131 7.59864348\n",
      " 7.37197339 6.92482115 7.19594964 7.27900748 6.68450355 7.4836743\n",
      " 7.78723725 6.320117   7.48533259 6.32276155 6.31643465 7.41383962\n",
      " 6.89943394 7.45512802 7.28783052 5.83802423 7.37386179 6.46982975\n",
      " 7.0833134  7.09581212 7.08209525 6.53287279 8.20995229 7.33721856\n",
      " 6.40337934 6.1987315  6.94852755 7.84413523 6.9242629  6.96412382\n",
      " 6.5442888  6.90516194 6.03552496 6.37597246 6.6768788  6.64633857\n",
      " 7.58686351 6.72982444 7.28010092 6.91736496 6.90995047 5.8741664\n",
      " 6.53737362 7.41262363 6.92557132 6.95330057 7.26038098 6.92557132\n",
      " 7.22744614 6.14700046 6.07557017 7.26334693 7.07633756 6.64651647\n",
      " 6.37564102 6.36606995 6.94874672 7.59881113 7.35845169 6.64647702\n",
      " 6.66761979 7.823412   6.67133346 6.94851772 7.19542131 7.98914565\n",
      " 6.66761979 6.9227526  6.97569011 7.19543195 6.86134681 6.23585822\n",
      " 6.9227056  6.3485969  7.26334693 7.32857969 7.27894236 5.91084576\n",
      " 6.75404424 7.45602742 6.59008781 7.34659923 6.05058089 6.14595721\n",
      " 5.97912791 7.68154971 6.61522518 7.65394342 7.32804198 7.09930652\n",
      " 7.31457903 6.91032518 6.53016191 6.34858879 7.85830527 6.95529303\n",
      " 6.95328962 6.68344532 6.66696982 6.52660661 6.75770021 6.655473\n",
      " 7.54075707 6.02136291 7.14316172 7.28010092 6.84483299 6.29531952\n",
      " 6.51177999 7.50931492 6.94804177 7.3807427  6.15288928 7.70471559\n",
      " 6.90453707 7.23329768 5.96841488 6.55497365 7.41299374 7.38039546\n",
      " 6.65741246 7.27894236 7.16946011 7.75518247 6.37583856 7.15146596\n",
      " 6.13721734 6.58254366 6.58315636 5.99901787 6.81555702 6.47533888\n",
      " 6.92557132 6.88943247 6.06625676 6.19875569 7.12469508 7.58692213\n",
      " 7.58644301 6.69315396 6.60771765 7.2906283  6.94778714 6.96796966\n",
      " 7.80248751 6.56218516 6.825715   6.07695332 7.23326243 7.46915761\n",
      " 6.29965515 7.52669046 7.59786964 7.08589095 6.70727225 6.77665356\n",
      " 6.59748608 6.52736118 5.77415318 6.845851   7.58833536 7.14553403\n",
      " 6.09678302 6.03024716 5.85923507 7.28022745 6.66639364 7.59786964\n",
      " 7.68302534 6.02356819 6.4191069  7.88482444 7.19511325 6.54415822\n",
      " 7.373939   7.04027304 6.61931763 7.19541599 7.77173051 7.5095412\n",
      " 7.43821657 7.46805885 5.87353302 6.93398755 7.10038572 7.36608055\n",
      " 6.9531521  6.44397187 7.41335078 6.07695332 7.41311997 6.92557132\n",
      " 7.02892423 6.27240176 7.41451538 6.86134681 6.54410812 6.729867\n",
      " 7.13544875 6.81677289 6.9314495  6.0769935  7.07546535 6.95320174\n",
      " 6.51141231 7.45507178 6.37597246 6.52660661 6.42603237 6.66062964\n",
      " 6.94857657 7.34858291 6.92557132 7.59657624 6.38507276 7.34663997\n",
      " 7.59774288 7.24688796 5.9849796  7.94750193 6.55497365 6.24504588\n",
      " 7.07526203 7.02035959 7.34666028 7.58639006 6.68228691 6.25580194\n",
      " 6.1987315  6.54423837 7.36168973 6.21636893 5.79413029 5.87192823\n",
      " 7.9585419  6.25914214 6.320117   6.92488291 7.4691167  6.54346718\n",
      " 6.95313552 7.31780963 6.43514267 6.9227526  6.34401421 6.41853919\n",
      " 7.66544936 7.79403545 7.48385218 7.42719078 6.87978193 6.09832695\n",
      " 7.32776428]\n"
     ]
    }
   ],
   "source": [
    "print(final_predict.shape)\n",
    "print(final_predict)"
   ]
  },
  {
   "cell_type": "code",
   "execution_count": 164,
   "metadata": {},
   "outputs": [],
   "source": [
    "final_predict_exp = np.exp(final_predict)"
   ]
  },
  {
   "cell_type": "code",
   "execution_count": 165,
   "metadata": {},
   "outputs": [
    {
     "data": {
      "text/plain": [
       "array([1363.35376887,  392.75206699,  392.3317246 , 1192.31250503,\n",
       "        424.35380268,  972.36072127,  666.53594029, 1545.37561689,\n",
       "       1631.37130597, 1198.80946767,  592.28810091, 1041.10384603,\n",
       "       1461.58490517,  512.26959254,  860.57976407, 1041.60463397,\n",
       "       1333.31194784, 2242.88641321,  612.69012547,  564.0935519 ,\n",
       "       1249.00283415,  608.76289628,  695.30708233,  710.47708024,\n",
       "        418.50402388, 2157.20162873,  597.25533084,  549.09765895,\n",
       "        582.24922352, 1198.80946767,  938.92311199,  997.4100242 ,\n",
       "        981.94390246,  798.8961122 , 1381.00099813, 1362.95504993,\n",
       "        938.91271656, 1333.06886541,  522.6484515 , 2108.60633804,\n",
       "       1972.72233915, 1198.80946767,  303.2895553 , 1569.40475192,\n",
       "       1041.73711308, 1994.6068276 , 1032.43556381, 1971.30071223,\n",
       "       1042.36600528, 1277.36927487, 1194.51213586,  648.73413693,\n",
       "        779.82089372, 1295.12656688,  357.62378871,  970.37479074,\n",
       "        912.61591349,  423.80909728, 1040.76600337, 1363.24641485,\n",
       "        745.6626257 , 1942.4105425 ,  868.32088046,  509.05412665,\n",
       "        877.10475595, 1315.55528125,  881.73458247, 1863.07067036,\n",
       "        779.80046951, 1026.54996378,  357.57541901, 1569.40475192,\n",
       "       1660.77661146, 1269.13981784,  603.86771133, 1017.87228591,\n",
       "        607.58742324, 2505.54262907,  554.87302684, 1449.64252391,\n",
       "        859.20280746,  636.1847457 , 1041.02628228, 1466.49180882,\n",
       "       1463.27777779,  706.33274569, 1403.40579387, 1015.11034777,\n",
       "        837.0359312 ,  939.97285453, 1291.23423926,  622.62594633,\n",
       "        409.05367594, 1776.22304538, 2132.87011913, 1703.46677974,\n",
       "       1041.70665423,  722.81720165,  362.98684397,  414.89889216,\n",
       "       1461.29512471, 1265.06610348, 1017.84632636,  769.97525579,\n",
       "       1461.71841883,  571.68537237, 3147.82080012, 1085.77738422,\n",
       "       2607.12005358, 1720.17851202, 1333.8488125 ,  548.94158371,\n",
       "       1522.44115785, 1971.18480255, 1040.84394   , 1860.42858507,\n",
       "       1507.21603555, 2238.7362407 , 1073.78695028, 1506.89967689,\n",
       "        763.12047604, 1523.4868717 , 1660.66573923, 1163.03476112,\n",
       "        875.04143461, 1041.70665423,  666.16637407,  766.89799711,\n",
       "        979.50967642, 1182.62342628,  354.93271319,  564.0935519 ,\n",
       "        557.10935553,  521.39029313,  444.25426708, 2108.46515366,\n",
       "       1592.62887222, 1995.48714455, 1590.76989621, 1017.21232807,\n",
       "       1334.01656287, 1449.54861042,  799.91345941, 1778.76450488,\n",
       "       2409.65112204,  555.63799595, 1781.71664777,  557.10935553,\n",
       "        553.59570529, 1658.78322561,  991.71318806, 1728.70528318,\n",
       "       1462.39461356,  343.10078148, 1593.77674266,  645.37384158,\n",
       "       1191.91126184, 1206.90211119, 1190.46022266,  687.37004555,\n",
       "       3677.36702355, 1536.43266523,  603.88231461,  492.12438561,\n",
       "       1041.61486996, 2550.7309039 , 1016.64462855, 1057.98752817,\n",
       "        695.26203482,  997.4100242 ,  418.01819558,  587.55652956,\n",
       "        793.83751308,  769.96000139, 1972.11827365,  837.00030965,\n",
       "       1451.13446894, 1009.65600583, 1002.19760017,  355.72800222,\n",
       "        690.47075721, 1656.76740058, 1017.97569033, 1046.59840122,\n",
       "       1422.79848509, 1017.97569033, 1376.70210555,  467.31355774,\n",
       "        435.09750998, 1427.02470631, 1183.62561699,  770.09699276,\n",
       "        587.3618228 ,  581.7669596 , 1041.8431835 , 1995.82171148,\n",
       "       1569.40475192,  770.0666083 ,  786.52129151, 2498.41547355,\n",
       "        789.44760143, 1041.60463397, 1333.31194784, 2948.7766041 ,\n",
       "        786.52129151, 1015.11034777, 1070.29555329, 1333.32612516,\n",
       "        954.65194048,  510.73875675, 1015.06263384,  571.69000673,\n",
       "       1427.02470631, 1523.21679812, 1449.45421612,  369.01812271,\n",
       "        857.51977512, 1730.26078058,  727.84477913, 1550.9132514 ,\n",
       "        424.35946492,  466.82628581,  395.09565972, 2167.9769114 ,\n",
       "        746.37278067, 2108.94567634, 1522.39796237, 1211.1268891 ,\n",
       "       1502.03934233, 1002.57320915,  685.50919288,  571.68537237,\n",
       "       2587.13215877, 1048.6857942 , 1046.58694006,  799.06741663,\n",
       "        786.0102406 ,  683.07633275,  860.6605778 ,  777.02536764,\n",
       "       1883.25523307,  412.13992186, 1265.42298825, 1451.13446894,\n",
       "        939.01644639,  542.02900775,  673.0233247 , 1824.9628657 ,\n",
       "       1041.1090019 , 1604.78120034,  470.0736001 , 2218.78625544,\n",
       "        996.78696408, 1384.78155218,  390.88557854,  702.73063005,\n",
       "       1657.38069217, 1604.22404638,  778.53384283, 1449.45421612,\n",
       "       1299.14301991, 2333.63513545,  587.47785843, 1275.97511924,\n",
       "        462.76406094,  722.37447085,  722.81720165,  403.03276871,\n",
       "        911.92433738,  648.93910046, 1017.97569033,  981.84403233,\n",
       "        431.06408001,  492.1362879 , 1242.26931146, 1972.23387897,\n",
       "       1971.28916333,  806.86305586,  740.79034463, 1466.49180882,\n",
       "       1040.84394   , 1062.06420407, 2446.68054508,  707.81669946,\n",
       "        921.23485332,  435.69973347, 1384.73273295, 1753.12924324,\n",
       "        544.38414701, 1856.94967548, 1993.94353983, 1194.98743334,\n",
       "        818.33537426,  877.12854579,  733.24954124,  683.59195145,\n",
       "        321.87175025,  939.97285453, 1975.02306704, 1268.42852555,\n",
       "        444.42576014,  415.81779022,  350.45596825, 1451.31808974,\n",
       "        785.55749001, 1993.94353983, 2171.17839996,  413.04980944,\n",
       "        613.45499335, 2656.65858188, 1332.90127144,  695.17124814,\n",
       "       1593.89980234, 1141.69929256,  749.43353155, 1333.30485331,\n",
       "       2372.57348874, 1825.37586503, 1699.71619683, 1751.20403599,\n",
       "        355.50276165, 1026.57936359, 1212.43464011, 1581.42331795,\n",
       "       1046.44302994,  628.89975212, 1657.97255463,  435.69973347,\n",
       "       1657.58992221, 1017.97569033, 1128.81561056,  529.74817927,\n",
       "       1659.90454948,  954.65194048,  695.1364272 ,  837.0359312 ,\n",
       "       1255.70035463,  913.03378951, 1023.97716348,  435.71723783,\n",
       "       1182.59369522, 1046.49497525,  672.77591572, 1728.6080775 ,\n",
       "        587.55652956,  683.07633275,  617.71820021,  781.04255797,\n",
       "       1041.66593671, 1553.99281427, 1017.97569033, 1991.36625399,\n",
       "        592.92787532, 1550.97642815, 1993.69081155, 1403.72958022,\n",
       "        397.41441354, 2828.50033864,  702.73063005,  515.45287329,\n",
       "       1182.35327252, 1119.18899351, 1551.00794061, 1971.18480255,\n",
       "        798.14230617,  521.02703803,  492.12438561,  695.2269688 ,\n",
       "       1574.49479468,  500.88118927,  328.3664747 ,  354.93271319,\n",
       "       2859.89990276,  522.77028634,  555.63799595, 1017.27514537,\n",
       "       1753.05752937,  694.69102931, 1046.42568044, 1506.89967689,\n",
       "        623.37151459, 1015.11034777,  569.07612473,  613.10682647,\n",
       "       2133.35121213, 2426.0882024 , 1779.08093026, 1681.07841266,\n",
       "        972.41428397,  445.11245013, 1521.97525317])"
      ]
     },
     "execution_count": 165,
     "metadata": {},
     "output_type": "execute_result"
    }
   ],
   "source": [
    "final_predict_exp"
   ]
  },
  {
   "cell_type": "markdown",
   "metadata": {},
   "source": [
    "IMPORTANTE: APLICAR LO MISMO A ESTOS DATOS QUE HAYÁIS APLICADO A LOS DATOS DE ENTRENAMIENTO\n",
    "\n",
    "- SI EL ARRAY CON EL QUE HICISTEIS `.fit()` ERA DE 4 COLUMNAS, PARA `.predict()` DEBEN SER LAS MISMAS\n",
    "- SI AL ARRAY CON EL QUE HICISTEIS `.fit()` LO NORMALIZASTEIS, PARA `.predict()` DEBÉIS NORMALIZARLO\n",
    "- TODO IGUAL SALVO BORRAR FILAS, EL NÚMERO DE ROWS SE DEBE MANTENER EN ESTE SET, PUES LA PREDICCIÓN DEBE TENER 391 FILAS, SI O SI"
   ]
  },
  {
   "cell_type": "markdown",
   "metadata": {},
   "source": [
    "**Entonces, si al cargar los datos de train usé `index_col=0` para que utilizara la primera columna del conjunto de datos como índice, ¿tendré que hacerlo también para el conjunto `test.csv`?**"
   ]
  },
  {
   "cell_type": "code",
   "execution_count": null,
   "metadata": {},
   "outputs": [],
   "source": [
    "# ¿Qué opináis?\n",
    "# Sí"
   ]
  },
  {
   "cell_type": "markdown",
   "metadata": {},
   "source": [
    "![](https://www.tierraljelechu.com/web/img/wiki_up/1.996-SorpresaDto.-1-Red.jpg)"
   ]
  },
  {
   "cell_type": "markdown",
   "metadata": {},
   "source": [
    "### 3. AHORA puedo hacer la predicción que será lo que subirás a Kaggle. "
   ]
  },
  {
   "cell_type": "markdown",
   "metadata": {},
   "source": [
    "**¿Qué es lo que subirás a Kaggle?**"
   ]
  },
  {
   "cell_type": "code",
   "execution_count": null,
   "metadata": {},
   "outputs": [
    {
     "data": {
      "text/plain": [
       "array([1097.6423004 , 1095.00755928, 1084.79793741, 1101.01825451,\n",
       "        981.53500887, 1062.70472731, 1123.17875843, 1136.91660235,\n",
       "       1100.68891187, 1171.05845611, 1061.49713762, 1039.67799563,\n",
       "       1120.5592512 , 1084.55112248, 1067.42530516, 1144.60126397,\n",
       "       1008.086748  , 1087.21311678, 1117.59516743, 1166.6672209 ,\n",
       "       1136.28517025, 1137.01114934, 1201.1384173 , 1195.5395924 ,\n",
       "       1155.57935199, 1095.22712104, 1205.96877603, 1141.07304191,\n",
       "       1087.734768  , 1145.58929189, 1069.84048452, 1117.48538655,\n",
       "       1169.08240026, 1183.02457206, 1166.99656354, 1048.59589281,\n",
       "       1143.28389341, 1069.57766753, 1078.759989  , 1072.74768646,\n",
       "       1196.62216731, 1063.58297435, 1030.59182845,  995.79128941,\n",
       "       1065.55903019, 1129.78084514, 1071.26763597, 1167.64001493,\n",
       "       1224.39673002, 1248.32896191, 1181.26807797, 1092.56512673,\n",
       "       1090.69885177, 1189.17230135, 1066.32749635, 1158.8727784 ,\n",
       "       1102.11606331, 1053.33170455, 1106.66997846, 1072.30856294,\n",
       "       1065.99815371, 1100.57913099, 1154.26198143, 1132.7449289 ,\n",
       "       1091.57709881, 1115.16475417, 1086.52717832, 1132.07100973,\n",
       "       1118.14407183, 1168.8628385 , 1171.60736051, 1000.2923055 ,\n",
       "       1196.51238643, 1005.56178775, 1198.39389529, 1106.068175  ,\n",
       "       1090.36950913, 1057.41120648, 1150.74899326, 1201.35797906,\n",
       "       1198.94279969, 1099.26176043, 1052.74192038, 1197.39063348,\n",
       "       1175.32467655, 1112.65502782, 1137.18906317, 1073.62593351,\n",
       "       1077.1958035 , 1138.98720518, 1055.51208827, 1124.18202024,\n",
       "       1122.86464968, 1103.26677117, 1182.03654413, 1141.11552898,\n",
       "       1162.82489009, 1101.34759715, 1194.4417836 , 1070.60895068,\n",
       "       1115.94845423, 1100.14000747, 1093.99227818, 1068.8524566 ,\n",
       "       1151.39244465, 1114.74086454, 1109.47138229, 1161.17817689,\n",
       "       1147.34578598, 1187.96471167, 1121.24518966, 1023.94970111,\n",
       "       1021.60342286, 1133.60794205, 1114.68398272, 1025.43212708,\n",
       "       1040.76378515, 1164.89549292, 1076.015467  , 1061.4402558 ,\n",
       "       1193.12441304, 1121.5745323 , 1232.19117251, 1086.90942002,\n",
       "       1158.76299752, 1179.07246037, 1077.63492702, 1099.3042475 ,\n",
       "       1086.3741422 , 1027.38253705, 1194.66134536, 1093.44337378,\n",
       "       1103.43343388, 1113.51804097, 1027.46268928, 1040.58188855,\n",
       "       1016.29466814, 1244.92575462, 1129.59894854, 1069.3188333 ,\n",
       "       1039.78777651, 1199.05258057, 1123.52333496, 1153.82285791,\n",
       "       1115.28976894, 1206.07855691, 1135.0350935 , 1084.77068424,\n",
       "       1108.37357349, 1129.67106426, 1087.51520624, 1193.23419392,\n",
       "       1058.03704851, 1018.81962839, 1094.54118258, 1085.10002688,\n",
       "       1039.77575723, 1148.55337566, 1043.08602483, 1093.00425025,\n",
       "       1131.85144797, 1191.47769984, 1171.16823699, 1197.84499089,\n",
       "       1144.05235957, 1230.21511667, 1029.82336229, 1082.13594311,\n",
       "       1008.76066717, 1086.6369592 , 1139.33178172, 1201.6873217 ,\n",
       "       1128.57325545, 1142.73498901, 1083.89243719, 1080.59901079,\n",
       "       1118.12883794, 1106.01129318, 1038.72924018, 1002.17381436,\n",
       "       1101.12803539, 1093.3335929 , 1171.71714139, 1134.06229947,\n",
       "       1232.63029603, 1115.72889247, 1104.47436085, 1151.50222553,\n",
       "        985.37733968, 1133.95251859, 1097.7248281 , 1180.93873533,\n",
       "       1119.84368409, 1183.3539147 , 1164.47160329, 1238.77802533,\n",
       "        996.99887909, 1131.53733922, 1139.86545223, 1118.69297623,\n",
       "       1094.05880382, 1098.82263691, 1005.23244511, 1083.56309455,\n",
       "       1113.18869833, 1021.48001539, 1112.92748863, 1015.55184786,\n",
       "       1121.54727912, 1053.94951007, 1005.89113039, 1137.46550675,\n",
       "       1120.22990856, 1105.76608554, 1133.73295683, 1102.55518684,\n",
       "       1162.16620481, 1231.42270635, 1067.7546478 , 1088.39345328,\n",
       "       1079.61098286, 1197.29608649, 1131.12546888, 1132.1960245 ,\n",
       "       1138.3285199 , 1079.3088934 , 1091.86318622, 1125.93851433,\n",
       "       1008.19652888, 1101.72983885, 1143.59800216, 1161.06839601,\n",
       "       1105.62905148, 1117.68971442, 1139.4415626 , 1038.27649007,\n",
       "       1178.08443245, 1071.92632125, 1121.76684088, 1129.56128338,\n",
       "       1144.62851715,  994.48915274, 1005.74529165, 1224.72607266,\n",
       "       1141.74696108, 1078.54042724, 1013.56538003, 1132.1134968 ,\n",
       "       1130.90590712, 1130.68634536, 1104.9703662 , 1128.35369369,\n",
       "       1055.59622327, 1063.91231699, 1037.19391516, 1190.27011015,\n",
       "       1119.07521793, 1108.86559606, 1027.42180951, 1148.44359478,\n",
       "       1032.54223842, 1045.82572493, 1103.13134442, 1195.10046888,\n",
       "       1105.84861324, 1108.0971299 , 1137.35572587, 1204.87096723,\n",
       "       1016.9789993 , 1071.37741685, 1177.2061854 , 1162.71510921,\n",
       "       1087.07608272, 1168.64327674, 1190.91356154, 1192.35594688,\n",
       "       1218.907686  , 1118.03429095, 1198.72323793, 1242.40079438,\n",
       "       1097.33860364, 1118.74587529, 1228.56840347, 1171.81168838,\n",
       "       1169.74108555, 1133.84273771, 1070.82851244, 1146.78164768,\n",
       "       1208.69806414, 1122.80776786, 1079.72076374, 1170.28998995,\n",
       "       1203.55359666, 1085.86849304, 1090.58907089, 1204.63617157,\n",
       "       1081.87473342, 1131.08298181, 1112.48836511, 1098.95967097,\n",
       "       1121.65706   , 1077.30558438, 1144.71104485, 1232.95963868,\n",
       "       1070.63620386, 1136.14813619, 1086.66421238, 1097.39548546,\n",
       "       1186.30276457, 1049.91326337, 1077.70145266, 1168.75305762,\n",
       "       1068.52311396, 1095.58210955, 1168.3139341 , 1067.69776597,\n",
       "       1138.76764342, 1152.42295965, 1139.82380429, 1111.11809549,\n",
       "       1086.11530798, 1090.47929001, 1124.27656723, 1173.23883982,\n",
       "       1120.66903208, 1131.52210533, 1109.60841635, 1062.37538467,\n",
       "       1184.56150438, 1116.71692039, 1079.11497752, 1124.73092465,\n",
       "       1234.05744748, 1133.51339507, 1103.21387212, 1150.63921238,\n",
       "       1140.42959052, 1089.16191945, 1016.40444902, 1178.63333685,\n",
       "       1031.5542105 , 1108.70291613, 1204.98074811, 1098.49329427,\n",
       "       1203.22425402, 1072.69478741, 1114.9604263 , 1160.72381947,\n",
       "       1070.93829332, 1143.10199681, 1124.84070553, 1144.73829803,\n",
       "       1119.35166151, 1148.77293742, 1073.35347269, 1060.53636288,\n",
       "       1103.68024882, 1136.57202582, 1229.55643139, 1126.48741873,\n",
       "       1133.45651324, 1184.34194262, 1071.59697861, 1154.68587106,\n",
       "       1111.80403396, 1072.58500653, 1159.64124456, 1180.28005005,\n",
       "       1143.42092747, 1123.19399232, 1045.20791941, 1065.22968755,\n",
       "       1214.51645079, 1186.86690286, 1191.80704248, 1094.67821664,\n",
       "       1136.47747883, 1154.06967285, 1120.01034679, 1098.21685068,\n",
       "       1021.71481104, 1041.35035471, 1012.27365534, 1097.28570458,\n",
       "       1188.62339695, 1100.24978835, 1137.24594499, 1096.58376407,\n",
       "       1066.54705812, 1197.62542913, 1073.74934098])"
      ]
     },
     "execution_count": 43,
     "metadata": {},
     "output_type": "execute_result"
    }
   ],
   "source": [
    "predictions_submit = model.predict(X_pred)\n",
    "predictions_submit"
   ]
  },
  {
   "cell_type": "markdown",
   "metadata": {},
   "source": [
    "**¡PERO! Para subir a Kaggle la predicción, ésta tendrá que tener una forma específica y no valdrá otra.**\n",
    "\n",
    "En este caso, la **MISMA** forma que `sample_submission.csv`. "
   ]
  },
  {
   "cell_type": "code",
   "execution_count": 172,
   "metadata": {},
   "outputs": [],
   "source": [
    "sample = pd.read_csv(\"data/sample_submission.csv\")"
   ]
  },
  {
   "cell_type": "code",
   "execution_count": 173,
   "metadata": {},
   "outputs": [
    {
     "data": {
      "text/html": [
       "<div>\n",
       "<style scoped>\n",
       "    .dataframe tbody tr th:only-of-type {\n",
       "        vertical-align: middle;\n",
       "    }\n",
       "\n",
       "    .dataframe tbody tr th {\n",
       "        vertical-align: top;\n",
       "    }\n",
       "\n",
       "    .dataframe thead th {\n",
       "        text-align: right;\n",
       "    }\n",
       "</style>\n",
       "<table border=\"1\" class=\"dataframe\">\n",
       "  <thead>\n",
       "    <tr style=\"text-align: right;\">\n",
       "      <th></th>\n",
       "      <th>laptop_ID</th>\n",
       "      <th>Price_euros</th>\n",
       "    </tr>\n",
       "  </thead>\n",
       "  <tbody>\n",
       "    <tr>\n",
       "      <th>0</th>\n",
       "      <td>750</td>\n",
       "      <td>500</td>\n",
       "    </tr>\n",
       "    <tr>\n",
       "      <th>1</th>\n",
       "      <td>726</td>\n",
       "      <td>500</td>\n",
       "    </tr>\n",
       "    <tr>\n",
       "      <th>2</th>\n",
       "      <td>633</td>\n",
       "      <td>500</td>\n",
       "    </tr>\n",
       "    <tr>\n",
       "      <th>3</th>\n",
       "      <td>363</td>\n",
       "      <td>650</td>\n",
       "    </tr>\n",
       "    <tr>\n",
       "      <th>4</th>\n",
       "      <td>319</td>\n",
       "      <td>650</td>\n",
       "    </tr>\n",
       "  </tbody>\n",
       "</table>\n",
       "</div>"
      ],
      "text/plain": [
       "   laptop_ID  Price_euros\n",
       "0        750          500\n",
       "1        726          500\n",
       "2        633          500\n",
       "3        363          650\n",
       "4        319          650"
      ]
     },
     "execution_count": 173,
     "metadata": {},
     "output_type": "execute_result"
    }
   ],
   "source": [
    "sample.head()"
   ]
  },
  {
   "cell_type": "code",
   "execution_count": 154,
   "metadata": {},
   "outputs": [
    {
     "data": {
      "text/plain": [
       "(391, 2)"
      ]
     },
     "execution_count": 154,
     "metadata": {},
     "output_type": "execute_result"
    }
   ],
   "source": [
    "sample.shape"
   ]
  },
  {
   "cell_type": "markdown",
   "metadata": {},
   "source": [
    "### 4. Mete tus predicciones en un dataframe. \n",
    "\n",
    "En este caso, la **MISMA** forma que `sample_submission.csv`. "
   ]
  },
  {
   "cell_type": "code",
   "execution_count": 175,
   "metadata": {},
   "outputs": [],
   "source": [
    "submission = pd.DataFrame({\"laptop_ID\": sample['laptop_ID'], \"Price_euros\": final_predict_exp})"
   ]
  },
  {
   "cell_type": "code",
   "execution_count": 176,
   "metadata": {},
   "outputs": [
    {
     "data": {
      "text/html": [
       "<div>\n",
       "<style scoped>\n",
       "    .dataframe tbody tr th:only-of-type {\n",
       "        vertical-align: middle;\n",
       "    }\n",
       "\n",
       "    .dataframe tbody tr th {\n",
       "        vertical-align: top;\n",
       "    }\n",
       "\n",
       "    .dataframe thead th {\n",
       "        text-align: right;\n",
       "    }\n",
       "</style>\n",
       "<table border=\"1\" class=\"dataframe\">\n",
       "  <thead>\n",
       "    <tr style=\"text-align: right;\">\n",
       "      <th></th>\n",
       "      <th>laptop_ID</th>\n",
       "      <th>Price_euros</th>\n",
       "    </tr>\n",
       "  </thead>\n",
       "  <tbody>\n",
       "    <tr>\n",
       "      <th>0</th>\n",
       "      <td>750</td>\n",
       "      <td>1363.353769</td>\n",
       "    </tr>\n",
       "    <tr>\n",
       "      <th>1</th>\n",
       "      <td>726</td>\n",
       "      <td>392.752067</td>\n",
       "    </tr>\n",
       "    <tr>\n",
       "      <th>2</th>\n",
       "      <td>633</td>\n",
       "      <td>392.331725</td>\n",
       "    </tr>\n",
       "    <tr>\n",
       "      <th>3</th>\n",
       "      <td>363</td>\n",
       "      <td>1192.312505</td>\n",
       "    </tr>\n",
       "    <tr>\n",
       "      <th>4</th>\n",
       "      <td>319</td>\n",
       "      <td>424.353803</td>\n",
       "    </tr>\n",
       "  </tbody>\n",
       "</table>\n",
       "</div>"
      ],
      "text/plain": [
       "   laptop_ID  Price_euros\n",
       "0        750  1363.353769\n",
       "1        726   392.752067\n",
       "2        633   392.331725\n",
       "3        363  1192.312505\n",
       "4        319   424.353803"
      ]
     },
     "execution_count": 176,
     "metadata": {},
     "output_type": "execute_result"
    }
   ],
   "source": [
    "submission.head()"
   ]
  },
  {
   "cell_type": "code",
   "execution_count": 177,
   "metadata": {},
   "outputs": [
    {
     "data": {
      "text/plain": [
       "(391, 2)"
      ]
     },
     "execution_count": 177,
     "metadata": {},
     "output_type": "execute_result"
    }
   ],
   "source": [
    "submission.shape"
   ]
  },
  {
   "cell_type": "markdown",
   "metadata": {},
   "source": [
    "### 5. Pásale el CHEQUEATOR para comprobar que efectivamente está listo para subir a Kaggle."
   ]
  },
  {
   "cell_type": "code",
   "execution_count": 179,
   "metadata": {},
   "outputs": [],
   "source": [
    "def chequeator(df_to_submit):\n",
    "    \"\"\"\n",
    "    Esta función se asegura de que tu submission tenga la forma requerida por Kaggle.\n",
    "    \n",
    "    Si es así, se guardará el dataframe en un `csv` y estará listo para subir a Kaggle.\n",
    "    \n",
    "    Si no, LEE EL MENSAJE Y HAZLE CASO.\n",
    "    \n",
    "    Si aún no:\n",
    "    - apaga tu ordenador, \n",
    "    - date una vuelta, \n",
    "    - enciendelo otra vez, \n",
    "    - abre este notebook y \n",
    "    - leelo todo de nuevo. \n",
    "    Todos nos merecemos una segunda oportunidad. También tú.\n",
    "    \"\"\"\n",
    "    if df_to_submit.shape == sample.shape:\n",
    "        if df_to_submit.columns.all() == sample.columns.all():\n",
    "            if df_to_submit.laptop_ID.all() == sample.laptop_ID.all():\n",
    "                print(\"You're ready to submit!\")\n",
    "                submission.to_csv(\"submission.csv\", index = False) #muy importante el index = False\n",
    "                urllib.request.urlretrieve(\"https://i.kym-cdn.com/photos/images/facebook/000/747/556/27a.jpg\", \"gfg.png\")     \n",
    "                img = Image.open(\"gfg.png\")\n",
    "                img.show()   \n",
    "            else:\n",
    "                print(\"Check the ids and try again\")\n",
    "        else:\n",
    "            print(\"Check the names of the columns and try again\")\n",
    "    else:\n",
    "        print(\"Check the number of rows and/or columns and try again\")\n",
    "        print(\"\\nMensaje secreto de Clara: No me puedo creer que después de todo este notebook hayas hecho algún cambio en las filas de `diamonds_test.csv`. Lloro.\")\n"
   ]
  },
  {
   "cell_type": "code",
   "execution_count": 180,
   "metadata": {},
   "outputs": [
    {
     "name": "stdout",
     "output_type": "stream",
     "text": [
      "You're ready to submit!\n"
     ]
    }
   ],
   "source": [
    "chequeator(submission)"
   ]
  },
  {
   "cell_type": "code",
   "execution_count": null,
   "metadata": {},
   "outputs": [],
   "source": []
  }
 ],
 "metadata": {
  "kernelspec": {
   "display_name": "Python 3",
   "language": "python",
   "name": "python3"
  },
  "language_info": {
   "codemirror_mode": {
    "name": "ipython",
    "version": 3
   },
   "file_extension": ".py",
   "mimetype": "text/x-python",
   "name": "python",
   "nbconvert_exporter": "python",
   "pygments_lexer": "ipython3",
   "version": "3.11.5"
  }
 },
 "nbformat": 4,
 "nbformat_minor": 4
}
