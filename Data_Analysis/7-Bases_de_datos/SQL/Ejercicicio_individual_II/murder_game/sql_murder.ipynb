{
 "cells": [
  {
   "cell_type": "code",
   "execution_count": 1,
   "metadata": {},
   "outputs": [],
   "source": [
    "import pandas as pd\n",
    "import sqlite3 "
   ]
  },
  {
   "cell_type": "code",
   "execution_count": 11,
   "metadata": {},
   "outputs": [],
   "source": [
    "# Conectamos con la base de datos .db. ESTA PARTE SIEMPRE HAY QUE HACERLA\n",
    "connection = sqlite3.connect(r\"C:\\Users\\laura\\Desktop\\DS_PT_09_2023\\Data_Analysis\\7-Bases_de_datos\\SQL\\Ejercicicio_individual_II\\murder_game\\data\\sql-murder-mystery.db\")\n",
    "\n",
    "# Obtenemos un cursor que utilizaremos para hacer las queries. Es lo mismo al cntr enter en el dbeaver. PODEMOS UTILIZAR ESTE O PANDAS LO CREA, PERO MEJOR HACERLO.\n",
    "crsr = connection.cursor()"
   ]
  },
  {
   "cell_type": "code",
   "execution_count": 12,
   "metadata": {},
   "outputs": [],
   "source": [
    "# Con esta función leemos los datos y lo pasamos a un DataFrame de Pandas\n",
    "def sql_query(query):\n",
    "\n",
    "    # Ejecuta la query\n",
    "    crsr.execute(query)\n",
    "\n",
    "    # Almacena los datos de la query \n",
    "    ans = crsr.fetchall()\n",
    "# opci´´on de mejora: añadir un try except, por si no hay nada en la tabla\n",
    "\n",
    "\n",
    "    # Obtenemos los nombres de las columnas de la tabla\n",
    "    names = [description[0] for description in crsr.description]\n",
    "\n",
    "    return pd.DataFrame(ans,columns=names)\n"
   ]
  },
  {
   "cell_type": "code",
   "execution_count": 14,
   "metadata": {},
   "outputs": [
    {
     "ename": "OperationalError",
     "evalue": "no such table: crime_scene_report",
     "output_type": "error",
     "traceback": [
      "\u001b[1;31m---------------------------------------------------------------------------\u001b[0m",
      "\u001b[1;31mOperationalError\u001b[0m                          Traceback (most recent call last)",
      "\u001b[1;32mc:\\Users\\laura\\Desktop\\DS_PT_09_2023\\Data_Analysis\\7-Bases_de_datos\\SQL\\Ejercicicio_individual_II\\murder_game\\sql_murder.ipynb Cell 4\u001b[0m line \u001b[0;36m7\n\u001b[0;32m      <a href='vscode-notebook-cell:/c%3A/Users/laura/Desktop/DS_PT_09_2023/Data_Analysis/7-Bases_de_datos/SQL/Ejercicicio_individual_II/murder_game/sql_murder.ipynb#W5sZmlsZQ%3D%3D?line=0'>1</a>\u001b[0m query1 \u001b[39m=\u001b[39m \u001b[39m\"\"\"\u001b[39m\u001b[39m SELECT * FROM crime_scene_report\u001b[39m\n\u001b[0;32m      <a href='vscode-notebook-cell:/c%3A/Users/laura/Desktop/DS_PT_09_2023/Data_Analysis/7-Bases_de_datos/SQL/Ejercicicio_individual_II/murder_game/sql_murder.ipynb#W5sZmlsZQ%3D%3D?line=1'>2</a>\u001b[0m \u001b[39mWHERE type = \u001b[39m\u001b[39m'\u001b[39m\u001b[39mmurder\u001b[39m\u001b[39m'\u001b[39m\n\u001b[0;32m      <a href='vscode-notebook-cell:/c%3A/Users/laura/Desktop/DS_PT_09_2023/Data_Analysis/7-Bases_de_datos/SQL/Ejercicicio_individual_II/murder_game/sql_murder.ipynb#W5sZmlsZQ%3D%3D?line=2'>3</a>\u001b[0m \u001b[39mAND city = \u001b[39m\u001b[39m'\u001b[39m\u001b[39mSQL City\u001b[39m\u001b[39m'\u001b[39m\n\u001b[0;32m      <a href='vscode-notebook-cell:/c%3A/Users/laura/Desktop/DS_PT_09_2023/Data_Analysis/7-Bases_de_datos/SQL/Ejercicicio_individual_II/murder_game/sql_murder.ipynb#W5sZmlsZQ%3D%3D?line=3'>4</a>\u001b[0m \u001b[39mAND date = \u001b[39m\u001b[39m'\u001b[39m\u001b[39m20180115\u001b[39m\u001b[39m'\u001b[39m\n\u001b[0;32m      <a href='vscode-notebook-cell:/c%3A/Users/laura/Desktop/DS_PT_09_2023/Data_Analysis/7-Bases_de_datos/SQL/Ejercicicio_individual_II/murder_game/sql_murder.ipynb#W5sZmlsZQ%3D%3D?line=4'>5</a>\u001b[0m \u001b[39m \u001b[39m\u001b[39m\"\"\"\u001b[39m\n\u001b[0;32m      <a href='vscode-notebook-cell:/c%3A/Users/laura/Desktop/DS_PT_09_2023/Data_Analysis/7-Bases_de_datos/SQL/Ejercicicio_individual_II/murder_game/sql_murder.ipynb#W5sZmlsZQ%3D%3D?line=5'>6</a>\u001b[0m \u001b[39m#  cuidado con la fecha\u001b[39;00m\n\u001b[1;32m----> <a href='vscode-notebook-cell:/c%3A/Users/laura/Desktop/DS_PT_09_2023/Data_Analysis/7-Bases_de_datos/SQL/Ejercicicio_individual_II/murder_game/sql_murder.ipynb#W5sZmlsZQ%3D%3D?line=6'>7</a>\u001b[0m sql_query(query1)\n",
      "\u001b[1;32mc:\\Users\\laura\\Desktop\\DS_PT_09_2023\\Data_Analysis\\7-Bases_de_datos\\SQL\\Ejercicicio_individual_II\\murder_game\\sql_murder.ipynb Cell 4\u001b[0m line \u001b[0;36m5\n\u001b[0;32m      <a href='vscode-notebook-cell:/c%3A/Users/laura/Desktop/DS_PT_09_2023/Data_Analysis/7-Bases_de_datos/SQL/Ejercicicio_individual_II/murder_game/sql_murder.ipynb#W5sZmlsZQ%3D%3D?line=1'>2</a>\u001b[0m \u001b[39mdef\u001b[39;00m \u001b[39msql_query\u001b[39m(query):\n\u001b[0;32m      <a href='vscode-notebook-cell:/c%3A/Users/laura/Desktop/DS_PT_09_2023/Data_Analysis/7-Bases_de_datos/SQL/Ejercicicio_individual_II/murder_game/sql_murder.ipynb#W5sZmlsZQ%3D%3D?line=2'>3</a>\u001b[0m \n\u001b[0;32m      <a href='vscode-notebook-cell:/c%3A/Users/laura/Desktop/DS_PT_09_2023/Data_Analysis/7-Bases_de_datos/SQL/Ejercicicio_individual_II/murder_game/sql_murder.ipynb#W5sZmlsZQ%3D%3D?line=3'>4</a>\u001b[0m     \u001b[39m# Ejecuta la query\u001b[39;00m\n\u001b[1;32m----> <a href='vscode-notebook-cell:/c%3A/Users/laura/Desktop/DS_PT_09_2023/Data_Analysis/7-Bases_de_datos/SQL/Ejercicicio_individual_II/murder_game/sql_murder.ipynb#W5sZmlsZQ%3D%3D?line=4'>5</a>\u001b[0m     crsr\u001b[39m.\u001b[39;49mexecute(query)\n\u001b[0;32m      <a href='vscode-notebook-cell:/c%3A/Users/laura/Desktop/DS_PT_09_2023/Data_Analysis/7-Bases_de_datos/SQL/Ejercicicio_individual_II/murder_game/sql_murder.ipynb#W5sZmlsZQ%3D%3D?line=6'>7</a>\u001b[0m     \u001b[39m# Almacena los datos de la query \u001b[39;00m\n\u001b[0;32m      <a href='vscode-notebook-cell:/c%3A/Users/laura/Desktop/DS_PT_09_2023/Data_Analysis/7-Bases_de_datos/SQL/Ejercicicio_individual_II/murder_game/sql_murder.ipynb#W5sZmlsZQ%3D%3D?line=7'>8</a>\u001b[0m     ans \u001b[39m=\u001b[39m crsr\u001b[39m.\u001b[39mfetchall()\n",
      "\u001b[1;31mOperationalError\u001b[0m: no such table: crime_scene_report"
     ]
    }
   ],
   "source": [
    "query1 = \"\"\" SELECT * FROM crime_scene_report\n",
    "WHERE type = 'murder'\n",
    "AND city = 'SQL City'\n",
    "AND date = '20180115'\n",
    " \"\"\"\n",
    "#  cuidado con la fecha\n",
    "sql_query(query1)"
   ]
  },
  {
   "cell_type": "code",
   "execution_count": null,
   "metadata": {},
   "outputs": [],
   "source": [
    "SELECT * \n",
    "  FROM sqlite_master\n",
    " where type = 'table'"
   ]
  }
 ],
 "metadata": {
  "kernelspec": {
   "display_name": ".venv",
   "language": "python",
   "name": "python3"
  },
  "language_info": {
   "codemirror_mode": {
    "name": "ipython",
    "version": 3
   },
   "file_extension": ".py",
   "mimetype": "text/x-python",
   "name": "python",
   "nbconvert_exporter": "python",
   "pygments_lexer": "ipython3",
   "version": "3.11.5"
  }
 },
 "nbformat": 4,
 "nbformat_minor": 2
}
