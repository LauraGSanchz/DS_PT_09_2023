{
 "cells": [
  {
   "cell_type": "code",
   "execution_count": 1,
   "metadata": {},
   "outputs": [],
   "source": [
    "import pandas as pd\n",
    "import sqlite3 "
   ]
  },
  {
   "cell_type": "markdown",
   "metadata": {},
   "source": [
    "## INSTANCIA DE BBDD ##"
   ]
  },
  {
   "cell_type": "code",
   "execution_count": 2,
   "metadata": {},
   "outputs": [],
   "source": [
    "# Conectamos con la base de datos .db. ESTA PARTE SIEMPRE HAY QUE HACERLA\n",
    "connection = sqlite3.connect(\"data/Bar_TheBridge.db\")\n",
    "\n",
    "# Obtenemos un cursor que utilizaremos para hacer las queries. Es lo mismo al cntr enter en el dbeaver. PODEMOS UTILIZAR ESTE O PANDAS LO CREA, PERO MEJOR HACERLO.\n",
    "crsr = connection.cursor()"
   ]
  },
  {
   "cell_type": "markdown",
   "metadata": {},
   "source": [
    "### Función para interactuar con la BBDD ###"
   ]
  },
  {
   "cell_type": "code",
   "execution_count": 10,
   "metadata": {},
   "outputs": [],
   "source": [
    "# Con esta función leemos los datos y lo pasamos a un DataFrame de Pandas\n",
    "def sql_query(query):\n",
    "\n",
    "    # Ejecuta la query\n",
    "    crsr.execute(query)\n",
    "\n",
    "    # Almacena los datos de la query \n",
    "    ans = crsr.fetchall()\n",
    "# añadir un try except, por si no hay nada en la tabla\n",
    "    # Obtenemos los nombres de las columnas de la tabla\n",
    "    names = [description[0] for description in crsr.description]\n",
    "\n",
    "    return pd.DataFrame(ans,columns=names)\n",
    "\n"
   ]
  },
  {
   "cell_type": "markdown",
   "metadata": {},
   "source": [
    "Podríamos utilizar pandas en lugar de esta función, pero sería más complicado:\n",
    "- pd.read_sql(query, conexión, ...)\n",
    "- pd.read_sql_query()"
   ]
  },
  {
   "cell_type": "markdown",
   "metadata": {},
   "source": [
    "## Creación de tablas ##"
   ]
  },
  {
   "cell_type": "markdown",
   "metadata": {},
   "source": [
    "### 1. Comprobamos si la tabla ya existe, el codigo de abajo muestra las tablas que hay en la BBDD:###"
   ]
  },
  {
   "cell_type": "code",
   "execution_count": 79,
   "metadata": {},
   "outputs": [
    {
     "name": "stdout",
     "output_type": "stream",
     "text": [
      "cerveza\n",
      "bares\n",
      "EMPLEADOS\n",
      "REPARTO\n"
     ]
    }
   ],
   "source": [
    "res = crsr.execute(\"SELECT name FROM sqlite_master WHERE type='table'\")\n",
    "for name in res:\n",
    "    print(name[0])"
   ]
  },
  {
   "cell_type": "markdown",
   "metadata": {},
   "source": [
    "### 2. Creamos la tabla CERVEZA ###"
   ]
  },
  {
   "cell_type": "markdown",
   "metadata": {},
   "source": [
    "Escribimos los comandos de SQL en mayus y el resto en minus.\n",
    "0 ANTES DE UN NUMERO SIEMPRE ES STRING\n"
   ]
  },
  {
   "cell_type": "code",
   "execution_count": 80,
   "metadata": {},
   "outputs": [
    {
     "ename": "OperationalError",
     "evalue": "table cerveza already exists",
     "output_type": "error",
     "traceback": [
      "\u001b[1;31m---------------------------------------------------------------------------\u001b[0m",
      "\u001b[1;31mOperationalError\u001b[0m                          Traceback (most recent call last)",
      "\u001b[1;32mc:\\Users\\laura\\Desktop\\DS_PT_09_2023\\Data_Analysis\\7-Bases_de_datos\\SQL\\SQL_Python\\ejercicio\\práctica_sql_laura.ipynb Cell 12\u001b[0m line \u001b[0;36m9\n\u001b[0;32m      <a href='vscode-notebook-cell:/c%3A/Users/laura/Desktop/DS_PT_09_2023/Data_Analysis/7-Bases_de_datos/SQL/SQL_Python/ejercicio/pr%C3%A1ctica_sql_laura.ipynb#X30sZmlsZQ%3D%3D?line=0'>1</a>\u001b[0m query_cerveza \u001b[39m=\u001b[39m \u001b[39m\"\"\"\u001b[39m\u001b[39m \u001b[39m\n\u001b[0;32m      <a href='vscode-notebook-cell:/c%3A/Users/laura/Desktop/DS_PT_09_2023/Data_Analysis/7-Bases_de_datos/SQL/SQL_Python/ejercicio/pr%C3%A1ctica_sql_laura.ipynb#X30sZmlsZQ%3D%3D?line=1'>2</a>\u001b[0m \u001b[39mCREATE TABLE cerveza(\u001b[39m\n\u001b[0;32m      <a href='vscode-notebook-cell:/c%3A/Users/laura/Desktop/DS_PT_09_2023/Data_Analysis/7-Bases_de_datos/SQL/SQL_Python/ejercicio/pr%C3%A1ctica_sql_laura.ipynb#X30sZmlsZQ%3D%3D?line=2'>3</a>\u001b[0m \u001b[39m    CodC VARCHAR(3),\u001b[39m\n\u001b[1;32m   (...)\u001b[0m\n\u001b[0;32m      <a href='vscode-notebook-cell:/c%3A/Users/laura/Desktop/DS_PT_09_2023/Data_Analysis/7-Bases_de_datos/SQL/SQL_Python/ejercicio/pr%C3%A1ctica_sql_laura.ipynb#X30sZmlsZQ%3D%3D?line=5'>6</a>\u001b[0m \u001b[39m    Stock INT\u001b[39m\n\u001b[0;32m      <a href='vscode-notebook-cell:/c%3A/Users/laura/Desktop/DS_PT_09_2023/Data_Analysis/7-Bases_de_datos/SQL/SQL_Python/ejercicio/pr%C3%A1ctica_sql_laura.ipynb#X30sZmlsZQ%3D%3D?line=6'>7</a>\u001b[0m \u001b[39m    )\u001b[39m\u001b[39m\"\"\"\u001b[39m\n\u001b[1;32m----> <a href='vscode-notebook-cell:/c%3A/Users/laura/Desktop/DS_PT_09_2023/Data_Analysis/7-Bases_de_datos/SQL/SQL_Python/ejercicio/pr%C3%A1ctica_sql_laura.ipynb#X30sZmlsZQ%3D%3D?line=8'>9</a>\u001b[0m crsr\u001b[39m.\u001b[39;49mexecute(query_cerveza)\n",
      "\u001b[1;31mOperationalError\u001b[0m: table cerveza already exists"
     ]
    }
   ],
   "source": [
    "query_cerveza = \"\"\" \n",
    "CREATE TABLE cerveza(\n",
    "    CodC VARCHAR(3),\n",
    "    Envase VARCHAR(50), \n",
    "    Capacidad FLOAT,\n",
    "    Stock INT\n",
    "    )\"\"\"\n",
    "\n",
    "crsr.execute(query_cerveza)\n"
   ]
  },
  {
   "cell_type": "markdown",
   "metadata": {},
   "source": [
    "INT VA DESDE -2M a 2M"
   ]
  },
  {
   "cell_type": "markdown",
   "metadata": {},
   "source": [
    "### 2. Creamos la tabla BARES ###"
   ]
  },
  {
   "cell_type": "code",
   "execution_count": 22,
   "metadata": {},
   "outputs": [],
   "source": [
    "query_bares = \"\"\" \n",
    "CREATE TABLE bares(\n",
    "    CodB VARCHAR(4),\n",
    "    Nombre VARCHAR(50), \n",
    "    Cif VARCHAR(10),\n",
    "    Localidad VARCHAR(50)\n",
    "    )\"\"\"\n",
    "\n",
    "# crsr.execute(query_bares)\n"
   ]
  },
  {
   "cell_type": "markdown",
   "metadata": {},
   "source": [
    "### 2. Creamos la tabla EMPLEADOS ###"
   ]
  },
  {
   "cell_type": "code",
   "execution_count": 81,
   "metadata": {},
   "outputs": [
    {
     "ename": "OperationalError",
     "evalue": "table EMPLEADOS already exists",
     "output_type": "error",
     "traceback": [
      "\u001b[1;31m---------------------------------------------------------------------------\u001b[0m",
      "\u001b[1;31mOperationalError\u001b[0m                          Traceback (most recent call last)",
      "\u001b[1;32mc:\\Users\\laura\\Desktop\\DS_PT_09_2023\\Data_Analysis\\7-Bases_de_datos\\SQL\\SQL_Python\\ejercicio\\práctica_sql_laura.ipynb Cell 17\u001b[0m line \u001b[0;36m7\n\u001b[0;32m      <a href='vscode-notebook-cell:/c%3A/Users/laura/Desktop/DS_PT_09_2023/Data_Analysis/7-Bases_de_datos/SQL/SQL_Python/ejercicio/pr%C3%A1ctica_sql_laura.ipynb#X32sZmlsZQ%3D%3D?line=0'>1</a>\u001b[0m query_empleados \u001b[39m=\u001b[39m \u001b[39m\"\"\"\u001b[39m\u001b[39m \u001b[39m\n\u001b[0;32m      <a href='vscode-notebook-cell:/c%3A/Users/laura/Desktop/DS_PT_09_2023/Data_Analysis/7-Bases_de_datos/SQL/SQL_Python/ejercicio/pr%C3%A1ctica_sql_laura.ipynb#X32sZmlsZQ%3D%3D?line=1'>2</a>\u001b[0m \u001b[39mCREATE TABLE EMPLEADOS(\u001b[39m\n\u001b[0;32m      <a href='vscode-notebook-cell:/c%3A/Users/laura/Desktop/DS_PT_09_2023/Data_Analysis/7-Bases_de_datos/SQL/SQL_Python/ejercicio/pr%C3%A1ctica_sql_laura.ipynb#X32sZmlsZQ%3D%3D?line=2'>3</a>\u001b[0m \u001b[39m    CodE VARCHAR(2),\u001b[39m\n\u001b[0;32m      <a href='vscode-notebook-cell:/c%3A/Users/laura/Desktop/DS_PT_09_2023/Data_Analysis/7-Bases_de_datos/SQL/SQL_Python/ejercicio/pr%C3%A1ctica_sql_laura.ipynb#X32sZmlsZQ%3D%3D?line=3'>4</a>\u001b[0m \u001b[39m    Nombre VARCHAR(50), \u001b[39m\n\u001b[0;32m      <a href='vscode-notebook-cell:/c%3A/Users/laura/Desktop/DS_PT_09_2023/Data_Analysis/7-Bases_de_datos/SQL/SQL_Python/ejercicio/pr%C3%A1ctica_sql_laura.ipynb#X32sZmlsZQ%3D%3D?line=4'>5</a>\u001b[0m \u001b[39m    Sueldo INT\u001b[39m\n\u001b[0;32m      <a href='vscode-notebook-cell:/c%3A/Users/laura/Desktop/DS_PT_09_2023/Data_Analysis/7-Bases_de_datos/SQL/SQL_Python/ejercicio/pr%C3%A1ctica_sql_laura.ipynb#X32sZmlsZQ%3D%3D?line=5'>6</a>\u001b[0m \u001b[39m        )\u001b[39m\u001b[39m\"\"\"\u001b[39m\n\u001b[1;32m----> <a href='vscode-notebook-cell:/c%3A/Users/laura/Desktop/DS_PT_09_2023/Data_Analysis/7-Bases_de_datos/SQL/SQL_Python/ejercicio/pr%C3%A1ctica_sql_laura.ipynb#X32sZmlsZQ%3D%3D?line=6'>7</a>\u001b[0m crsr\u001b[39m.\u001b[39;49mexecute(query_empleados)\n",
      "\u001b[1;31mOperationalError\u001b[0m: table EMPLEADOS already exists"
     ]
    }
   ],
   "source": [
    "query_empleados = \"\"\" \n",
    "CREATE TABLE EMPLEADOS(\n",
    "    CodE VARCHAR(2),\n",
    "    Nombre VARCHAR(50), \n",
    "    Sueldo INT\n",
    "        )\"\"\"\n",
    "crsr.execute(query_empleados)\n"
   ]
  },
  {
   "cell_type": "markdown",
   "metadata": {},
   "source": [
    "### 2. Creamos la tabla REPARTO ###"
   ]
  },
  {
   "cell_type": "code",
   "execution_count": 82,
   "metadata": {},
   "outputs": [
    {
     "ename": "OperationalError",
     "evalue": "table REPARTO already exists",
     "output_type": "error",
     "traceback": [
      "\u001b[1;31m---------------------------------------------------------------------------\u001b[0m",
      "\u001b[1;31mOperationalError\u001b[0m                          Traceback (most recent call last)",
      "\u001b[1;32mc:\\Users\\laura\\Desktop\\DS_PT_09_2023\\Data_Analysis\\7-Bases_de_datos\\SQL\\SQL_Python\\ejercicio\\práctica_sql_laura.ipynb Cell 19\u001b[0m line \u001b[0;36m1\n\u001b[0;32m      <a href='vscode-notebook-cell:/c%3A/Users/laura/Desktop/DS_PT_09_2023/Data_Analysis/7-Bases_de_datos/SQL/SQL_Python/ejercicio/pr%C3%A1ctica_sql_laura.ipynb#X13sZmlsZQ%3D%3D?line=0'>1</a>\u001b[0m query_reparto \u001b[39m=\u001b[39m \u001b[39m\"\"\"\u001b[39m\u001b[39m \u001b[39m\n\u001b[0;32m      <a href='vscode-notebook-cell:/c%3A/Users/laura/Desktop/DS_PT_09_2023/Data_Analysis/7-Bases_de_datos/SQL/SQL_Python/ejercicio/pr%C3%A1ctica_sql_laura.ipynb#X13sZmlsZQ%3D%3D?line=1'>2</a>\u001b[0m \u001b[39mCREATE TABLE REPARTO(\u001b[39m\n\u001b[0;32m      <a href='vscode-notebook-cell:/c%3A/Users/laura/Desktop/DS_PT_09_2023/Data_Analysis/7-Bases_de_datos/SQL/SQL_Python/ejercicio/pr%C3%A1ctica_sql_laura.ipynb#X13sZmlsZQ%3D%3D?line=2'>3</a>\u001b[0m \u001b[39m    CodE VARCHAR(2),\u001b[39m\n\u001b[1;32m   (...)\u001b[0m\n\u001b[0;32m      <a href='vscode-notebook-cell:/c%3A/Users/laura/Desktop/DS_PT_09_2023/Data_Analysis/7-Bases_de_datos/SQL/SQL_Python/ejercicio/pr%C3%A1ctica_sql_laura.ipynb#X13sZmlsZQ%3D%3D?line=6'>7</a>\u001b[0m \u001b[39m    Cantidad INT\u001b[39m\n\u001b[0;32m      <a href='vscode-notebook-cell:/c%3A/Users/laura/Desktop/DS_PT_09_2023/Data_Analysis/7-Bases_de_datos/SQL/SQL_Python/ejercicio/pr%C3%A1ctica_sql_laura.ipynb#X13sZmlsZQ%3D%3D?line=7'>8</a>\u001b[0m \u001b[39m        )\u001b[39m\u001b[39m\"\"\"\u001b[39m\n\u001b[1;32m---> <a href='vscode-notebook-cell:/c%3A/Users/laura/Desktop/DS_PT_09_2023/Data_Analysis/7-Bases_de_datos/SQL/SQL_Python/ejercicio/pr%C3%A1ctica_sql_laura.ipynb#X13sZmlsZQ%3D%3D?line=9'>10</a>\u001b[0m crsr\u001b[39m.\u001b[39;49mexecute(query_reparto)\n",
      "\u001b[1;31mOperationalError\u001b[0m: table REPARTO already exists"
     ]
    }
   ],
   "source": [
    "query_reparto = \"\"\" \n",
    "CREATE TABLE REPARTO(\n",
    "    CodE VARCHAR(2),\n",
    "    CodB VARCHAR(4), \n",
    "    CodC VARCHAR(3),\n",
    "    Fecha DATE,\n",
    "    Cantidad INT\n",
    "        )\"\"\"\n",
    "\n",
    "crsr.execute(query_reparto)"
   ]
  },
  {
   "cell_type": "markdown",
   "metadata": {},
   "source": [
    "Para relacionar las bbdd hay que añadir una linea de codigo que indique  las pk y las fk de cada tabla"
   ]
  },
  {
   "cell_type": "markdown",
   "metadata": {},
   "source": [
    "## Rellenar tablas ##"
   ]
  },
  {
   "cell_type": "markdown",
   "metadata": {},
   "source": [
    "1. A través de una query, si falta algún dato ,deberia rellenarlo con nan, pero no en este tipo de insert"
   ]
  },
  {
   "cell_type": "code",
   "execution_count": 83,
   "metadata": {},
   "outputs": [
    {
     "data": {
      "text/plain": [
       "<sqlite3.Cursor at 0x161820d2f40>"
      ]
     },
     "execution_count": 83,
     "metadata": {},
     "output_type": "execute_result"
    }
   ],
   "source": [
    "# Insertamos datos en la tabla cerveza \n",
    "query_insert = \"\"\" \n",
    "INSERT INTO cerveza  VALUES\n",
    "('01', 'Botella', 0.2, 3600),\n",
    "('02', 'Botella', 0.33, 1200),\n",
    "('03', 'Lata', 0.33, 2400),\n",
    "('04', 'Botella', 1, 288),\n",
    "('05', 'Barril', 60, 30)\n",
    "\"\"\"\n",
    "crsr.execute(query_insert)"
   ]
  },
  {
   "cell_type": "markdown",
   "metadata": {},
   "source": [
    "JAMAS UTILIZAR DELETE FROM TABLE SIN UN WHERE porque se borra la base de datos ENTERA.\n",
    "\n",
    "En python sí podemos meter datos duplicados porque SE CREA UN INDICE , que es diferente para cada fila.\n"
   ]
  },
  {
   "cell_type": "code",
   "execution_count": 84,
   "metadata": {},
   "outputs": [
    {
     "data": {
      "text/plain": [
       "<sqlite3.Cursor at 0x161820d2f40>"
      ]
     },
     "execution_count": 84,
     "metadata": {},
     "output_type": "execute_result"
    }
   ],
   "source": [
    "# Insertamos datos en la tabla Reparto: ahora indicamos el orden de las columnas en las que voy a insertar datos\n",
    "\n",
    "query_insert2 = \"\"\"\n",
    "INSERT INTO reparto (CodE, CodB, CodC, Fecha, Cantidad) VALUES\n",
    "('1','001','01','2005-10-21',240),\n",
    "('1','001','02','2005-10-21',48),\n",
    "('1','002','03','2005-10-22',60),\n",
    "('1','004','05','2005-10-22',4),\n",
    "('2','002','03','2005-10-22',48),\n",
    "('2','002','05','2005-10-23',2),\n",
    "('2','004','01','2005-10-23',480),\n",
    "('2','004','02','2005-10-24',72),\n",
    "('3','003','03','2005-10-24',48),\n",
    "('3','003','04','2005-10-25',20)\n",
    "\n",
    "\"\"\"\n",
    "\n",
    "crsr.execute(query_insert2)"
   ]
  },
  {
   "cell_type": "code",
   "execution_count": 85,
   "metadata": {},
   "outputs": [],
   "source": [
    "df = pd.read_sql('SELECT * FROM reparto', connection, parse_dates=['Fecha'])\n",
    "# no está leyendo bien los datos de date.\n",
    "# AL METER LOS DATOS DE LA QUERY EN UN DF, pandas lee de la manera que le sea más sencilla, asi que aunque cambiamos las fechas, no lo reconoce aun.\n",
    "# Hay que añadir en el read_sql el parse dates."
   ]
  },
  {
   "cell_type": "code",
   "execution_count": 56,
   "metadata": {},
   "outputs": [
    {
     "data": {
      "text/plain": [
       "<sqlite3.Cursor at 0x161820d36c0>"
      ]
     },
     "execution_count": 56,
     "metadata": {},
     "output_type": "execute_result"
    }
   ],
   "source": [
    "# crsr.execute('DELETE FROM reparto WHERE CodB =\"001\"'')"
   ]
  },
  {
   "cell_type": "code",
   "execution_count": 48,
   "metadata": {},
   "outputs": [
    {
     "data": {
      "text/plain": [
       "<sqlite3.Cursor at 0x161820d36c0>"
      ]
     },
     "execution_count": 48,
     "metadata": {},
     "output_type": "execute_result"
    }
   ],
   "source": [
    "# query_delete = 'DELETE FROM reparto WHERE CodB =\"001\"'\n",
    "crsr.execute(query_delete)\n",
    "# esta y la anterior, son iguales. "
   ]
  },
  {
   "cell_type": "markdown",
   "metadata": {},
   "source": [
    "2. Através de un DataFrame"
   ]
  },
  {
   "cell_type": "code",
   "execution_count": 86,
   "metadata": {},
   "outputs": [
    {
     "data": {
      "text/html": [
       "<div>\n",
       "<style scoped>\n",
       "    .dataframe tbody tr th:only-of-type {\n",
       "        vertical-align: middle;\n",
       "    }\n",
       "\n",
       "    .dataframe tbody tr th {\n",
       "        vertical-align: top;\n",
       "    }\n",
       "\n",
       "    .dataframe thead th {\n",
       "        text-align: right;\n",
       "    }\n",
       "</style>\n",
       "<table border=\"1\" class=\"dataframe\">\n",
       "  <thead>\n",
       "    <tr style=\"text-align: right;\">\n",
       "      <th></th>\n",
       "      <th>CodB</th>\n",
       "      <th>nombre</th>\n",
       "      <th>Cif</th>\n",
       "      <th>Localidad</th>\n",
       "    </tr>\n",
       "  </thead>\n",
       "  <tbody>\n",
       "    <tr>\n",
       "      <th>0</th>\n",
       "      <td>001</td>\n",
       "      <td>Stop</td>\n",
       "      <td>11111111X</td>\n",
       "      <td>Villa Botijo</td>\n",
       "    </tr>\n",
       "    <tr>\n",
       "      <th>1</th>\n",
       "      <td>002</td>\n",
       "      <td>Las Vegas</td>\n",
       "      <td>22222222Y</td>\n",
       "      <td>Villa Botijo</td>\n",
       "    </tr>\n",
       "    <tr>\n",
       "      <th>2</th>\n",
       "      <td>003</td>\n",
       "      <td>Club Social</td>\n",
       "      <td>None</td>\n",
       "      <td>Las Ranas</td>\n",
       "    </tr>\n",
       "    <tr>\n",
       "      <th>3</th>\n",
       "      <td>004</td>\n",
       "      <td>Otra Ronda</td>\n",
       "      <td>33333333Z</td>\n",
       "      <td>La Esponja</td>\n",
       "    </tr>\n",
       "  </tbody>\n",
       "</table>\n",
       "</div>"
      ],
      "text/plain": [
       "  CodB       nombre        Cif     Localidad\n",
       "0  001         Stop  11111111X  Villa Botijo\n",
       "1  002    Las Vegas  22222222Y  Villa Botijo\n",
       "2  003  Club Social       None     Las Ranas\n",
       "3  004   Otra Ronda  33333333Z    La Esponja"
      ]
     },
     "execution_count": 86,
     "metadata": {},
     "output_type": "execute_result"
    }
   ],
   "source": [
    "# Insertamos datos en la tabla Bares: ahora no lo hacemos con query, si no creando un DF\n",
    "\n",
    "bares= pd.DataFrame(\n",
    "    {\"CodB\": ['001','002','003','004'],\n",
    "     \"nombre\": ['Stop','Las Vegas','Club Social','Otra Ronda'],\n",
    "     \"Cif\": ['11111111X','22222222Y','None','33333333Z'],\n",
    "     \"Localidad\": ['Villa Botijo','Villa Botijo','Las Ranas','La Esponja']\n",
    "    })\n",
    "\n",
    "bares"
   ]
  },
  {
   "cell_type": "code",
   "execution_count": 87,
   "metadata": {},
   "outputs": [
    {
     "ename": "ValueError",
     "evalue": "Table 'bares' already exists.",
     "output_type": "error",
     "traceback": [
      "\u001b[1;31m---------------------------------------------------------------------------\u001b[0m",
      "\u001b[1;31mValueError\u001b[0m                                Traceback (most recent call last)",
      "\u001b[1;32mc:\\Users\\laura\\Desktop\\DS_PT_09_2023\\Data_Analysis\\7-Bases_de_datos\\SQL\\SQL_Python\\ejercicio\\práctica_sql_laura.ipynb Cell 31\u001b[0m line \u001b[0;36m1\n\u001b[1;32m----> <a href='vscode-notebook-cell:/c%3A/Users/laura/Desktop/DS_PT_09_2023/Data_Analysis/7-Bases_de_datos/SQL/SQL_Python/ejercicio/pr%C3%A1ctica_sql_laura.ipynb#X56sZmlsZQ%3D%3D?line=0'>1</a>\u001b[0m bares\u001b[39m.\u001b[39;49mto_sql(name\u001b[39m=\u001b[39;49m\u001b[39m'\u001b[39;49m\u001b[39mbares\u001b[39;49m\u001b[39m'\u001b[39;49m, con\u001b[39m=\u001b[39;49mconnection, index\u001b[39m=\u001b[39;49m\u001b[39mFalse\u001b[39;49;00m)\n\u001b[0;32m      <a href='vscode-notebook-cell:/c%3A/Users/laura/Desktop/DS_PT_09_2023/Data_Analysis/7-Bases_de_datos/SQL/SQL_Python/ejercicio/pr%C3%A1ctica_sql_laura.ipynb#X56sZmlsZQ%3D%3D?line=1'>2</a>\u001b[0m \u001b[39m# nos da un error la primera vez, porque la tabla que hemos creado no tiene columna index \u001b[39;00m\n",
      "File \u001b[1;32mc:\\Users\\laura\\Desktop\\DS_PT_09_2023\\.venv\\Lib\\site-packages\\pandas\\util\\_decorators.py:333\u001b[0m, in \u001b[0;36mdeprecate_nonkeyword_arguments.<locals>.decorate.<locals>.wrapper\u001b[1;34m(*args, **kwargs)\u001b[0m\n\u001b[0;32m    327\u001b[0m \u001b[39mif\u001b[39;00m \u001b[39mlen\u001b[39m(args) \u001b[39m>\u001b[39m num_allow_args:\n\u001b[0;32m    328\u001b[0m     warnings\u001b[39m.\u001b[39mwarn(\n\u001b[0;32m    329\u001b[0m         msg\u001b[39m.\u001b[39mformat(arguments\u001b[39m=\u001b[39m_format_argument_list(allow_args)),\n\u001b[0;32m    330\u001b[0m         \u001b[39mFutureWarning\u001b[39;00m,\n\u001b[0;32m    331\u001b[0m         stacklevel\u001b[39m=\u001b[39mfind_stack_level(),\n\u001b[0;32m    332\u001b[0m     )\n\u001b[1;32m--> 333\u001b[0m \u001b[39mreturn\u001b[39;00m func(\u001b[39m*\u001b[39;49margs, \u001b[39m*\u001b[39;49m\u001b[39m*\u001b[39;49mkwargs)\n",
      "File \u001b[1;32mc:\\Users\\laura\\Desktop\\DS_PT_09_2023\\.venv\\Lib\\site-packages\\pandas\\core\\generic.py:3008\u001b[0m, in \u001b[0;36mNDFrame.to_sql\u001b[1;34m(self, name, con, schema, if_exists, index, index_label, chunksize, dtype, method)\u001b[0m\n\u001b[0;32m   2813\u001b[0m \u001b[39m\u001b[39m\u001b[39m\"\"\"\u001b[39;00m\n\u001b[0;32m   2814\u001b[0m \u001b[39mWrite records stored in a DataFrame to a SQL database.\u001b[39;00m\n\u001b[0;32m   2815\u001b[0m \n\u001b[1;32m   (...)\u001b[0m\n\u001b[0;32m   3004\u001b[0m \u001b[39m[(1,), (None,), (2,)]\u001b[39;00m\n\u001b[0;32m   3005\u001b[0m \u001b[39m\"\"\"\u001b[39;00m  \u001b[39m# noqa: E501\u001b[39;00m\n\u001b[0;32m   3006\u001b[0m \u001b[39mfrom\u001b[39;00m \u001b[39mpandas\u001b[39;00m\u001b[39m.\u001b[39;00m\u001b[39mio\u001b[39;00m \u001b[39mimport\u001b[39;00m sql\n\u001b[1;32m-> 3008\u001b[0m \u001b[39mreturn\u001b[39;00m sql\u001b[39m.\u001b[39;49mto_sql(\n\u001b[0;32m   3009\u001b[0m     \u001b[39mself\u001b[39;49m,\n\u001b[0;32m   3010\u001b[0m     name,\n\u001b[0;32m   3011\u001b[0m     con,\n\u001b[0;32m   3012\u001b[0m     schema\u001b[39m=\u001b[39;49mschema,\n\u001b[0;32m   3013\u001b[0m     if_exists\u001b[39m=\u001b[39;49mif_exists,\n\u001b[0;32m   3014\u001b[0m     index\u001b[39m=\u001b[39;49mindex,\n\u001b[0;32m   3015\u001b[0m     index_label\u001b[39m=\u001b[39;49mindex_label,\n\u001b[0;32m   3016\u001b[0m     chunksize\u001b[39m=\u001b[39;49mchunksize,\n\u001b[0;32m   3017\u001b[0m     dtype\u001b[39m=\u001b[39;49mdtype,\n\u001b[0;32m   3018\u001b[0m     method\u001b[39m=\u001b[39;49mmethod,\n\u001b[0;32m   3019\u001b[0m )\n",
      "File \u001b[1;32mc:\\Users\\laura\\Desktop\\DS_PT_09_2023\\.venv\\Lib\\site-packages\\pandas\\io\\sql.py:788\u001b[0m, in \u001b[0;36mto_sql\u001b[1;34m(frame, name, con, schema, if_exists, index, index_label, chunksize, dtype, method, engine, **engine_kwargs)\u001b[0m\n\u001b[0;32m    783\u001b[0m     \u001b[39mraise\u001b[39;00m \u001b[39mNotImplementedError\u001b[39;00m(\n\u001b[0;32m    784\u001b[0m         \u001b[39m\"\u001b[39m\u001b[39m'\u001b[39m\u001b[39mframe\u001b[39m\u001b[39m'\u001b[39m\u001b[39m argument should be either a Series or a DataFrame\u001b[39m\u001b[39m\"\u001b[39m\n\u001b[0;32m    785\u001b[0m     )\n\u001b[0;32m    787\u001b[0m \u001b[39mwith\u001b[39;00m pandasSQL_builder(con, schema\u001b[39m=\u001b[39mschema, need_transaction\u001b[39m=\u001b[39m\u001b[39mTrue\u001b[39;00m) \u001b[39mas\u001b[39;00m pandas_sql:\n\u001b[1;32m--> 788\u001b[0m     \u001b[39mreturn\u001b[39;00m pandas_sql\u001b[39m.\u001b[39;49mto_sql(\n\u001b[0;32m    789\u001b[0m         frame,\n\u001b[0;32m    790\u001b[0m         name,\n\u001b[0;32m    791\u001b[0m         if_exists\u001b[39m=\u001b[39;49mif_exists,\n\u001b[0;32m    792\u001b[0m         index\u001b[39m=\u001b[39;49mindex,\n\u001b[0;32m    793\u001b[0m         index_label\u001b[39m=\u001b[39;49mindex_label,\n\u001b[0;32m    794\u001b[0m         schema\u001b[39m=\u001b[39;49mschema,\n\u001b[0;32m    795\u001b[0m         chunksize\u001b[39m=\u001b[39;49mchunksize,\n\u001b[0;32m    796\u001b[0m         dtype\u001b[39m=\u001b[39;49mdtype,\n\u001b[0;32m    797\u001b[0m         method\u001b[39m=\u001b[39;49mmethod,\n\u001b[0;32m    798\u001b[0m         engine\u001b[39m=\u001b[39;49mengine,\n\u001b[0;32m    799\u001b[0m         \u001b[39m*\u001b[39;49m\u001b[39m*\u001b[39;49mengine_kwargs,\n\u001b[0;32m    800\u001b[0m     )\n",
      "File \u001b[1;32mc:\\Users\\laura\\Desktop\\DS_PT_09_2023\\.venv\\Lib\\site-packages\\pandas\\io\\sql.py:2440\u001b[0m, in \u001b[0;36mSQLiteDatabase.to_sql\u001b[1;34m(self, frame, name, if_exists, index, index_label, schema, chunksize, dtype, method, engine, **engine_kwargs)\u001b[0m\n\u001b[0;32m   2429\u001b[0m             \u001b[39mraise\u001b[39;00m \u001b[39mValueError\u001b[39;00m(\u001b[39mf\u001b[39m\u001b[39m\"\u001b[39m\u001b[39m{\u001b[39;00mcol\u001b[39m}\u001b[39;00m\u001b[39m (\u001b[39m\u001b[39m{\u001b[39;00mmy_type\u001b[39m}\u001b[39;00m\u001b[39m) not a string\u001b[39m\u001b[39m\"\u001b[39m)\n\u001b[0;32m   2431\u001b[0m table \u001b[39m=\u001b[39m SQLiteTable(\n\u001b[0;32m   2432\u001b[0m     name,\n\u001b[0;32m   2433\u001b[0m     \u001b[39mself\u001b[39m,\n\u001b[1;32m   (...)\u001b[0m\n\u001b[0;32m   2438\u001b[0m     dtype\u001b[39m=\u001b[39mdtype,\n\u001b[0;32m   2439\u001b[0m )\n\u001b[1;32m-> 2440\u001b[0m table\u001b[39m.\u001b[39;49mcreate()\n\u001b[0;32m   2441\u001b[0m \u001b[39mreturn\u001b[39;00m table\u001b[39m.\u001b[39minsert(chunksize, method)\n",
      "File \u001b[1;32mc:\\Users\\laura\\Desktop\\DS_PT_09_2023\\.venv\\Lib\\site-packages\\pandas\\io\\sql.py:927\u001b[0m, in \u001b[0;36mSQLTable.create\u001b[1;34m(self)\u001b[0m\n\u001b[0;32m    925\u001b[0m \u001b[39mif\u001b[39;00m \u001b[39mself\u001b[39m\u001b[39m.\u001b[39mexists():\n\u001b[0;32m    926\u001b[0m     \u001b[39mif\u001b[39;00m \u001b[39mself\u001b[39m\u001b[39m.\u001b[39mif_exists \u001b[39m==\u001b[39m \u001b[39m\"\u001b[39m\u001b[39mfail\u001b[39m\u001b[39m\"\u001b[39m:\n\u001b[1;32m--> 927\u001b[0m         \u001b[39mraise\u001b[39;00m \u001b[39mValueError\u001b[39;00m(\u001b[39mf\u001b[39m\u001b[39m\"\u001b[39m\u001b[39mTable \u001b[39m\u001b[39m'\u001b[39m\u001b[39m{\u001b[39;00m\u001b[39mself\u001b[39m\u001b[39m.\u001b[39mname\u001b[39m}\u001b[39;00m\u001b[39m'\u001b[39m\u001b[39m already exists.\u001b[39m\u001b[39m\"\u001b[39m)\n\u001b[0;32m    928\u001b[0m     \u001b[39mif\u001b[39;00m \u001b[39mself\u001b[39m\u001b[39m.\u001b[39mif_exists \u001b[39m==\u001b[39m \u001b[39m\"\u001b[39m\u001b[39mreplace\u001b[39m\u001b[39m\"\u001b[39m:\n\u001b[0;32m    929\u001b[0m         \u001b[39mself\u001b[39m\u001b[39m.\u001b[39mpd_sql\u001b[39m.\u001b[39mdrop_table(\u001b[39mself\u001b[39m\u001b[39m.\u001b[39mname, \u001b[39mself\u001b[39m\u001b[39m.\u001b[39mschema)\n",
      "\u001b[1;31mValueError\u001b[0m: Table 'bares' already exists."
     ]
    }
   ],
   "source": [
    "bares.to_sql(name='bares', con=connection, if_exists='append',index=False)\n",
    "# nos da un error la primera vez, porque la tabla que hemos creado no tiene columna index "
   ]
  },
  {
   "cell_type": "code",
   "execution_count": 88,
   "metadata": {},
   "outputs": [
    {
     "ename": "ValueError",
     "evalue": "Table 'EMPLEADOS' already exists.",
     "output_type": "error",
     "traceback": [
      "\u001b[1;31m---------------------------------------------------------------------------\u001b[0m",
      "\u001b[1;31mValueError\u001b[0m                                Traceback (most recent call last)",
      "\u001b[1;32mc:\\Users\\laura\\Desktop\\DS_PT_09_2023\\Data_Analysis\\7-Bases_de_datos\\SQL\\SQL_Python\\ejercicio\\práctica_sql_laura.ipynb Cell 32\u001b[0m line \u001b[0;36m1\n\u001b[0;32m      <a href='vscode-notebook-cell:/c%3A/Users/laura/Desktop/DS_PT_09_2023/Data_Analysis/7-Bases_de_datos/SQL/SQL_Python/ejercicio/pr%C3%A1ctica_sql_laura.ipynb#X60sZmlsZQ%3D%3D?line=2'>3</a>\u001b[0m empleados\u001b[39m=\u001b[39m pd\u001b[39m.\u001b[39mDataFrame(\n\u001b[0;32m      <a href='vscode-notebook-cell:/c%3A/Users/laura/Desktop/DS_PT_09_2023/Data_Analysis/7-Bases_de_datos/SQL/SQL_Python/ejercicio/pr%C3%A1ctica_sql_laura.ipynb#X60sZmlsZQ%3D%3D?line=3'>4</a>\u001b[0m     {\u001b[39m\"\u001b[39m\u001b[39mCodE\u001b[39m\u001b[39m\"\u001b[39m: [\u001b[39m'\u001b[39m\u001b[39m1\u001b[39m\u001b[39m'\u001b[39m,\u001b[39m'\u001b[39m\u001b[39m2\u001b[39m\u001b[39m'\u001b[39m,\u001b[39m'\u001b[39m\u001b[39m3\u001b[39m\u001b[39m'\u001b[39m],\n\u001b[0;32m      <a href='vscode-notebook-cell:/c%3A/Users/laura/Desktop/DS_PT_09_2023/Data_Analysis/7-Bases_de_datos/SQL/SQL_Python/ejercicio/pr%C3%A1ctica_sql_laura.ipynb#X60sZmlsZQ%3D%3D?line=4'>5</a>\u001b[0m      \u001b[39m\"\u001b[39m\u001b[39mNombre\u001b[39m\u001b[39m\"\u001b[39m: [\u001b[39m'\u001b[39m\u001b[39mPrudencio Caminero\u001b[39m\u001b[39m'\u001b[39m,\u001b[39m'\u001b[39m\u001b[39mVicente Merario\u001b[39m\u001b[39m'\u001b[39m,\u001b[39m'\u001b[39m\u001b[39mValentin Siempre\u001b[39m\u001b[39m'\u001b[39m],\n\u001b[0;32m      <a href='vscode-notebook-cell:/c%3A/Users/laura/Desktop/DS_PT_09_2023/Data_Analysis/7-Bases_de_datos/SQL/SQL_Python/ejercicio/pr%C3%A1ctica_sql_laura.ipynb#X60sZmlsZQ%3D%3D?line=5'>6</a>\u001b[0m      \u001b[39m\"\u001b[39m\u001b[39mSueldo\u001b[39m\u001b[39m\"\u001b[39m: [\u001b[39m120000\u001b[39m,\u001b[39m110000\u001b[39m,\u001b[39m100000\u001b[39m]\n\u001b[0;32m      <a href='vscode-notebook-cell:/c%3A/Users/laura/Desktop/DS_PT_09_2023/Data_Analysis/7-Bases_de_datos/SQL/SQL_Python/ejercicio/pr%C3%A1ctica_sql_laura.ipynb#X60sZmlsZQ%3D%3D?line=6'>7</a>\u001b[0m     })\n\u001b[0;32m      <a href='vscode-notebook-cell:/c%3A/Users/laura/Desktop/DS_PT_09_2023/Data_Analysis/7-Bases_de_datos/SQL/SQL_Python/ejercicio/pr%C3%A1ctica_sql_laura.ipynb#X60sZmlsZQ%3D%3D?line=8'>9</a>\u001b[0m empleados\n\u001b[1;32m---> <a href='vscode-notebook-cell:/c%3A/Users/laura/Desktop/DS_PT_09_2023/Data_Analysis/7-Bases_de_datos/SQL/SQL_Python/ejercicio/pr%C3%A1ctica_sql_laura.ipynb#X60sZmlsZQ%3D%3D?line=9'>10</a>\u001b[0m empleados\u001b[39m.\u001b[39;49mto_sql(name\u001b[39m=\u001b[39;49m\u001b[39m'\u001b[39;49m\u001b[39mEMPLEADOS\u001b[39;49m\u001b[39m'\u001b[39;49m, con\u001b[39m=\u001b[39;49mconnection,  index\u001b[39m=\u001b[39;49m\u001b[39mFalse\u001b[39;49;00m)\n",
      "File \u001b[1;32mc:\\Users\\laura\\Desktop\\DS_PT_09_2023\\.venv\\Lib\\site-packages\\pandas\\util\\_decorators.py:333\u001b[0m, in \u001b[0;36mdeprecate_nonkeyword_arguments.<locals>.decorate.<locals>.wrapper\u001b[1;34m(*args, **kwargs)\u001b[0m\n\u001b[0;32m    327\u001b[0m \u001b[39mif\u001b[39;00m \u001b[39mlen\u001b[39m(args) \u001b[39m>\u001b[39m num_allow_args:\n\u001b[0;32m    328\u001b[0m     warnings\u001b[39m.\u001b[39mwarn(\n\u001b[0;32m    329\u001b[0m         msg\u001b[39m.\u001b[39mformat(arguments\u001b[39m=\u001b[39m_format_argument_list(allow_args)),\n\u001b[0;32m    330\u001b[0m         \u001b[39mFutureWarning\u001b[39;00m,\n\u001b[0;32m    331\u001b[0m         stacklevel\u001b[39m=\u001b[39mfind_stack_level(),\n\u001b[0;32m    332\u001b[0m     )\n\u001b[1;32m--> 333\u001b[0m \u001b[39mreturn\u001b[39;00m func(\u001b[39m*\u001b[39;49margs, \u001b[39m*\u001b[39;49m\u001b[39m*\u001b[39;49mkwargs)\n",
      "File \u001b[1;32mc:\\Users\\laura\\Desktop\\DS_PT_09_2023\\.venv\\Lib\\site-packages\\pandas\\core\\generic.py:3008\u001b[0m, in \u001b[0;36mNDFrame.to_sql\u001b[1;34m(self, name, con, schema, if_exists, index, index_label, chunksize, dtype, method)\u001b[0m\n\u001b[0;32m   2813\u001b[0m \u001b[39m\u001b[39m\u001b[39m\"\"\"\u001b[39;00m\n\u001b[0;32m   2814\u001b[0m \u001b[39mWrite records stored in a DataFrame to a SQL database.\u001b[39;00m\n\u001b[0;32m   2815\u001b[0m \n\u001b[1;32m   (...)\u001b[0m\n\u001b[0;32m   3004\u001b[0m \u001b[39m[(1,), (None,), (2,)]\u001b[39;00m\n\u001b[0;32m   3005\u001b[0m \u001b[39m\"\"\"\u001b[39;00m  \u001b[39m# noqa: E501\u001b[39;00m\n\u001b[0;32m   3006\u001b[0m \u001b[39mfrom\u001b[39;00m \u001b[39mpandas\u001b[39;00m\u001b[39m.\u001b[39;00m\u001b[39mio\u001b[39;00m \u001b[39mimport\u001b[39;00m sql\n\u001b[1;32m-> 3008\u001b[0m \u001b[39mreturn\u001b[39;00m sql\u001b[39m.\u001b[39;49mto_sql(\n\u001b[0;32m   3009\u001b[0m     \u001b[39mself\u001b[39;49m,\n\u001b[0;32m   3010\u001b[0m     name,\n\u001b[0;32m   3011\u001b[0m     con,\n\u001b[0;32m   3012\u001b[0m     schema\u001b[39m=\u001b[39;49mschema,\n\u001b[0;32m   3013\u001b[0m     if_exists\u001b[39m=\u001b[39;49mif_exists,\n\u001b[0;32m   3014\u001b[0m     index\u001b[39m=\u001b[39;49mindex,\n\u001b[0;32m   3015\u001b[0m     index_label\u001b[39m=\u001b[39;49mindex_label,\n\u001b[0;32m   3016\u001b[0m     chunksize\u001b[39m=\u001b[39;49mchunksize,\n\u001b[0;32m   3017\u001b[0m     dtype\u001b[39m=\u001b[39;49mdtype,\n\u001b[0;32m   3018\u001b[0m     method\u001b[39m=\u001b[39;49mmethod,\n\u001b[0;32m   3019\u001b[0m )\n",
      "File \u001b[1;32mc:\\Users\\laura\\Desktop\\DS_PT_09_2023\\.venv\\Lib\\site-packages\\pandas\\io\\sql.py:788\u001b[0m, in \u001b[0;36mto_sql\u001b[1;34m(frame, name, con, schema, if_exists, index, index_label, chunksize, dtype, method, engine, **engine_kwargs)\u001b[0m\n\u001b[0;32m    783\u001b[0m     \u001b[39mraise\u001b[39;00m \u001b[39mNotImplementedError\u001b[39;00m(\n\u001b[0;32m    784\u001b[0m         \u001b[39m\"\u001b[39m\u001b[39m'\u001b[39m\u001b[39mframe\u001b[39m\u001b[39m'\u001b[39m\u001b[39m argument should be either a Series or a DataFrame\u001b[39m\u001b[39m\"\u001b[39m\n\u001b[0;32m    785\u001b[0m     )\n\u001b[0;32m    787\u001b[0m \u001b[39mwith\u001b[39;00m pandasSQL_builder(con, schema\u001b[39m=\u001b[39mschema, need_transaction\u001b[39m=\u001b[39m\u001b[39mTrue\u001b[39;00m) \u001b[39mas\u001b[39;00m pandas_sql:\n\u001b[1;32m--> 788\u001b[0m     \u001b[39mreturn\u001b[39;00m pandas_sql\u001b[39m.\u001b[39;49mto_sql(\n\u001b[0;32m    789\u001b[0m         frame,\n\u001b[0;32m    790\u001b[0m         name,\n\u001b[0;32m    791\u001b[0m         if_exists\u001b[39m=\u001b[39;49mif_exists,\n\u001b[0;32m    792\u001b[0m         index\u001b[39m=\u001b[39;49mindex,\n\u001b[0;32m    793\u001b[0m         index_label\u001b[39m=\u001b[39;49mindex_label,\n\u001b[0;32m    794\u001b[0m         schema\u001b[39m=\u001b[39;49mschema,\n\u001b[0;32m    795\u001b[0m         chunksize\u001b[39m=\u001b[39;49mchunksize,\n\u001b[0;32m    796\u001b[0m         dtype\u001b[39m=\u001b[39;49mdtype,\n\u001b[0;32m    797\u001b[0m         method\u001b[39m=\u001b[39;49mmethod,\n\u001b[0;32m    798\u001b[0m         engine\u001b[39m=\u001b[39;49mengine,\n\u001b[0;32m    799\u001b[0m         \u001b[39m*\u001b[39;49m\u001b[39m*\u001b[39;49mengine_kwargs,\n\u001b[0;32m    800\u001b[0m     )\n",
      "File \u001b[1;32mc:\\Users\\laura\\Desktop\\DS_PT_09_2023\\.venv\\Lib\\site-packages\\pandas\\io\\sql.py:2440\u001b[0m, in \u001b[0;36mSQLiteDatabase.to_sql\u001b[1;34m(self, frame, name, if_exists, index, index_label, schema, chunksize, dtype, method, engine, **engine_kwargs)\u001b[0m\n\u001b[0;32m   2429\u001b[0m             \u001b[39mraise\u001b[39;00m \u001b[39mValueError\u001b[39;00m(\u001b[39mf\u001b[39m\u001b[39m\"\u001b[39m\u001b[39m{\u001b[39;00mcol\u001b[39m}\u001b[39;00m\u001b[39m (\u001b[39m\u001b[39m{\u001b[39;00mmy_type\u001b[39m}\u001b[39;00m\u001b[39m) not a string\u001b[39m\u001b[39m\"\u001b[39m)\n\u001b[0;32m   2431\u001b[0m table \u001b[39m=\u001b[39m SQLiteTable(\n\u001b[0;32m   2432\u001b[0m     name,\n\u001b[0;32m   2433\u001b[0m     \u001b[39mself\u001b[39m,\n\u001b[1;32m   (...)\u001b[0m\n\u001b[0;32m   2438\u001b[0m     dtype\u001b[39m=\u001b[39mdtype,\n\u001b[0;32m   2439\u001b[0m )\n\u001b[1;32m-> 2440\u001b[0m table\u001b[39m.\u001b[39;49mcreate()\n\u001b[0;32m   2441\u001b[0m \u001b[39mreturn\u001b[39;00m table\u001b[39m.\u001b[39minsert(chunksize, method)\n",
      "File \u001b[1;32mc:\\Users\\laura\\Desktop\\DS_PT_09_2023\\.venv\\Lib\\site-packages\\pandas\\io\\sql.py:927\u001b[0m, in \u001b[0;36mSQLTable.create\u001b[1;34m(self)\u001b[0m\n\u001b[0;32m    925\u001b[0m \u001b[39mif\u001b[39;00m \u001b[39mself\u001b[39m\u001b[39m.\u001b[39mexists():\n\u001b[0;32m    926\u001b[0m     \u001b[39mif\u001b[39;00m \u001b[39mself\u001b[39m\u001b[39m.\u001b[39mif_exists \u001b[39m==\u001b[39m \u001b[39m\"\u001b[39m\u001b[39mfail\u001b[39m\u001b[39m\"\u001b[39m:\n\u001b[1;32m--> 927\u001b[0m         \u001b[39mraise\u001b[39;00m \u001b[39mValueError\u001b[39;00m(\u001b[39mf\u001b[39m\u001b[39m\"\u001b[39m\u001b[39mTable \u001b[39m\u001b[39m'\u001b[39m\u001b[39m{\u001b[39;00m\u001b[39mself\u001b[39m\u001b[39m.\u001b[39mname\u001b[39m}\u001b[39;00m\u001b[39m'\u001b[39m\u001b[39m already exists.\u001b[39m\u001b[39m\"\u001b[39m)\n\u001b[0;32m    928\u001b[0m     \u001b[39mif\u001b[39;00m \u001b[39mself\u001b[39m\u001b[39m.\u001b[39mif_exists \u001b[39m==\u001b[39m \u001b[39m\"\u001b[39m\u001b[39mreplace\u001b[39m\u001b[39m\"\u001b[39m:\n\u001b[0;32m    929\u001b[0m         \u001b[39mself\u001b[39m\u001b[39m.\u001b[39mpd_sql\u001b[39m.\u001b[39mdrop_table(\u001b[39mself\u001b[39m\u001b[39m.\u001b[39mname, \u001b[39mself\u001b[39m\u001b[39m.\u001b[39mschema)\n",
      "\u001b[1;31mValueError\u001b[0m: Table 'EMPLEADOS' already exists."
     ]
    }
   ],
   "source": [
    "# Insertamos datos en la tabla Bares: ahora no lo hacemos con query, si no creando un DF\n",
    "\n",
    "empleados= pd.DataFrame(\n",
    "    {\"CodE\": ['1','2','3'],\n",
    "     \"Nombre\": ['Prudencio Caminero','Vicente Merario','Valentin Siempre'],\n",
    "     \"Sueldo\": [120000,110000,100000]\n",
    "    })\n",
    "\n",
    "empleados\n",
    "empleados.to_sql(name='EMPLEADOS', con=connection,if_exists='append', index=False)\n"
   ]
  },
  {
   "cell_type": "code",
   "execution_count": 68,
   "metadata": {},
   "outputs": [],
   "source": [
    "# GUARDAR CAMBIOS: 1 query, 2 ejecutar cursor, 3 guardar la conexion. \n",
    "connection.commit()\n",
    "connection.close()\n",
    "# hacemos que todo se ejecute y cerramos la conexión para que otros la puedan utilizar"
   ]
  },
  {
   "cell_type": "markdown",
   "metadata": {},
   "source": [
    "## RESPUESTAS ##"
   ]
  },
  {
   "cell_type": "markdown",
   "metadata": {},
   "source": [
    "\n",
    "2. Obtener  el   Cif  y  nombre  de  los  bares  a  los  que  se  ha  repartido  cerveza  de  tipo  Botella  y  \n",
    "capacidad inferior a 1 litro, ordenados por localidad \n",
    "3. Obtener  los  repartos  (nombre  del  bar,  envase  y  capacidad  de  la  bebida, fecha y cantidad) \n",
    "realizados por Prudencio Camionero. \n",
    "4. Obtener  los  bares  a  los  que  se  les  ha  repartido  envases  de  tipo  botella  y  capacidad  0.2  ó  \n",
    "0.33 \n",
    "5. Nombre de los empleados que han repartido a los bares \"Stop\" y \"Las Vegas\" cervezas con \n",
    "envase botella. \n",
    "6. Obtener  el  nombre  y  número  de  viajes  que  ha  realizado  cada  empleado  fuera  de  Villa  \n",
    "Botijo. \n",
    "7. Obtener el nombre y localidad del bar que más litros de cerveza ha comprado.  \n",
    "8. Obtener  los  bares  que  han  adquirido  todos  los  tipos  de  cerveza  con  envase  de  botella   y \n",
    "capacidad menor que 1 litro.  \n",
    "9. Subir un 5% el sueldo del empleado que más días haya trabajado. \n",
    "10. Insertar  un  nuevo  reparto  del  empleado  “Vicente Merario” al bar  “Stop” de 48 cervezas de tipo lata el \n",
    "día 10/26/05. "
   ]
  },
  {
   "cell_type": "code",
   "execution_count": 70,
   "metadata": {},
   "outputs": [],
   "source": [
    "# Conectamos con la base de datos .db. ESTA PARTE SIEMPRE HAY QUE HACERLA\n",
    "connection = sqlite3.connect(\"data/Bar_TheBridge.db\")\n",
    "\n",
    "# Obtenemos un cursor que utilizaremos para hacer las queries. Es lo mismo al cntr enter en el dbeaver. PODEMOS UTILIZAR ESTE O PANDAS LO CREA, PERO MEJOR HACERLO.\n",
    "crsr = connection.cursor()"
   ]
  },
  {
   "cell_type": "code",
   "execution_count": 92,
   "metadata": {},
   "outputs": [
    {
     "data": {
      "text/html": [
       "<div>\n",
       "<style scoped>\n",
       "    .dataframe tbody tr th:only-of-type {\n",
       "        vertical-align: middle;\n",
       "    }\n",
       "\n",
       "    .dataframe tbody tr th {\n",
       "        vertical-align: top;\n",
       "    }\n",
       "\n",
       "    .dataframe thead th {\n",
       "        text-align: right;\n",
       "    }\n",
       "</style>\n",
       "<table border=\"1\" class=\"dataframe\">\n",
       "  <thead>\n",
       "    <tr style=\"text-align: right;\">\n",
       "      <th></th>\n",
       "      <th>Nombre</th>\n",
       "    </tr>\n",
       "  </thead>\n",
       "  <tbody>\n",
       "    <tr>\n",
       "      <th>0</th>\n",
       "      <td>Prudencio Caminero</td>\n",
       "    </tr>\n",
       "  </tbody>\n",
       "</table>\n",
       "</div>"
      ],
      "text/plain": [
       "               Nombre\n",
       "0  Prudencio Caminero"
      ]
     },
     "execution_count": 92,
     "metadata": {},
     "output_type": "execute_result"
    }
   ],
   "source": [
    "# 1. Obtener  el  nombre    de  los  empleados   que  hayan  repartido  al  bar  Stop  durante la semana \n",
    "# del 17 al 23 de octubre de 2005. \n",
    "\n",
    "query1 = '''\n",
    "SELECT  DISTINCT e.Nombre\n",
    "FROM EMPLEADOS as e\n",
    "INNER JOIN reparto as r\n",
    "ON e.CodE = r.CodE\n",
    "INNER JOIN bares as b\n",
    "ON b.CodB = r.CodB\n",
    "WHERE b.Nombre = 'Stop' AND r.Fecha BETWEEN '2005-10-17' AND '2005-10-23'\n",
    "'''\n",
    "\n",
    "\n",
    "# HAY QUE USAR DISTINCT PARA QUE ME DE SOLO EL NOMBRE, YA QUE EN REPARTO EL MISMO SALE VARIAS VECES\n",
    "\n",
    "\n",
    "empleados1 = sql_query(query1)\n",
    "empleados1"
   ]
  },
  {
   "cell_type": "code",
   "execution_count": null,
   "metadata": {},
   "outputs": [],
   "source": []
  }
 ],
 "metadata": {
  "kernelspec": {
   "display_name": ".venv",
   "language": "python",
   "name": "python3"
  },
  "language_info": {
   "codemirror_mode": {
    "name": "ipython",
    "version": 3
   },
   "file_extension": ".py",
   "mimetype": "text/x-python",
   "name": "python",
   "nbconvert_exporter": "python",
   "pygments_lexer": "ipython3",
   "version": "3.11.5"
  }
 },
 "nbformat": 4,
 "nbformat_minor": 2
}
