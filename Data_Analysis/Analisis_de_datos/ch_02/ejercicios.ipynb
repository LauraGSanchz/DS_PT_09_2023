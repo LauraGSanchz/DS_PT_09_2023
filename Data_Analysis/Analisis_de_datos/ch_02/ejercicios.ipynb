{
 "cells": [
  {
   "cell_type": "markdown",
   "metadata": {},
   "source": [
    "# Ejercicios\n",
    "\n",
    "Usando el archivo data/parsed.csv y el material de este capítulo, complete los siguientes ejercicios para practicar sus habilidades con pandas:\n",
    "\n",
    "1. Encuentre el percentil 95 de la magnitud del terremoto en Japón usando el mb tipo de magnitud.\n",
    "2. Encuentra el porcentaje de terremotos en Indonesia que fueron acompañados de tsunamis.\n",
    "3. Calcular las estadísticas resumidas de los terremotos en Nevada.\n",
    "4. Añade una columna indicando si el terremoto ocurrió en un país o estado de EEUU que se encuentre en el Cinturón de Fuego. Utiliza Alaska, Antártida (busca Antarctic), Bolivia,\n",
    "California, Canadá, Chile, Costa Rica, Ecuador, Fiyi, Guatemala, Indonesia, Japón, Islas Kermadec, México (tenga cuidado de no seleccionar Nuevo México), Nueva Zelanda, Perú, Filipinas, Rusia, Taiwán, Tonga y Washington.\n",
    "5. Calcula el número de terremotos en los lugares del Cinturón de Fuego y el número fuera de ellos.\n",
    "6. Calcula el número de tsunamis a lo largo del Cinturón de Fuego."
   ]
  },
  {
   "cell_type": "code",
   "execution_count": 1,
   "metadata": {},
   "outputs": [],
   "source": [
    "import pandas as pd\n",
    "import numpy as np"
   ]
  },
  {
   "cell_type": "code",
   "execution_count": 2,
   "metadata": {},
   "outputs": [],
   "source": [
    "data = pd.read_csv(r'C:\\Users\\laura\\Desktop\\DS_PT_09_2023\\Data_Analysis\\Analisis_de_datos\\ch_02\\data\\parsed.csv',sep = ',')"
   ]
  },
  {
   "cell_type": "code",
   "execution_count": 3,
   "metadata": {},
   "outputs": [
    {
     "data": {
      "text/plain": [
       "(9332, 27)"
      ]
     },
     "execution_count": 3,
     "metadata": {},
     "output_type": "execute_result"
    }
   ],
   "source": [
    "data.shape"
   ]
  },
  {
   "cell_type": "code",
   "execution_count": 4,
   "metadata": {},
   "outputs": [
    {
     "data": {
      "text/plain": [
       "Index(['alert', 'cdi', 'code', 'detail', 'dmin', 'felt', 'gap', 'ids', 'mag',\n",
       "       'magType', 'mmi', 'net', 'nst', 'place', 'rms', 'sig', 'sources',\n",
       "       'status', 'time', 'title', 'tsunami', 'type', 'types', 'tz', 'updated',\n",
       "       'url', 'parsed_place'],\n",
       "      dtype='object')"
      ]
     },
     "execution_count": 4,
     "metadata": {},
     "output_type": "execute_result"
    }
   ],
   "source": [
    "data.columns"
   ]
  },
  {
   "cell_type": "code",
   "execution_count": 5,
   "metadata": {},
   "outputs": [],
   "source": [
    "pd.set_option('display.max_columns', None)"
   ]
  },
  {
   "cell_type": "code",
   "execution_count": 6,
   "metadata": {},
   "outputs": [
    {
     "name": "stdout",
     "output_type": "stream",
     "text": [
      "<class 'pandas.core.frame.DataFrame'>\n",
      "RangeIndex: 9332 entries, 0 to 9331\n",
      "Data columns (total 27 columns):\n",
      " #   Column        Non-Null Count  Dtype  \n",
      "---  ------        --------------  -----  \n",
      " 0   alert         59 non-null     object \n",
      " 1   cdi           329 non-null    float64\n",
      " 2   code          9332 non-null   object \n",
      " 3   detail        9332 non-null   object \n",
      " 4   dmin          6139 non-null   float64\n",
      " 5   felt          329 non-null    float64\n",
      " 6   gap           6164 non-null   float64\n",
      " 7   ids           9332 non-null   object \n",
      " 8   mag           9331 non-null   float64\n",
      " 9   magType       9331 non-null   object \n",
      " 10  mmi           93 non-null     float64\n",
      " 11  net           9332 non-null   object \n",
      " 12  nst           5364 non-null   float64\n",
      " 13  place         9332 non-null   object \n",
      " 14  rms           9332 non-null   float64\n",
      " 15  sig           9332 non-null   int64  \n",
      " 16  sources       9332 non-null   object \n",
      " 17  status        9332 non-null   object \n",
      " 18  time          9332 non-null   int64  \n",
      " 19  title         9332 non-null   object \n",
      " 20  tsunami       9332 non-null   int64  \n",
      " 21  type          9332 non-null   object \n",
      " 22  types         9332 non-null   object \n",
      " 23  tz            9331 non-null   float64\n",
      " 24  updated       9332 non-null   int64  \n",
      " 25  url           9332 non-null   object \n",
      " 26  parsed_place  9332 non-null   object \n",
      "dtypes: float64(9), int64(4), object(14)\n",
      "memory usage: 1.9+ MB\n"
     ]
    }
   ],
   "source": [
    "data.info()"
   ]
  },
  {
   "cell_type": "code",
   "execution_count": 7,
   "metadata": {},
   "outputs": [
    {
     "data": {
      "text/html": [
       "<div>\n",
       "<style scoped>\n",
       "    .dataframe tbody tr th:only-of-type {\n",
       "        vertical-align: middle;\n",
       "    }\n",
       "\n",
       "    .dataframe tbody tr th {\n",
       "        vertical-align: top;\n",
       "    }\n",
       "\n",
       "    .dataframe thead th {\n",
       "        text-align: right;\n",
       "    }\n",
       "</style>\n",
       "<table border=\"1\" class=\"dataframe\">\n",
       "  <thead>\n",
       "    <tr style=\"text-align: right;\">\n",
       "      <th></th>\n",
       "      <th>alert</th>\n",
       "      <th>cdi</th>\n",
       "      <th>code</th>\n",
       "      <th>detail</th>\n",
       "      <th>dmin</th>\n",
       "      <th>felt</th>\n",
       "      <th>gap</th>\n",
       "      <th>ids</th>\n",
       "      <th>mag</th>\n",
       "      <th>magType</th>\n",
       "      <th>mmi</th>\n",
       "      <th>net</th>\n",
       "      <th>nst</th>\n",
       "      <th>place</th>\n",
       "      <th>rms</th>\n",
       "      <th>sig</th>\n",
       "      <th>sources</th>\n",
       "      <th>status</th>\n",
       "      <th>time</th>\n",
       "      <th>title</th>\n",
       "      <th>tsunami</th>\n",
       "      <th>type</th>\n",
       "      <th>types</th>\n",
       "      <th>tz</th>\n",
       "      <th>updated</th>\n",
       "      <th>url</th>\n",
       "      <th>parsed_place</th>\n",
       "    </tr>\n",
       "  </thead>\n",
       "  <tbody>\n",
       "    <tr>\n",
       "      <th>0</th>\n",
       "      <td>NaN</td>\n",
       "      <td>NaN</td>\n",
       "      <td>37389218</td>\n",
       "      <td>https://earthquake.usgs.gov/fdsnws/event/1/que...</td>\n",
       "      <td>0.008693</td>\n",
       "      <td>NaN</td>\n",
       "      <td>85.0</td>\n",
       "      <td>,ci37389218,</td>\n",
       "      <td>1.35</td>\n",
       "      <td>ml</td>\n",
       "      <td>NaN</td>\n",
       "      <td>ci</td>\n",
       "      <td>26.0</td>\n",
       "      <td>9km NE of Aguanga, CA</td>\n",
       "      <td>0.19</td>\n",
       "      <td>28</td>\n",
       "      <td>,ci,</td>\n",
       "      <td>automatic</td>\n",
       "      <td>1539475168010</td>\n",
       "      <td>M 1.4 - 9km NE of Aguanga, CA</td>\n",
       "      <td>0</td>\n",
       "      <td>earthquake</td>\n",
       "      <td>,geoserve,nearby-cities,origin,phase-data,</td>\n",
       "      <td>-480.0</td>\n",
       "      <td>1539475395144</td>\n",
       "      <td>https://earthquake.usgs.gov/earthquakes/eventp...</td>\n",
       "      <td>California</td>\n",
       "    </tr>\n",
       "    <tr>\n",
       "      <th>1</th>\n",
       "      <td>NaN</td>\n",
       "      <td>NaN</td>\n",
       "      <td>37389202</td>\n",
       "      <td>https://earthquake.usgs.gov/fdsnws/event/1/que...</td>\n",
       "      <td>0.020030</td>\n",
       "      <td>NaN</td>\n",
       "      <td>79.0</td>\n",
       "      <td>,ci37389202,</td>\n",
       "      <td>1.29</td>\n",
       "      <td>ml</td>\n",
       "      <td>NaN</td>\n",
       "      <td>ci</td>\n",
       "      <td>20.0</td>\n",
       "      <td>9km NE of Aguanga, CA</td>\n",
       "      <td>0.29</td>\n",
       "      <td>26</td>\n",
       "      <td>,ci,</td>\n",
       "      <td>automatic</td>\n",
       "      <td>1539475129610</td>\n",
       "      <td>M 1.3 - 9km NE of Aguanga, CA</td>\n",
       "      <td>0</td>\n",
       "      <td>earthquake</td>\n",
       "      <td>,geoserve,nearby-cities,origin,phase-data,</td>\n",
       "      <td>-480.0</td>\n",
       "      <td>1539475253925</td>\n",
       "      <td>https://earthquake.usgs.gov/earthquakes/eventp...</td>\n",
       "      <td>California</td>\n",
       "    </tr>\n",
       "    <tr>\n",
       "      <th>2</th>\n",
       "      <td>NaN</td>\n",
       "      <td>4.4</td>\n",
       "      <td>37389194</td>\n",
       "      <td>https://earthquake.usgs.gov/fdsnws/event/1/que...</td>\n",
       "      <td>0.021370</td>\n",
       "      <td>28.0</td>\n",
       "      <td>21.0</td>\n",
       "      <td>,ci37389194,</td>\n",
       "      <td>3.42</td>\n",
       "      <td>ml</td>\n",
       "      <td>NaN</td>\n",
       "      <td>ci</td>\n",
       "      <td>111.0</td>\n",
       "      <td>8km NE of Aguanga, CA</td>\n",
       "      <td>0.22</td>\n",
       "      <td>192</td>\n",
       "      <td>,ci,</td>\n",
       "      <td>automatic</td>\n",
       "      <td>1539475062610</td>\n",
       "      <td>M 3.4 - 8km NE of Aguanga, CA</td>\n",
       "      <td>0</td>\n",
       "      <td>earthquake</td>\n",
       "      <td>,dyfi,focal-mechanism,geoserve,nearby-cities,o...</td>\n",
       "      <td>-480.0</td>\n",
       "      <td>1539536756176</td>\n",
       "      <td>https://earthquake.usgs.gov/earthquakes/eventp...</td>\n",
       "      <td>California</td>\n",
       "    </tr>\n",
       "    <tr>\n",
       "      <th>3</th>\n",
       "      <td>NaN</td>\n",
       "      <td>NaN</td>\n",
       "      <td>37389186</td>\n",
       "      <td>https://earthquake.usgs.gov/fdsnws/event/1/que...</td>\n",
       "      <td>0.026180</td>\n",
       "      <td>NaN</td>\n",
       "      <td>39.0</td>\n",
       "      <td>,ci37389186,</td>\n",
       "      <td>0.44</td>\n",
       "      <td>ml</td>\n",
       "      <td>NaN</td>\n",
       "      <td>ci</td>\n",
       "      <td>26.0</td>\n",
       "      <td>9km NE of Aguanga, CA</td>\n",
       "      <td>0.17</td>\n",
       "      <td>3</td>\n",
       "      <td>,ci,</td>\n",
       "      <td>automatic</td>\n",
       "      <td>1539474978070</td>\n",
       "      <td>M 0.4 - 9km NE of Aguanga, CA</td>\n",
       "      <td>0</td>\n",
       "      <td>earthquake</td>\n",
       "      <td>,geoserve,nearby-cities,origin,phase-data,</td>\n",
       "      <td>-480.0</td>\n",
       "      <td>1539475196167</td>\n",
       "      <td>https://earthquake.usgs.gov/earthquakes/eventp...</td>\n",
       "      <td>California</td>\n",
       "    </tr>\n",
       "    <tr>\n",
       "      <th>4</th>\n",
       "      <td>NaN</td>\n",
       "      <td>NaN</td>\n",
       "      <td>73096941</td>\n",
       "      <td>https://earthquake.usgs.gov/fdsnws/event/1/que...</td>\n",
       "      <td>0.077990</td>\n",
       "      <td>NaN</td>\n",
       "      <td>192.0</td>\n",
       "      <td>,nc73096941,</td>\n",
       "      <td>2.16</td>\n",
       "      <td>md</td>\n",
       "      <td>NaN</td>\n",
       "      <td>nc</td>\n",
       "      <td>18.0</td>\n",
       "      <td>10km NW of Avenal, CA</td>\n",
       "      <td>0.05</td>\n",
       "      <td>72</td>\n",
       "      <td>,nc,</td>\n",
       "      <td>automatic</td>\n",
       "      <td>1539474716050</td>\n",
       "      <td>M 2.2 - 10km NW of Avenal, CA</td>\n",
       "      <td>0</td>\n",
       "      <td>earthquake</td>\n",
       "      <td>,geoserve,nearby-cities,origin,phase-data,scit...</td>\n",
       "      <td>-480.0</td>\n",
       "      <td>1539477547926</td>\n",
       "      <td>https://earthquake.usgs.gov/earthquakes/eventp...</td>\n",
       "      <td>California</td>\n",
       "    </tr>\n",
       "  </tbody>\n",
       "</table>\n",
       "</div>"
      ],
      "text/plain": [
       "  alert  cdi      code                                             detail  \\\n",
       "0   NaN  NaN  37389218  https://earthquake.usgs.gov/fdsnws/event/1/que...   \n",
       "1   NaN  NaN  37389202  https://earthquake.usgs.gov/fdsnws/event/1/que...   \n",
       "2   NaN  4.4  37389194  https://earthquake.usgs.gov/fdsnws/event/1/que...   \n",
       "3   NaN  NaN  37389186  https://earthquake.usgs.gov/fdsnws/event/1/que...   \n",
       "4   NaN  NaN  73096941  https://earthquake.usgs.gov/fdsnws/event/1/que...   \n",
       "\n",
       "       dmin  felt    gap           ids   mag magType  mmi net    nst  \\\n",
       "0  0.008693   NaN   85.0  ,ci37389218,  1.35      ml  NaN  ci   26.0   \n",
       "1  0.020030   NaN   79.0  ,ci37389202,  1.29      ml  NaN  ci   20.0   \n",
       "2  0.021370  28.0   21.0  ,ci37389194,  3.42      ml  NaN  ci  111.0   \n",
       "3  0.026180   NaN   39.0  ,ci37389186,  0.44      ml  NaN  ci   26.0   \n",
       "4  0.077990   NaN  192.0  ,nc73096941,  2.16      md  NaN  nc   18.0   \n",
       "\n",
       "                   place   rms  sig sources     status           time  \\\n",
       "0  9km NE of Aguanga, CA  0.19   28    ,ci,  automatic  1539475168010   \n",
       "1  9km NE of Aguanga, CA  0.29   26    ,ci,  automatic  1539475129610   \n",
       "2  8km NE of Aguanga, CA  0.22  192    ,ci,  automatic  1539475062610   \n",
       "3  9km NE of Aguanga, CA  0.17    3    ,ci,  automatic  1539474978070   \n",
       "4  10km NW of Avenal, CA  0.05   72    ,nc,  automatic  1539474716050   \n",
       "\n",
       "                           title  tsunami        type  \\\n",
       "0  M 1.4 - 9km NE of Aguanga, CA        0  earthquake   \n",
       "1  M 1.3 - 9km NE of Aguanga, CA        0  earthquake   \n",
       "2  M 3.4 - 8km NE of Aguanga, CA        0  earthquake   \n",
       "3  M 0.4 - 9km NE of Aguanga, CA        0  earthquake   \n",
       "4  M 2.2 - 10km NW of Avenal, CA        0  earthquake   \n",
       "\n",
       "                                               types     tz        updated  \\\n",
       "0         ,geoserve,nearby-cities,origin,phase-data, -480.0  1539475395144   \n",
       "1         ,geoserve,nearby-cities,origin,phase-data, -480.0  1539475253925   \n",
       "2  ,dyfi,focal-mechanism,geoserve,nearby-cities,o... -480.0  1539536756176   \n",
       "3         ,geoserve,nearby-cities,origin,phase-data, -480.0  1539475196167   \n",
       "4  ,geoserve,nearby-cities,origin,phase-data,scit... -480.0  1539477547926   \n",
       "\n",
       "                                                 url parsed_place  \n",
       "0  https://earthquake.usgs.gov/earthquakes/eventp...   California  \n",
       "1  https://earthquake.usgs.gov/earthquakes/eventp...   California  \n",
       "2  https://earthquake.usgs.gov/earthquakes/eventp...   California  \n",
       "3  https://earthquake.usgs.gov/earthquakes/eventp...   California  \n",
       "4  https://earthquake.usgs.gov/earthquakes/eventp...   California  "
      ]
     },
     "execution_count": 7,
     "metadata": {},
     "output_type": "execute_result"
    }
   ],
   "source": [
    "data.head()"
   ]
  },
  {
   "cell_type": "code",
   "execution_count": 8,
   "metadata": {},
   "outputs": [
    {
     "data": {
      "text/plain": [
       "array(['ml', 'md', 'mb', 'mww', 'mb_lg', 'mwr', 'mw', 'mh', 'ms_20',\n",
       "       'mwb', nan], dtype=object)"
      ]
     },
     "execution_count": 8,
     "metadata": {},
     "output_type": "execute_result"
    }
   ],
   "source": [
    "data['magType'].unique()"
   ]
  },
  {
   "cell_type": "code",
   "execution_count": 9,
   "metadata": {},
   "outputs": [
    {
     "data": {
      "text/plain": [
       "dtype('O')"
      ]
     },
     "execution_count": 9,
     "metadata": {},
     "output_type": "execute_result"
    }
   ],
   "source": [
    "data['magType'].dtype"
   ]
  },
  {
   "cell_type": "code",
   "execution_count": 10,
   "metadata": {},
   "outputs": [],
   "source": [
    "# 1. Encuentre el percentil 95 de la magnitud del terremoto en Japón usando el mb tipo de magnitud.\n",
    "\n",
    "data_jap = data.loc[(data['parsed_place']== 'Japan') & (data.magType == 'mb')]\n"
   ]
  },
  {
   "cell_type": "code",
   "execution_count": 11,
   "metadata": {},
   "outputs": [
    {
     "data": {
      "text/html": [
       "<div>\n",
       "<style scoped>\n",
       "    .dataframe tbody tr th:only-of-type {\n",
       "        vertical-align: middle;\n",
       "    }\n",
       "\n",
       "    .dataframe tbody tr th {\n",
       "        vertical-align: top;\n",
       "    }\n",
       "\n",
       "    .dataframe thead th {\n",
       "        text-align: right;\n",
       "    }\n",
       "</style>\n",
       "<table border=\"1\" class=\"dataframe\">\n",
       "  <thead>\n",
       "    <tr style=\"text-align: right;\">\n",
       "      <th></th>\n",
       "      <th>cdi</th>\n",
       "      <th>dmin</th>\n",
       "      <th>felt</th>\n",
       "      <th>gap</th>\n",
       "      <th>mag</th>\n",
       "      <th>mmi</th>\n",
       "      <th>nst</th>\n",
       "      <th>rms</th>\n",
       "      <th>sig</th>\n",
       "      <th>time</th>\n",
       "      <th>tsunami</th>\n",
       "      <th>tz</th>\n",
       "      <th>updated</th>\n",
       "    </tr>\n",
       "  </thead>\n",
       "  <tbody>\n",
       "    <tr>\n",
       "      <th>count</th>\n",
       "      <td>16.000000</td>\n",
       "      <td>50.000000</td>\n",
       "      <td>16.000000</td>\n",
       "      <td>50.000000</td>\n",
       "      <td>50.000000</td>\n",
       "      <td>0.0</td>\n",
       "      <td>0.0</td>\n",
       "      <td>50.000000</td>\n",
       "      <td>50.000000</td>\n",
       "      <td>5.000000e+01</td>\n",
       "      <td>50.0</td>\n",
       "      <td>50.000000</td>\n",
       "      <td>5.000000e+01</td>\n",
       "    </tr>\n",
       "    <tr>\n",
       "      <th>mean</th>\n",
       "      <td>2.881250</td>\n",
       "      <td>1.485080</td>\n",
       "      <td>11.187500</td>\n",
       "      <td>108.880000</td>\n",
       "      <td>4.530000</td>\n",
       "      <td>NaN</td>\n",
       "      <td>NaN</td>\n",
       "      <td>0.801800</td>\n",
       "      <td>318.080000</td>\n",
       "      <td>1.538218e+12</td>\n",
       "      <td>0.0</td>\n",
       "      <td>547.200000</td>\n",
       "      <td>1.538746e+12</td>\n",
       "    </tr>\n",
       "    <tr>\n",
       "      <th>std</th>\n",
       "      <td>0.883341</td>\n",
       "      <td>0.802257</td>\n",
       "      <td>20.672748</td>\n",
       "      <td>31.676709</td>\n",
       "      <td>0.266688</td>\n",
       "      <td>NaN</td>\n",
       "      <td>NaN</td>\n",
       "      <td>0.258589</td>\n",
       "      <td>38.570286</td>\n",
       "      <td>6.404535e+08</td>\n",
       "      <td>0.0</td>\n",
       "      <td>26.111222</td>\n",
       "      <td>5.518279e+08</td>\n",
       "    </tr>\n",
       "    <tr>\n",
       "      <th>min</th>\n",
       "      <td>1.000000</td>\n",
       "      <td>0.223000</td>\n",
       "      <td>1.000000</td>\n",
       "      <td>33.000000</td>\n",
       "      <td>4.000000</td>\n",
       "      <td>NaN</td>\n",
       "      <td>NaN</td>\n",
       "      <td>0.270000</td>\n",
       "      <td>246.000000</td>\n",
       "      <td>1.537258e+12</td>\n",
       "      <td>0.0</td>\n",
       "      <td>480.000000</td>\n",
       "      <td>1.537430e+12</td>\n",
       "    </tr>\n",
       "    <tr>\n",
       "      <th>5%</th>\n",
       "      <td>1.000000</td>\n",
       "      <td>0.533550</td>\n",
       "      <td>1.000000</td>\n",
       "      <td>68.700000</td>\n",
       "      <td>4.100000</td>\n",
       "      <td>NaN</td>\n",
       "      <td>NaN</td>\n",
       "      <td>0.428000</td>\n",
       "      <td>259.000000</td>\n",
       "      <td>1.537409e+12</td>\n",
       "      <td>0.0</td>\n",
       "      <td>540.000000</td>\n",
       "      <td>1.537614e+12</td>\n",
       "    </tr>\n",
       "    <tr>\n",
       "      <th>50%</th>\n",
       "      <td>3.100000</td>\n",
       "      <td>1.271000</td>\n",
       "      <td>3.500000</td>\n",
       "      <td>112.000000</td>\n",
       "      <td>4.600000</td>\n",
       "      <td>NaN</td>\n",
       "      <td>NaN</td>\n",
       "      <td>0.810000</td>\n",
       "      <td>326.000000</td>\n",
       "      <td>1.538268e+12</td>\n",
       "      <td>0.0</td>\n",
       "      <td>540.000000</td>\n",
       "      <td>1.538886e+12</td>\n",
       "    </tr>\n",
       "    <tr>\n",
       "      <th>95%</th>\n",
       "      <td>3.875000</td>\n",
       "      <td>2.583200</td>\n",
       "      <td>35.500000</td>\n",
       "      <td>155.650000</td>\n",
       "      <td>4.900000</td>\n",
       "      <td>NaN</td>\n",
       "      <td>NaN</td>\n",
       "      <td>1.335500</td>\n",
       "      <td>371.750000</td>\n",
       "      <td>1.539090e+12</td>\n",
       "      <td>0.0</td>\n",
       "      <td>600.000000</td>\n",
       "      <td>1.539428e+12</td>\n",
       "    </tr>\n",
       "    <tr>\n",
       "      <th>max</th>\n",
       "      <td>4.100000</td>\n",
       "      <td>4.830000</td>\n",
       "      <td>85.000000</td>\n",
       "      <td>167.000000</td>\n",
       "      <td>5.400000</td>\n",
       "      <td>NaN</td>\n",
       "      <td>NaN</td>\n",
       "      <td>1.400000</td>\n",
       "      <td>451.000000</td>\n",
       "      <td>1.539449e+12</td>\n",
       "      <td>0.0</td>\n",
       "      <td>600.000000</td>\n",
       "      <td>1.539533e+12</td>\n",
       "    </tr>\n",
       "  </tbody>\n",
       "</table>\n",
       "</div>"
      ],
      "text/plain": [
       "             cdi       dmin       felt         gap        mag  mmi  nst  \\\n",
       "count  16.000000  50.000000  16.000000   50.000000  50.000000  0.0  0.0   \n",
       "mean    2.881250   1.485080  11.187500  108.880000   4.530000  NaN  NaN   \n",
       "std     0.883341   0.802257  20.672748   31.676709   0.266688  NaN  NaN   \n",
       "min     1.000000   0.223000   1.000000   33.000000   4.000000  NaN  NaN   \n",
       "5%      1.000000   0.533550   1.000000   68.700000   4.100000  NaN  NaN   \n",
       "50%     3.100000   1.271000   3.500000  112.000000   4.600000  NaN  NaN   \n",
       "95%     3.875000   2.583200  35.500000  155.650000   4.900000  NaN  NaN   \n",
       "max     4.100000   4.830000  85.000000  167.000000   5.400000  NaN  NaN   \n",
       "\n",
       "             rms         sig          time  tsunami          tz       updated  \n",
       "count  50.000000   50.000000  5.000000e+01     50.0   50.000000  5.000000e+01  \n",
       "mean    0.801800  318.080000  1.538218e+12      0.0  547.200000  1.538746e+12  \n",
       "std     0.258589   38.570286  6.404535e+08      0.0   26.111222  5.518279e+08  \n",
       "min     0.270000  246.000000  1.537258e+12      0.0  480.000000  1.537430e+12  \n",
       "5%      0.428000  259.000000  1.537409e+12      0.0  540.000000  1.537614e+12  \n",
       "50%     0.810000  326.000000  1.538268e+12      0.0  540.000000  1.538886e+12  \n",
       "95%     1.335500  371.750000  1.539090e+12      0.0  600.000000  1.539428e+12  \n",
       "max     1.400000  451.000000  1.539449e+12      0.0  600.000000  1.539533e+12  "
      ]
     },
     "execution_count": 11,
     "metadata": {},
     "output_type": "execute_result"
    }
   ],
   "source": [
    "data_jap.describe(percentiles=[0.05, 0.95])   "
   ]
  },
  {
   "cell_type": "code",
   "execution_count": 26,
   "metadata": {},
   "outputs": [
    {
     "data": {
      "text/plain": [
       "147"
      ]
     },
     "execution_count": 26,
     "metadata": {},
     "output_type": "execute_result"
    }
   ],
   "source": [
    "# 2. Encuentra el porcentaje de terremotos en Indonesia que fueron acompañados de tsunamis.\n",
    "\n",
    "indo = data.loc[(data['parsed_place'] == 'Indonesia')]['tsunami'].count()\n",
    "indo"
   ]
  },
  {
   "cell_type": "code",
   "execution_count": 28,
   "metadata": {},
   "outputs": [],
   "source": [
    "indo_tsunami = data.loc[(data['parsed_place'] == 'Indonesia') & (data['tsunami']== 1),]\n"
   ]
  },
  {
   "cell_type": "code",
   "execution_count": 15,
   "metadata": {},
   "outputs": [
    {
     "data": {
      "text/plain": [
       "23.12925170068027"
      ]
     },
     "execution_count": 15,
     "metadata": {},
     "output_type": "execute_result"
    }
   ],
   "source": [
    "indo_tsunami['tsunami'].sum()/indo*100\n"
   ]
  },
  {
   "cell_type": "code",
   "execution_count": 16,
   "metadata": {},
   "outputs": [
    {
     "data": {
      "text/html": [
       "<div>\n",
       "<style scoped>\n",
       "    .dataframe tbody tr th:only-of-type {\n",
       "        vertical-align: middle;\n",
       "    }\n",
       "\n",
       "    .dataframe tbody tr th {\n",
       "        vertical-align: top;\n",
       "    }\n",
       "\n",
       "    .dataframe thead th {\n",
       "        text-align: right;\n",
       "    }\n",
       "</style>\n",
       "<table border=\"1\" class=\"dataframe\">\n",
       "  <thead>\n",
       "    <tr style=\"text-align: right;\">\n",
       "      <th></th>\n",
       "      <th>cdi</th>\n",
       "      <th>dmin</th>\n",
       "      <th>felt</th>\n",
       "      <th>gap</th>\n",
       "      <th>mag</th>\n",
       "      <th>mmi</th>\n",
       "      <th>nst</th>\n",
       "      <th>rms</th>\n",
       "      <th>sig</th>\n",
       "      <th>time</th>\n",
       "      <th>tsunami</th>\n",
       "      <th>tz</th>\n",
       "      <th>updated</th>\n",
       "    </tr>\n",
       "  </thead>\n",
       "  <tbody>\n",
       "    <tr>\n",
       "      <th>count</th>\n",
       "      <td>15.000000</td>\n",
       "      <td>681.000000</td>\n",
       "      <td>15.000000</td>\n",
       "      <td>681.000000</td>\n",
       "      <td>681.000000</td>\n",
       "      <td>1.00</td>\n",
       "      <td>681.000000</td>\n",
       "      <td>681.000000</td>\n",
       "      <td>681.000000</td>\n",
       "      <td>6.810000e+02</td>\n",
       "      <td>681.0</td>\n",
       "      <td>681.0</td>\n",
       "      <td>6.810000e+02</td>\n",
       "    </tr>\n",
       "    <tr>\n",
       "      <th>mean</th>\n",
       "      <td>2.440000</td>\n",
       "      <td>0.166199</td>\n",
       "      <td>2.400000</td>\n",
       "      <td>153.668120</td>\n",
       "      <td>0.500073</td>\n",
       "      <td>2.84</td>\n",
       "      <td>12.618209</td>\n",
       "      <td>0.151986</td>\n",
       "      <td>10.970631</td>\n",
       "      <td>1.538314e+12</td>\n",
       "      <td>0.0</td>\n",
       "      <td>-480.0</td>\n",
       "      <td>1.538402e+12</td>\n",
       "    </tr>\n",
       "    <tr>\n",
       "      <th>std</th>\n",
       "      <td>0.501142</td>\n",
       "      <td>0.166228</td>\n",
       "      <td>4.626013</td>\n",
       "      <td>68.735302</td>\n",
       "      <td>0.696710</td>\n",
       "      <td>NaN</td>\n",
       "      <td>9.866963</td>\n",
       "      <td>0.084662</td>\n",
       "      <td>19.607150</td>\n",
       "      <td>5.965637e+08</td>\n",
       "      <td>0.0</td>\n",
       "      <td>0.0</td>\n",
       "      <td>6.010951e+08</td>\n",
       "    </tr>\n",
       "    <tr>\n",
       "      <th>min</th>\n",
       "      <td>2.000000</td>\n",
       "      <td>0.001000</td>\n",
       "      <td>1.000000</td>\n",
       "      <td>29.140000</td>\n",
       "      <td>-0.500000</td>\n",
       "      <td>2.84</td>\n",
       "      <td>3.000000</td>\n",
       "      <td>0.000500</td>\n",
       "      <td>0.000000</td>\n",
       "      <td>1.537247e+12</td>\n",
       "      <td>0.0</td>\n",
       "      <td>-480.0</td>\n",
       "      <td>1.537307e+12</td>\n",
       "    </tr>\n",
       "    <tr>\n",
       "      <th>25%</th>\n",
       "      <td>2.000000</td>\n",
       "      <td>0.053000</td>\n",
       "      <td>1.000000</td>\n",
       "      <td>97.380000</td>\n",
       "      <td>-0.100000</td>\n",
       "      <td>2.84</td>\n",
       "      <td>6.000000</td>\n",
       "      <td>0.106900</td>\n",
       "      <td>0.000000</td>\n",
       "      <td>1.537854e+12</td>\n",
       "      <td>0.0</td>\n",
       "      <td>-480.0</td>\n",
       "      <td>1.537928e+12</td>\n",
       "    </tr>\n",
       "    <tr>\n",
       "      <th>50%</th>\n",
       "      <td>2.200000</td>\n",
       "      <td>0.112000</td>\n",
       "      <td>1.000000</td>\n",
       "      <td>149.140000</td>\n",
       "      <td>0.400000</td>\n",
       "      <td>2.84</td>\n",
       "      <td>10.000000</td>\n",
       "      <td>0.146300</td>\n",
       "      <td>2.000000</td>\n",
       "      <td>1.538280e+12</td>\n",
       "      <td>0.0</td>\n",
       "      <td>-480.0</td>\n",
       "      <td>1.538428e+12</td>\n",
       "    </tr>\n",
       "    <tr>\n",
       "      <th>75%</th>\n",
       "      <td>2.900000</td>\n",
       "      <td>0.233000</td>\n",
       "      <td>1.000000</td>\n",
       "      <td>199.720000</td>\n",
       "      <td>0.900000</td>\n",
       "      <td>2.84</td>\n",
       "      <td>16.000000</td>\n",
       "      <td>0.187100</td>\n",
       "      <td>12.000000</td>\n",
       "      <td>1.538821e+12</td>\n",
       "      <td>0.0</td>\n",
       "      <td>-480.0</td>\n",
       "      <td>1.538878e+12</td>\n",
       "    </tr>\n",
       "    <tr>\n",
       "      <th>max</th>\n",
       "      <td>3.300000</td>\n",
       "      <td>1.414000</td>\n",
       "      <td>19.000000</td>\n",
       "      <td>355.910000</td>\n",
       "      <td>2.900000</td>\n",
       "      <td>2.84</td>\n",
       "      <td>61.000000</td>\n",
       "      <td>0.863400</td>\n",
       "      <td>129.000000</td>\n",
       "      <td>1.539461e+12</td>\n",
       "      <td>0.0</td>\n",
       "      <td>-480.0</td>\n",
       "      <td>1.539483e+12</td>\n",
       "    </tr>\n",
       "  </tbody>\n",
       "</table>\n",
       "</div>"
      ],
      "text/plain": [
       "             cdi        dmin       felt         gap         mag   mmi  \\\n",
       "count  15.000000  681.000000  15.000000  681.000000  681.000000  1.00   \n",
       "mean    2.440000    0.166199   2.400000  153.668120    0.500073  2.84   \n",
       "std     0.501142    0.166228   4.626013   68.735302    0.696710   NaN   \n",
       "min     2.000000    0.001000   1.000000   29.140000   -0.500000  2.84   \n",
       "25%     2.000000    0.053000   1.000000   97.380000   -0.100000  2.84   \n",
       "50%     2.200000    0.112000   1.000000  149.140000    0.400000  2.84   \n",
       "75%     2.900000    0.233000   1.000000  199.720000    0.900000  2.84   \n",
       "max     3.300000    1.414000  19.000000  355.910000    2.900000  2.84   \n",
       "\n",
       "              nst         rms         sig          time  tsunami     tz  \\\n",
       "count  681.000000  681.000000  681.000000  6.810000e+02    681.0  681.0   \n",
       "mean    12.618209    0.151986   10.970631  1.538314e+12      0.0 -480.0   \n",
       "std      9.866963    0.084662   19.607150  5.965637e+08      0.0    0.0   \n",
       "min      3.000000    0.000500    0.000000  1.537247e+12      0.0 -480.0   \n",
       "25%      6.000000    0.106900    0.000000  1.537854e+12      0.0 -480.0   \n",
       "50%     10.000000    0.146300    2.000000  1.538280e+12      0.0 -480.0   \n",
       "75%     16.000000    0.187100   12.000000  1.538821e+12      0.0 -480.0   \n",
       "max     61.000000    0.863400  129.000000  1.539461e+12      0.0 -480.0   \n",
       "\n",
       "            updated  \n",
       "count  6.810000e+02  \n",
       "mean   1.538402e+12  \n",
       "std    6.010951e+08  \n",
       "min    1.537307e+12  \n",
       "25%    1.537928e+12  \n",
       "50%    1.538428e+12  \n",
       "75%    1.538878e+12  \n",
       "max    1.539483e+12  "
      ]
     },
     "execution_count": 16,
     "metadata": {},
     "output_type": "execute_result"
    }
   ],
   "source": [
    "# 3. Calcular las estadísticas resumidas de los terremotos en Nevada.\n",
    "\n",
    "data.loc[(data['parsed_place']== 'Nevada')].describe()"
   ]
  },
  {
   "cell_type": "code",
   "execution_count": 17,
   "metadata": {},
   "outputs": [
    {
     "data": {
      "text/plain": [
       "0        California\n",
       "1        California\n",
       "2        California\n",
       "3        California\n",
       "4        California\n",
       "           ...     \n",
       "9327     California\n",
       "9328     California\n",
       "9329    Puerto Rico\n",
       "9330     California\n",
       "9331     California\n",
       "Name: parsed_place, Length: 9332, dtype: object"
      ]
     },
     "execution_count": 17,
     "metadata": {},
     "output_type": "execute_result"
    }
   ],
   "source": [
    "# 4. Añade una columna indicando si el terremoto ocurrió en un país o estado de EEUU que se encuentre en el Cinturón de Fuego. Utiliza Alaska, Antártida (busca Antarctic), Bolivia,California, Canadá, Chile, Costa Rica, Ecuador, Fiyi, Guatemala, Indonesia, Japón, Islas Kermadec, México (tenga cuidado de no seleccionar Nuevo México), Nueva Zelanda, Perú, Filipinas, Rusia, Taiwán, Tonga y Washington.\n",
    "\n",
    "data['parsed_place'].astype(dtype=str)"
   ]
  },
  {
   "cell_type": "code",
   "execution_count": 18,
   "metadata": {},
   "outputs": [],
   "source": [
    "data['fire_belt'] = data['parsed_place'].str.contains(r'Alaska|Antarctic|Bolivia|California|Canada|Chile|Rica|Ecuador|Fiyi|Guatemala|Indonesia|Japan|Kermadec|Mexico|Zealand|Peru|Filipines|Russia|Taiwan|Tonga|Washington')"
   ]
  },
  {
   "cell_type": "code",
   "execution_count": 19,
   "metadata": {},
   "outputs": [
    {
     "data": {
      "text/plain": [
       "0        True\n",
       "1        True\n",
       "2        True\n",
       "3        True\n",
       "4        True\n",
       "        ...  \n",
       "9327     True\n",
       "9328     True\n",
       "9329    False\n",
       "9330     True\n",
       "9331     True\n",
       "Name: fire_belt, Length: 9332, dtype: bool"
      ]
     },
     "execution_count": 19,
     "metadata": {},
     "output_type": "execute_result"
    }
   ],
   "source": [
    "data['fire_belt']"
   ]
  },
  {
   "cell_type": "code",
   "execution_count": 20,
   "metadata": {},
   "outputs": [
    {
     "data": {
      "text/plain": [
       "fire_belt\n",
       "True     7107\n",
       "False    2225\n",
       "Name: count, dtype: int64"
      ]
     },
     "execution_count": 20,
     "metadata": {},
     "output_type": "execute_result"
    }
   ],
   "source": [
    "# 5. Calcula el número de terremotos en los lugares del Cinturón de Fuego y el número fuera de ellos.\n",
    "\n",
    "data['fire_belt'].value_counts()"
   ]
  },
  {
   "cell_type": "code",
   "execution_count": 21,
   "metadata": {},
   "outputs": [],
   "source": [
    "# 6. Calcula el número de tsunamis a lo largo del Cinturón de Fuego.\n",
    "fire_tsunamis = data.loc[(data['fire_belt'] == True) & (data['tsunami']== 1),['place','fire_belt', 'tsunami']]"
   ]
  },
  {
   "cell_type": "code",
   "execution_count": 22,
   "metadata": {},
   "outputs": [
    {
     "data": {
      "text/plain": [
       "(43, 3)"
      ]
     },
     "execution_count": 22,
     "metadata": {},
     "output_type": "execute_result"
    }
   ],
   "source": [
    "fire_tsunamis.shape"
   ]
  },
  {
   "cell_type": "code",
   "execution_count": 23,
   "metadata": {},
   "outputs": [
    {
     "data": {
      "text/plain": [
       "place        43\n",
       "fire_belt    43\n",
       "tsunami      43\n",
       "dtype: int64"
      ]
     },
     "execution_count": 23,
     "metadata": {},
     "output_type": "execute_result"
    }
   ],
   "source": [
    "fire_tsunamis.count()"
   ]
  },
  {
   "cell_type": "code",
   "execution_count": 24,
   "metadata": {},
   "outputs": [
    {
     "data": {
      "text/plain": [
       "43"
      ]
     },
     "execution_count": 24,
     "metadata": {},
     "output_type": "execute_result"
    }
   ],
   "source": [
    "fire_tsunamis['tsunami'].sum()"
   ]
  },
  {
   "cell_type": "code",
   "execution_count": null,
   "metadata": {},
   "outputs": [],
   "source": []
  }
 ],
 "metadata": {
  "kernelspec": {
   "display_name": ".venv",
   "language": "python",
   "name": "python3"
  },
  "language_info": {
   "codemirror_mode": {
    "name": "ipython",
    "version": 3
   },
   "file_extension": ".py",
   "mimetype": "text/x-python",
   "name": "python",
   "nbconvert_exporter": "python",
   "pygments_lexer": "ipython3",
   "version": "3.11.5"
  }
 },
 "nbformat": 4,
 "nbformat_minor": 2
}
