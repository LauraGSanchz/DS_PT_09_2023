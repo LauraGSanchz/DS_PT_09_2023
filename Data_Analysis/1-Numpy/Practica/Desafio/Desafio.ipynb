{
 "cells": [
  {
   "cell_type": "markdown",
   "metadata": {},
   "source": [
    "## Reto 1: Hundir la Flota (Batalla Naval)\n",
    "### Objetivo: Implementar una versión simplificada del juego de Batalla Naval usando Python y Numpy para manejar el tablero del juego.\n",
    "\n",
    "- Crear un tablero 10x10 usando Numpy arrays.\n",
    "- Colocar 5 barcos de diferentes tamaños en posiciones aleatorias en el tablero.\n",
    "- Permitir que el jugador ingrese coordenadas para \"disparar\".\n",
    "- Mostrar un mensaje si el jugador acierta o falla, y actualizar el tablero acorde.\n",
    "- Seguir jugando hasta que todos los barcos sean hundidos.\n",
    "#### Habilidades aplicadas: Uso de arrays de Numpy, generación de números aleatorios, estructuras de control en Python.\n",
    "\n",
    "## Reto 2: Tres en Raya (Tic-Tac-Toe)\n",
    "### Objetivo: Implementar el juego de Tres en Raya.\n",
    "\n",
    "- Crear un tablero 3x3 usando Numpy arrays.\n",
    "- Permitir a dos jugadores ingresar sus movimientos alternadamente.\n",
    "- Verificar después de cada movimiento si alguno de los jugadores ha ganado.\n",
    "- Mostrar el tablero después de cada turno.\n",
    "- Terminar el juego si hay un ganador o si el tablero está lleno.\n",
    "#### Habilidades aplicadas: Manipulación de arrays, estructuras de control, funciones en Python.\n",
    "\n",
    "## Reto 3: Torres de Hanoi\n",
    "### Objetivo: Implementar el juego de las Torres de Hanoi usando Python.\n",
    "\n",
    "- Crear tres pilas para representar los tres postes del juego.\n",
    "- Implementar la lógica para mover un disco de un poste a otro, siguiendo las reglas del juego.\n",
    "- Desarrollar una función recursiva para resolver el juego.\n",
    "- Permitir al usuario elegir el número de discos con los que jugará.\n",
    "#### Habilidades aplicadas: Recursividad, estructuras de datos (pilas), funciones en Python."
   ]
  },
  {
   "cell_type": "markdown",
   "metadata": {},
   "source": [
    "``Deberas hacer por lo menos uno de los tres para de la fecha de entrega, pero antes de terminar el modulo de analisis de datos tendras que entregar todos..``"
   ]
  },
  {
   "cell_type": "markdown",
   "metadata": {},
   "source": [
    "como se cual debo hacer muy simple introduce tu fecha de cumpleaños en la siguiente funcion"
   ]
  },
  {
   "cell_type": "code",
   "execution_count": 3,
   "metadata": {},
   "outputs": [],
   "source": [
    "def cual_es_mi_reto(fecha: str) -> str:\n",
    "    \"\"\"\n",
    "    Args:\n",
    "    ------\n",
    "    fecha: str el formato de la fecha es DD-MM-YYYY\n",
    "    Returns:\n",
    "    -------\n",
    "    str: el numero del reto\n",
    "    \"\"\"\n",
    "    try:\n",
    "        return int(fecha.split('-')[0]) % 3\n",
    "    except:\n",
    "        return 'La fecha tiene que ser en este formato DD-MM-YYYY'"
   ]
  },
  {
   "cell_type": "code",
   "execution_count": 4,
   "metadata": {},
   "outputs": [
    {
     "data": {
      "text/plain": [
       "2"
      ]
     },
     "execution_count": 4,
     "metadata": {},
     "output_type": "execute_result"
    }
   ],
   "source": [
    "cual_es_mi_reto(fecha='08-04-1989')"
   ]
  },
  {
   "cell_type": "markdown",
   "metadata": {},
   "source": [
    "## Reto 1: Hundir la Flota (Batalla Naval)\n",
    "### Objetivo: Implementar una versión simplificada del juego de Batalla Naval usando Python y Numpy para manejar el tablero del juego.\n",
    "\n",
    "- Crear un tablero 10x10 usando Numpy arrays.\n",
    "- Colocar 5 barcos de diferentes tamaños en posiciones aleatorias en el tablero.\n",
    "- Permitir que el jugador ingrese coordenadas para \"disparar\".\n",
    "- Mostrar un mensaje si el jugador acierta o falla, y actualizar el tablero acorde.\n",
    "- Seguir jugando hasta que todos los barcos sean hundidos.\n",
    "#### Habilidades aplicadas: Uso de arrays de Numpy, generación de números aleatorios, estructuras de control en Python."
   ]
  },
  {
   "cell_type": "code",
   "execution_count": 3,
   "metadata": {},
   "outputs": [
    {
     "name": "stdout",
     "output_type": "stream",
     "text": [
      "[[' ' ' ' ' ' ' ' ' ' ' ' ' ' ' ' ' ' ' ']\n",
      " [' ' ' ' ' ' ' ' ' ' ' ' ' ' ' ' ' ' ' ']\n",
      " [' ' ' ' ' ' ' ' ' ' ' ' ' ' ' ' ' ' ' ']\n",
      " [' ' ' ' ' ' ' ' ' ' ' ' ' ' ' ' ' ' ' ']\n",
      " [' ' ' ' ' ' ' ' ' ' ' ' ' ' ' ' ' ' ' ']\n",
      " [' ' ' ' ' ' ' ' ' ' ' ' ' ' ' ' ' ' ' ']\n",
      " [' ' ' ' ' ' ' ' ' ' ' ' ' ' ' ' ' ' ' ']\n",
      " [' ' ' ' ' ' ' ' ' ' ' ' ' ' ' ' ' ' ' ']\n",
      " [' ' ' ' ' ' ' ' ' ' ' ' ' ' ' ' ' ' ' ']\n",
      " [' ' ' ' ' ' ' ' ' ' ' ' ' ' ' ' ' ' ' ']]\n"
     ]
    }
   ],
   "source": [
    "import numpy as np\n",
    "array_inicio = np.array(' ')\n",
    "tablero = np.tile(array_inicio,(10,10))\n",
    "print(tablero)"
   ]
  },
  {
   "cell_type": "code",
   "execution_count": null,
   "metadata": {},
   "outputs": [],
   "source": [
    "def inicio():\n",
    "    print(\"Bienvenido a Hundir la flota. Añadiremos 5 barcos para iniciar el juego\")\n",
    "    \n"
   ]
  },
  {
   "cell_type": "code",
   "execution_count": 35,
   "metadata": {},
   "outputs": [
    {
     "name": "stdout",
     "output_type": "stream",
     "text": [
      "5\n",
      "Start: (7, 1)\n",
      "[['O' 'O' ' ' ' ' ' ' ' ' ' ' 'O' ' ' 'O']\n",
      " ['O' ' ' ' ' ' ' ' ' ' ' ' ' ' ' ' ' ' ']\n",
      " [' ' ' ' ' ' ' ' ' ' ' ' ' ' ' ' ' ' ' ']\n",
      " [' ' ' ' 'O' ' ' 'O' ' ' ' ' ' ' ' ' ' ']\n",
      " ['O' ' ' ' ' ' ' ' ' ' ' ' ' ' ' ' ' ' ']\n",
      " ['O' 'O' ' ' ' ' ' ' ' ' ' ' ' ' ' ' 'O']\n",
      " ['O' ' ' ' ' 'O' ' ' ' ' ' ' ' ' ' ' ' ']\n",
      " [' ' 'O' ' ' ' ' ' ' ' ' ' ' ' ' ' ' ' ']\n",
      " [' ' ' ' ' ' ' ' ' ' ' ' ' ' ' ' ' ' ' ']\n",
      " ['O' ' ' ' ' ' ' ' ' ' ' ' ' ' ' ' ' ' ']]\n"
     ]
    }
   ],
   "source": [
    "import random \n",
    "# variable aleatoria para la longitud del barco, como maximo podrá ocupar 5 coordenadas:\n",
    "long_barco = random.randint(0,5)\n",
    "print(long_barco)\n",
    "\n",
    "# creamos dos variables para elegir aleatoriamente donde se coloca la priemra parte del barco:\n",
    "fila_inicio = random.randint(0,10)\n",
    "col_inicio = random.randint(0,10)\n",
    "\n",
    "\n",
    "start = (fila_inicio,col_inicio)\n",
    "print(\"Start:\", start)\n",
    "# print(type(start))\n",
    "tablero[start] = 'O'\n",
    "print(tablero)\n",
    "\n",
    "\n"
   ]
  },
  {
   "cell_type": "code",
   "execution_count": 59,
   "metadata": {},
   "outputs": [],
   "source": [
    "def inicio_juego():\n",
    "    numero_barcos= 0 \n",
    "    \n",
    "    while numero_barcos <= 5:\n",
    "        # variable aleatoria para la longitud del barco, como maximo podrá ocupar 5 coordenadas:\n",
    "        # print(long_barco)\n",
    "        long_barco = random.randint(0,5)\n",
    "        # creamos dos variables para elegir aleatoriamente donde se coloca la priemra parte del barco:\n",
    "        fila_inicio = random.randint(0,9)\n",
    "        col_inicio = random.randint(0,9)\n",
    "\n",
    "        start = (fila_inicio,col_inicio)\n",
    "        # print(\"Start:\", start)\n",
    "        # print(type(start))\n",
    "        tablero[start] = 'O'\n",
    "\n",
    "\n",
    "        # creamos la variable direccion para que se fije aleatoriamente la posicion del barco en el tablero\n",
    "        puntos_cardinales = ['norte', 'sur', 'este', 'oeste']\n",
    "        direccion = random.choice(puntos_cardinales)\n",
    "        # print(direccion)\n",
    "\n",
    "        size = 0\n",
    "        try:\n",
    "            while long_barco <= size:\n",
    "\n",
    "                if direccion == 'norte':\n",
    "                    tablero[(fila_inicio - 1),col_inicio] = 'O'\n",
    "                elif direccion == 'sur':\n",
    "                    tablero[(fila_inicio + 1),col_inicio] = 'O'\n",
    "                elif direccion == 'este':\n",
    "                    tablero[fila_inicio,(col_inicio + 1)] = 'O'\n",
    "                elif direccion == 'oeste':\n",
    "                    tablero[fila_inicio,(col_inicio - 1)] = 'O'    \n",
    "        except IndexError as e:\n",
    "                pass    \n",
    "        size += 1\n",
    "            # print(tablero)\n",
    "            # print('Barco creado')\n",
    "    numero_barcos += 1\n",
    "    return print(tablero), print('Barcos creados')\n"
   ]
  },
  {
   "cell_type": "code",
   "execution_count": 60,
   "metadata": {},
   "outputs": [
    {
     "ename": "KeyboardInterrupt",
     "evalue": "",
     "output_type": "error",
     "traceback": [
      "\u001b[1;31m---------------------------------------------------------------------------\u001b[0m",
      "\u001b[1;31mKeyboardInterrupt\u001b[0m                         Traceback (most recent call last)",
      "\u001b[1;32mc:\\Users\\laura\\Desktop\\DS_PT_09_2023\\Data_Analysis\\1-Numpy\\Practica\\Desafio\\Desafio.ipynb Cell 12\u001b[0m line \u001b[0;36m1\n\u001b[1;32m----> <a href='vscode-notebook-cell:/c%3A/Users/laura/Desktop/DS_PT_09_2023/Data_Analysis/1-Numpy/Practica/Desafio/Desafio.ipynb#X14sZmlsZQ%3D%3D?line=0'>1</a>\u001b[0m inicio_juego()\n",
      "\u001b[1;32mc:\\Users\\laura\\Desktop\\DS_PT_09_2023\\Data_Analysis\\1-Numpy\\Practica\\Desafio\\Desafio.ipynb Cell 12\u001b[0m line \u001b[0;36m3\n\u001b[0;32m     <a href='vscode-notebook-cell:/c%3A/Users/laura/Desktop/DS_PT_09_2023/Data_Analysis/1-Numpy/Practica/Desafio/Desafio.ipynb#X14sZmlsZQ%3D%3D?line=27'>28</a>\u001b[0m     tablero[(fila_inicio \u001b[39m-\u001b[39m \u001b[39m1\u001b[39m),col_inicio] \u001b[39m=\u001b[39m \u001b[39m'\u001b[39m\u001b[39mO\u001b[39m\u001b[39m'\u001b[39m\n\u001b[0;32m     <a href='vscode-notebook-cell:/c%3A/Users/laura/Desktop/DS_PT_09_2023/Data_Analysis/1-Numpy/Practica/Desafio/Desafio.ipynb#X14sZmlsZQ%3D%3D?line=28'>29</a>\u001b[0m \u001b[39melif\u001b[39;00m direccion \u001b[39m==\u001b[39m \u001b[39m'\u001b[39m\u001b[39msur\u001b[39m\u001b[39m'\u001b[39m:\n\u001b[1;32m---> <a href='vscode-notebook-cell:/c%3A/Users/laura/Desktop/DS_PT_09_2023/Data_Analysis/1-Numpy/Practica/Desafio/Desafio.ipynb#X14sZmlsZQ%3D%3D?line=29'>30</a>\u001b[0m     tablero[(fila_inicio \u001b[39m+\u001b[39;49m \u001b[39m1\u001b[39;49m),col_inicio] \u001b[39m=\u001b[39m \u001b[39m'\u001b[39m\u001b[39mO\u001b[39m\u001b[39m'\u001b[39m\n\u001b[0;32m     <a href='vscode-notebook-cell:/c%3A/Users/laura/Desktop/DS_PT_09_2023/Data_Analysis/1-Numpy/Practica/Desafio/Desafio.ipynb#X14sZmlsZQ%3D%3D?line=30'>31</a>\u001b[0m \u001b[39melif\u001b[39;00m direccion \u001b[39m==\u001b[39m \u001b[39m'\u001b[39m\u001b[39meste\u001b[39m\u001b[39m'\u001b[39m:\n\u001b[0;32m     <a href='vscode-notebook-cell:/c%3A/Users/laura/Desktop/DS_PT_09_2023/Data_Analysis/1-Numpy/Practica/Desafio/Desafio.ipynb#X14sZmlsZQ%3D%3D?line=31'>32</a>\u001b[0m     tablero[fila_inicio,(col_inicio \u001b[39m+\u001b[39m \u001b[39m1\u001b[39m)] \u001b[39m=\u001b[39m \u001b[39m'\u001b[39m\u001b[39mO\u001b[39m\u001b[39m'\u001b[39m\n",
      "\u001b[1;31mKeyboardInterrupt\u001b[0m: "
     ]
    }
   ],
   "source": [
    "inicio_juego()"
   ]
  },
  {
   "cell_type": "markdown",
   "metadata": {},
   "source": [
    "Yo cree cuatro variables:\n",
    "- Barco : tamaño del barco\n",
    "- Fila: fila, random\n",
    "- Columna: columna, random\n",
    "- Posición: random.choice entre 'norte','sur','este','oeste'.\n",
    "Luego asigne el tamaño del tablero a dos variables:\n",
    "Row, Column = tablero.shape\n",
    "Ambos valen 10.\n",
    "\n",
    "Y ya después la lógica sería crear un bucle con sus condicionales. \n",
    "Para que no se salga del tablero, yo opte por sumar barco + columna/fila y si es mayor a Columns/Rows (Columns/Rows le asigne el valor de shape) no se puede agregar el barco.\n",
    "Y si es menor, lo agregas como lo harías con un diccionario."
   ]
  },
  {
   "cell_type": "code",
   "execution_count": 33,
   "metadata": {},
   "outputs": [
    {
     "name": "stdout",
     "output_type": "stream",
     "text": [
      "[[' ' 'O' ' ' 'O' ' ' ' ' 'O' 'O' ' ' 'O']\n",
      " ['O' 'O' 'O' 'O' 'O' ' ' 'O' 'O' ' ' ' ']\n",
      " [' ' 'O' 'O' 'O' 'O' 'O' 'O' 'O' ' ' ' ']\n",
      " [' ' ' ' ' ' 'O' 'O' ' ' 'O' 'O' ' ' ' ']\n",
      " [' ' ' ' ' ' 'O' 'O' ' ' 'O' 'O' 'O' ' ']\n",
      " [' ' ' ' ' ' 'O' 'O' ' ' 'O' 'O' 'O' ' ']\n",
      " [' ' ' ' ' ' 'O' ' ' ' ' ' ' ' ' 'O' ' ']\n",
      " ['O' 'O' 'O' 'O' ' ' ' ' ' ' ' ' 'O' 'O']\n",
      " [' ' ' ' ' ' ' ' ' ' ' ' ' ' ' ' 'O' ' ']\n",
      " [' ' ' ' ' ' ' ' ' ' ' ' ' ' ' ' 'O' ' ']]\n"
     ]
    }
   ],
   "source": [
    "import random \n",
    "\n",
    "\n",
    "long_barco = random.randint(0,5)\n",
    "        \n",
    "fila_inicio = random.randint(0,10)\n",
    "col_inicio = random.randint(0,10)\n",
    "start = (fila_inicio,col_inicio)\n",
    "\n",
    "puntos_cardinales = ['norte', 'sur', 'este', 'oeste']\n",
    "direccion = random.choice(puntos_cardinales)\n",
    "\n",
    "\n",
    "\n",
    "if direccion == 'norte':\n",
    "        \n",
    "        if fila_inicio - long_barco > 0:\n",
    "            tablero[fila_inicio:(fila_inicio - long_barco),col_inicio] = 'O'\n",
    "        else:\n",
    "            fila_inicio2 = fila_inicio + long_barco-fila_inicio\n",
    "            tablero[fila_inicio2:(fila_inicio2 - long_barco),col_inicio] = 'O'\n",
    "\n",
    "elif direccion == 'sur':\n",
    "        if fila_inicio + long_barco < 10:\n",
    "            tablero[fila_inicio:(fila_inicio + long_barco),col_inicio] = 'O'\n",
    "        else:\n",
    "            fila_inicio2 = fila_inicio + (long_barco-fila_inicio)\n",
    "            tablero[fila_inicio2:(fila_inicio2 + long_barco),col_inicio] = 'O'\n",
    "\n",
    "elif direccion == 'este':\n",
    "        if col_inicio + long_barco < 10:\n",
    "            tablero[fila_inicio,col_inicio:(col_inicio + long_barco)] = 'O'\n",
    "        else:\n",
    "            col_inicio2 = 10 - col_inicio + long_barco\n",
    "            tablero[fila_inicio,col_inicio2:(col_inicio2 + long_barco)] = 'O'\n",
    "\n",
    "\n",
    "elif direccion == 'oeste':\n",
    "        if col_inicio + long_barco < 10:\n",
    "            tablero[fila_inicio,col_inicio:(col_inicio - long_barco)] = 'O'\n",
    "        else:\n",
    "            col_inicio2 = col_inicio + (long_barco-col_inicio)\n",
    "            tablero[fila_inicio,col_inicio2:(col_inicio2 - long_barco)] = 'O'\n",
    "    \n",
    "    print(tablero)\n"
   ]
  },
  {
   "cell_type": "code",
   "execution_count": 1,
   "metadata": {},
   "outputs": [
    {
     "name": "stdout",
     "output_type": "stream",
     "text": [
      "[[' ' ' ' ' ' ' ' ' ' ' ' ' ' ' ' ' ' ' ']\n",
      " [' ' ' ' ' ' ' ' ' ' ' ' ' ' ' ' ' ' ' ']\n",
      " [' ' ' ' ' ' ' ' ' ' ' ' ' ' ' ' ' ' ' ']\n",
      " [' ' ' ' ' ' ' ' ' ' ' ' ' ' ' ' ' ' ' ']\n",
      " [' ' ' ' ' ' ' ' ' ' ' ' ' ' ' ' ' ' ' ']\n",
      " [' ' ' ' ' ' ' ' ' ' ' ' ' ' ' ' ' ' ' ']\n",
      " [' ' ' ' ' ' ' ' ' ' ' ' ' ' ' ' ' ' ' ']\n",
      " [' ' ' ' ' ' ' ' ' ' ' ' ' ' ' ' ' ' ' ']\n",
      " [' ' ' ' ' ' ' ' ' ' ' ' ' ' ' ' ' ' ' ']\n",
      " [' ' ' ' ' ' ' ' ' ' ' ' ' ' ' ' ' ' ' ']]\n"
     ]
    }
   ],
   "source": [
    "import numpy as np\n",
    "array_inicio = np.array(' ')\n",
    "tablero = np.tile(array_inicio,(10,10))\n",
    "print(tablero)"
   ]
  },
  {
   "cell_type": "code",
   "execution_count": 44,
   "metadata": {},
   "outputs": [
    {
     "name": "stdout",
     "output_type": "stream",
     "text": [
      "[[' ' ' ' ' ' ' ' ' ' ' ' ' ' ' ' ' ' ' ']\n",
      " [' ' ' ' ' ' ' ' ' ' ' ' ' ' ' ' ' ' ' ']\n",
      " [' ' ' ' ' ' ' ' 'O' 'O' 'O' 'O' 'O' ' ']\n",
      " [' ' ' ' ' ' ' ' ' ' ' ' ' ' ' ' ' ' ' ']\n",
      " [' ' ' ' ' ' ' ' ' ' ' ' ' ' ' ' ' ' ' ']\n",
      " [' ' ' ' ' ' ' ' ' ' ' ' ' ' ' ' ' ' ' ']\n",
      " [' ' ' ' ' ' ' ' ' ' ' ' ' ' ' ' ' ' ' ']\n",
      " [' ' ' ' ' ' ' ' ' ' ' ' ' ' ' ' ' ' ' ']\n",
      " [' ' ' ' ' ' ' ' ' ' 'O' 'O' 'O' 'O' 'O']\n",
      " [' ' ' ' 'O' 'O' ' ' ' ' ' ' ' ' ' ' ' ']]\n"
     ]
    }
   ],
   "source": [
    "\n",
    "numero_barcos = 0\n",
    "\n",
    "while numero_barcos < 6:\n",
    "    \n",
    "    if tablero[] != 'O':\n",
    "    \n",
    "        long_barco = random.randint(0,5)\n",
    "            \n",
    "        fila_inicio = random.randint(0,10)\n",
    "        col_inicio = random.randint(0,10)\n",
    "            \n",
    "\n",
    "        puntos_cardinales = ['norte', 'sur', 'este', 'oeste']\n",
    "        direccion = random.choice(puntos_cardinales)\n",
    "\n",
    "\n",
    "        if direccion == 'norte':\n",
    "                \n",
    "                if fila_inicio - long_barco > 0:\n",
    "                    tablero[fila_inicio:(fila_inicio - long_barco),col_inicio] = 'O'\n",
    "                    numero_barcos += 1\n",
    "                else:\n",
    "                    fila_inicio2 = fila_inicio + long_barco-fila_inicio\n",
    "                    tablero[fila_inicio2:(fila_inicio2 - long_barco),col_inicio] = 'O'\n",
    "                    numero_barcos += 1\n",
    "\n",
    "        elif direccion == 'sur':\n",
    "                if fila_inicio + long_barco < 10:\n",
    "                    tablero[fila_inicio:(fila_inicio + long_barco),col_inicio] = 'O'\n",
    "                    numero_barcos += 1\n",
    "                else:\n",
    "                    fila_inicio2 = fila_inicio + (long_barco-fila_inicio)\n",
    "                    tablero[fila_inicio2:(fila_inicio2 + long_barco),col_inicio] = 'O'\n",
    "                    numero_barcos += 1\n",
    "\n",
    "        elif direccion == 'este':\n",
    "                if col_inicio + long_barco < 10:\n",
    "                    tablero[fila_inicio,col_inicio:(col_inicio + long_barco)] = 'O'\n",
    "                    numero_barcos += 1\n",
    "                else:\n",
    "                    col_inicio2 = 10 - col_inicio + long_barco\n",
    "                    tablero[fila_inicio,col_inicio2:(col_inicio2 + long_barco)] = 'O'\n",
    "                    numero_barcos += 1\n",
    "\n",
    "\n",
    "        elif direccion == 'oeste':\n",
    "                if col_inicio + long_barco < 10:\n",
    "                    tablero[fila_inicio,col_inicio:(col_inicio - long_barco)] = 'O'\n",
    "                    numero_barcos += 1\n",
    "                else:\n",
    "                    col_inicio2 = col_inicio + (long_barco-col_inicio)\n",
    "                    tablero[fila_inicio,col_inicio2:(col_inicio2 - long_barco)] = 'O'\n",
    "                    numero_barcos += 1\n",
    "    else: \n",
    "         \n",
    "print(tablero)"
   ]
  },
  {
   "cell_type": "code",
   "execution_count": 18,
   "metadata": {},
   "outputs": [
    {
     "name": "stdout",
     "output_type": "stream",
     "text": [
      "[[' ' ' ' ' ' ' ' ' ' ' ' ' ' ' ' ' ' ' ']\n",
      " [' ' ' ' ' ' ' ' ' ' ' ' ' ' ' ' ' ' ' ']\n",
      " [' ' ' ' ' ' ' ' ' ' ' ' ' ' ' ' ' ' ' ']\n",
      " [' ' ' ' ' ' ' ' ' ' ' ' ' ' ' ' ' ' ' ']\n",
      " [' ' ' ' ' ' ' ' ' ' ' ' ' ' ' ' ' ' ' ']\n",
      " [' ' ' ' ' ' ' ' ' ' ' ' ' ' ' ' ' ' ' ']\n",
      " [' ' ' ' ' ' ' ' ' ' ' ' ' ' ' ' ' ' ' ']\n",
      " [' ' ' ' ' ' ' ' ' ' ' ' ' ' ' ' ' ' ' ']\n",
      " [' ' ' ' ' ' ' ' ' ' ' ' ' ' ' ' ' ' ' ']\n",
      " [' ' ' ' ' ' ' ' ' ' ' ' ' ' ' ' ' ' ' ']]\n"
     ]
    }
   ],
   "source": [
    "import numpy as np\n",
    "array_inicio = np.array(' ')\n",
    "tablero = np.tile(array_inicio,(10,10))\n",
    "print(tablero)"
   ]
  },
  {
   "cell_type": "code",
   "execution_count": 17,
   "metadata": {},
   "outputs": [
    {
     "name": "stdout",
     "output_type": "stream",
     "text": [
      "(3, 1, 8)\n",
      "(0, 0, 1)\n"
     ]
    }
   ],
   "source": [
    "# en esta opcion intento crear 5 barcos con variables. en lugar de imprimir en el tablero directamente, consigo las coordenadas y luego pinto\n",
    "import random\n",
    "barco1 = 0\n",
    "long_barco = random.randint(0,5)\n",
    "         \n",
    "fila_inicio = random.randint(0,10)\n",
    "col_inicio = random.randint(0,10)\n",
    "        \n",
    "\n",
    "orientacion = ['norte', 'sur', 'este', 'oeste']\n",
    "direccion = random.choice(puntos_cardinales)\n",
    "\n",
    "\n",
    "if direccion == 'norte':\n",
    "            \n",
    "            if fila_inicio - long_barco > 0:\n",
    "                barco1 = (fila_inicio,(fila_inicio - long_barco),col_inicio)\n",
    "              \n",
    "            else:\n",
    "                fila_inicio2 = fila_inicio + long_barco-fila_inicio\n",
    "                barco1 = (fila_inicio2,(fila_inicio2 - long_barco),col_inicio)\n",
    "              \n",
    "\n",
    "elif direccion == 'sur':\n",
    "        if fila_inicio + long_barco < 10:\n",
    "            barco1 = (fila_inicio,(fila_inicio + long_barco),col_inicio)\n",
    "            \n",
    "        else:\n",
    "            fila_inicio2 = fila_inicio + (long_barco-fila_inicio)\n",
    "            barco1 = (fila_inicio2,(fila_inicio2 + long_barco),col_inicio)\n",
    "            \n",
    "\n",
    "elif direccion == 'este':\n",
    "        if col_inicio + long_barco < 10:\n",
    "            barco1 = (fila_inicio,col_inicio,(col_inicio + long_barco))\n",
    "            \n",
    "        else:\n",
    "            col_inicio2 = 10 - col_inicio + long_barco\n",
    "            barco1= (fila_inicio,col_inicio2,(col_inicio2 + long_barco))\n",
    "            \n",
    "\n",
    "elif direccion == 'oeste':\n",
    "        if col_inicio + long_barco < 10:\n",
    "            barco1 = (fila_inicio,col_inicio,(col_inicio - long_barco))\n",
    "            \n",
    "        else:\n",
    "            col_inicio2 = col_inicio + (long_barco-col_inicio)\n",
    "            barco1 = (fila_inicio,col_inicio2,(col_inicio2 - long_barco))\n",
    "\n",
    "\n",
    "\n",
    "\n",
    "print(barco1)\n",
    "tablero[barco1[0:2],barco1[-1]] = 'O'\n",
    "\n",
    "\n"
   ]
  },
  {
   "cell_type": "code",
   "execution_count": 22,
   "metadata": {},
   "outputs": [
    {
     "name": "stdout",
     "output_type": "stream",
     "text": [
      "[0, 0, 0, 0, 0]\n"
     ]
    }
   ],
   "source": [
    "# creamos una lista para iterar sobre ella con un bucle for\n",
    "barco1 = 0\n",
    "barco2 = 0\n",
    "barco3 = 0\n",
    "barco4 = 0\n",
    "barco5 = 0\n",
    "barcos= [barco1, barco2, barco3, barco4,barco5]\n",
    "for i in barcos:\n",
    "    long_barco = random.randint(0,5)\n",
    "            \n",
    "    fila_inicio = random.randint(0,10)\n",
    "    col_inicio = random.randint(0,10)\n",
    "            \n",
    "\n",
    "    orientacion = ['norte', 'sur', 'este', 'oeste']\n",
    "    direccion = random.choice(puntos_cardinales)\n",
    "\n",
    "    if direccion == 'norte':\n",
    "                \n",
    "                if fila_inicio - long_barco > 0:\n",
    "                    i = (fila_inicio,(fila_inicio - long_barco),col_inicio)\n",
    "                \n",
    "                else:\n",
    "                    fila_inicio2 = fila_inicio + long_barco-fila_inicio\n",
    "                    i = (fila_inicio2,(fila_inicio2 - long_barco),col_inicio)\n",
    "                \n",
    "\n",
    "    elif direccion == 'sur':\n",
    "            if fila_inicio + long_barco < 10:\n",
    "                i = (fila_inicio,(fila_inicio + long_barco),col_inicio)\n",
    "                \n",
    "            else:\n",
    "                fila_inicio2 = fila_inicio + (long_barco-fila_inicio)\n",
    "                i = (fila_inicio2,(fila_inicio2 + long_barco),col_inicio)\n",
    "                \n",
    "\n",
    "    elif direccion == 'este':\n",
    "            if col_inicio + long_barco < 10:\n",
    "                i = (fila_inicio,col_inicio,(col_inicio + long_barco))\n",
    "                \n",
    "            else:\n",
    "                col_inicio2 = 10 - col_inicio + long_barco\n",
    "                i= (fila_inicio,col_inicio2,(col_inicio2 + long_barco))\n",
    "                \n",
    "\n",
    "    elif direccion == 'oeste':\n",
    "            if col_inicio + long_barco < 10:\n",
    "                i = (fila_inicio,col_inicio,(col_inicio - long_barco))\n",
    "                \n",
    "            else:\n",
    "                col_inicio2 = col_inicio + (long_barco-col_inicio)\n",
    "                i = (fila_inicio,col_inicio2,(col_inicio2 - long_barco))\n",
    "\n",
    "    \n",
    "print(barcos)\n",
    "# for i in barcos:\n",
    "#     tablero[i[0:2],i[-1]] = 'O'"
   ]
  },
  {
   "cell_type": "code",
   "execution_count": 8,
   "metadata": {},
   "outputs": [],
   "source": [
    "# crear disparo. funcion disparar\n",
    "def disparo(a:tuple):\n",
    "    a  = input('Inserte las coordenadas del disparo',)\n",
    "    a = tuple(a)\n",
    "    if tablero[a] == 'O':\n",
    "        tablero[a]  = 'X'\n",
    "        return print('Enhorabuena, ha disparado a un barco')\n",
    "    else: \n",
    "        return print('prueba otra vez')\n",
    "    "
   ]
  },
  {
   "cell_type": "code",
   "execution_count": null,
   "metadata": {},
   "outputs": [],
   "source": []
  }
 ],
 "metadata": {
  "kernelspec": {
   "display_name": "este",
   "language": "python",
   "name": "python3"
  },
  "language_info": {
   "codemirror_mode": {
    "name": "ipython",
    "version": 3
   },
   "file_extension": ".py",
   "mimetype": "text/x-python",
   "name": "python",
   "nbconvert_exporter": "python",
   "pygments_lexer": "ipython3",
   "version": "3.11.5"
  }
 },
 "nbformat": 4,
 "nbformat_minor": 2
}
