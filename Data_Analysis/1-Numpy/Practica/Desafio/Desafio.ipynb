{
 "cells": [
  {
   "cell_type": "markdown",
   "metadata": {},
   "source": [
    "## Reto 1: Hundir la Flota (Batalla Naval)\n",
    "### Objetivo: Implementar una versión simplificada del juego de Batalla Naval usando Python y Numpy para manejar el tablero del juego.\n",
    "\n",
    "- Crear un tablero 10x10 usando Numpy arrays.\n",
    "- Colocar 5 barcos de diferentes tamaños en posiciones aleatorias en el tablero.\n",
    "- Permitir que el jugador ingrese coordenadas para \"disparar\".\n",
    "- Mostrar un mensaje si el jugador acierta o falla, y actualizar el tablero acorde.\n",
    "- Seguir jugando hasta que todos los barcos sean hundidos.\n",
    "#### Habilidades aplicadas: Uso de arrays de Numpy, generación de números aleatorios, estructuras de control en Python.\n",
    "\n",
    "## Reto 2: Tres en Raya (Tic-Tac-Toe)\n",
    "### Objetivo: Implementar el juego de Tres en Raya.\n",
    "\n",
    "- Crear un tablero 3x3 usando Numpy arrays.\n",
    "- Permitir a dos jugadores ingresar sus movimientos alternadamente.\n",
    "- Verificar después de cada movimiento si alguno de los jugadores ha ganado.\n",
    "- Mostrar el tablero después de cada turno.\n",
    "- Terminar el juego si hay un ganador o si el tablero está lleno.\n",
    "#### Habilidades aplicadas: Manipulación de arrays, estructuras de control, funciones en Python.\n",
    "\n",
    "## Reto 3: Torres de Hanoi\n",
    "### Objetivo: Implementar el juego de las Torres de Hanoi usando Python.\n",
    "\n",
    "- Crear tres pilas para representar los tres postes del juego.\n",
    "- Implementar la lógica para mover un disco de un poste a otro, siguiendo las reglas del juego.\n",
    "- Desarrollar una función recursiva para resolver el juego.\n",
    "- Permitir al usuario elegir el número de discos con los que jugará.\n",
    "#### Habilidades aplicadas: Recursividad, estructuras de datos (pilas), funciones en Python."
   ]
  },
  {
   "cell_type": "markdown",
   "metadata": {},
   "source": [
    "``Deberas hacer por lo menos uno de los tres para de la fecha de entrega, pero antes de terminar el modulo de analisis de datos tendras que entregar todos..``"
   ]
  },
  {
   "cell_type": "markdown",
   "metadata": {},
   "source": [
    "como se cual debo hacer muy simple introduce tu fecha de cumpleaños en la siguiente funcion"
   ]
  },
  {
   "cell_type": "code",
   "execution_count": 3,
   "metadata": {},
   "outputs": [],
   "source": [
    "def cual_es_mi_reto(fecha: str) -> str:\n",
    "    \"\"\"\n",
    "    Args:\n",
    "    ------\n",
    "    fecha: str el formato de la fecha es DD-MM-YYYY\n",
    "    Returns:\n",
    "    -------\n",
    "    str: el numero del reto\n",
    "    \"\"\"\n",
    "    try:\n",
    "        return int(fecha.split('-')[0]) % 3\n",
    "    except:\n",
    "        return 'La fecha tiene que ser en este formato DD-MM-YYYY'"
   ]
  },
  {
   "cell_type": "code",
   "execution_count": 4,
   "metadata": {},
   "outputs": [
    {
     "data": {
      "text/plain": [
       "1"
      ]
     },
     "execution_count": 4,
     "metadata": {},
     "output_type": "execute_result"
    }
   ],
   "source": [
    "cual_es_mi_reto(fecha='22-07-1994')"
   ]
  },
  {
   "cell_type": "markdown",
   "metadata": {},
   "source": [
    "## Reto 1: Hundir la Flota (Batalla Naval)\n",
    "### Objetivo: Implementar una versión simplificada del juego de Batalla Naval usando Python y Numpy para manejar el tablero del juego.\n",
    "\n",
    "- Crear un tablero 10x10 usando Numpy arrays.\n",
    "- Colocar 5 barcos de diferentes tamaños en posiciones aleatorias en el tablero.\n",
    "- Permitir que el jugador ingrese coordenadas para \"disparar\".\n",
    "- Mostrar un mensaje si el jugador acierta o falla, y actualizar el tablero acorde.\n",
    "- Seguir jugando hasta que todos los barcos sean hundidos.\n",
    "#### Habilidades aplicadas: Uso de arrays de Numpy, generación de números aleatorios, estructuras de control en Python."
   ]
  },
  {
   "cell_type": "markdown",
   "metadata": {},
   "source": [
    "Siento este desastre, solo lo envio para que quede constancia de que algo de tiempo le he dedicado...\n",
    "Prometo algo mejor la siguente entrega!"
   ]
  },
  {
   "cell_type": "code",
   "execution_count": 145,
   "metadata": {},
   "outputs": [],
   "source": [
    "def crear_tablero():\n",
    "    # funcion que crea un array de 10x10 que servirá como tablero.\n",
    "    import numpy as np\n",
    "    array_inicio = np.array(' ')\n",
    "    tablero = np.tile(array_inicio,(10,10))\n",
    "    print(tablero)"
   ]
  },
  {
   "cell_type": "code",
   "execution_count": 146,
   "metadata": {},
   "outputs": [
    {
     "name": "stdout",
     "output_type": "stream",
     "text": [
      "[[' ' ' ' ' ' ' ' ' ' ' ' ' ' ' ' ' ' ' ']\n",
      " [' ' ' ' ' ' ' ' ' ' ' ' ' ' ' ' ' ' ' ']\n",
      " [' ' ' ' ' ' ' ' ' ' ' ' ' ' ' ' ' ' ' ']\n",
      " [' ' ' ' ' ' ' ' ' ' ' ' ' ' ' ' ' ' ' ']\n",
      " [' ' ' ' ' ' ' ' ' ' ' ' ' ' ' ' ' ' ' ']\n",
      " [' ' ' ' ' ' ' ' ' ' ' ' ' ' ' ' ' ' ' ']\n",
      " [' ' ' ' ' ' ' ' ' ' ' ' ' ' ' ' ' ' ' ']\n",
      " [' ' ' ' ' ' ' ' ' ' ' ' ' ' ' ' ' ' ' ']\n",
      " [' ' ' ' ' ' ' ' ' ' ' ' ' ' ' ' ' ' ' ']\n",
      " [' ' ' ' ' ' ' ' ' ' ' ' ' ' ' ' ' ' ' ']]\n"
     ]
    }
   ],
   "source": [
    "crear_tablero()"
   ]
  },
  {
   "cell_type": "code",
   "execution_count": null,
   "metadata": {},
   "outputs": [],
   "source": [
    "def crear_barcos():\n",
    "    # fnuncion que crea barcos de 5 tamaños diferentes. Una vez creadas las coordenadas de inicio y fin de cada barco, se comprueba si están libres en el tablero. Imprime los barcos donde sea posible\n",
    "    import random\n",
    "    barcos = [5, 4, 3, 3, 2]\n",
    "              \n",
    "    orientacion = ['norte', 'sur', 'este', 'oeste']\n",
    "    direccion = random.choice(orientacion)\n",
    "    for i in barcos.copy():\n",
    "            fila_inicio = random.randint(0,9)\n",
    "            col_inicio = random.randint(0,9)\n",
    "            direccion = random.choice(orientacion)\n",
    "\n",
    "            if direccion == 'norte':\n",
    "                        \n",
    "                    if fila_inicio - i > 0:\n",
    "                        fila_ini, fila_fin, columna = fila_inicio,(fila_inicio - i),col_inicio\n",
    "                    \n",
    "                    else:\n",
    "                        fila_inicio2 = fila_inicio + i-fila_inicio\n",
    "                        fila_ini, fila_fin, columna= fila_inicio2,fila_inicio2- i,col_inicio\n",
    "                    \n",
    "\n",
    "            elif direccion == 'sur':\n",
    "                    if fila_inicio + i < 10:\n",
    "                        fila_ini,fila_fin,columna = fila_inicio,(fila_inicio + i),col_inicio\n",
    "                        \n",
    "                    else:\n",
    "                        fila_inicio2 = fila_inicio + (i-fila_inicio)\n",
    "                        fila_ini,fila_fin,columna = fila_inicio2,(fila_inicio2 + i),col_inicio\n",
    "                        \n",
    "\n",
    "            elif direccion == 'este':\n",
    "                    if col_inicio + i < 10:\n",
    "                        fila, columna_ini,columna_fin = fila_inicio,col_inicio,(col_inicio + i)\n",
    "                        \n",
    "                    else:\n",
    "                        col_inicio2 = 10 - col_inicio + i\n",
    "                        fila, columna_ini,columna_fin = fila_inicio,col_inicio2,(col_inicio2 + i)\n",
    "                        \n",
    "\n",
    "            elif direccion == 'oeste':\n",
    "                    if col_inicio + i < 10:\n",
    "                        fila, columna_ini,columna_fin = fila_inicio,col_inicio,(col_inicio - i)\n",
    "                        \n",
    "                    else:\n",
    "                        col_inicio2 = col_inicio + (i-col_inicio)\n",
    "                        fila, columna_ini,columna_fin = fila_inicio,col_inicio2,(col_inicio2 - i)\n",
    "\n",
    "            if direccion == 'norte' or direccion == 'sur':   \n",
    "                \n",
    "                if np.all(tablero[fila_ini:fila_fin,columna] == ' '):\n",
    "                    tablero[fila_ini:fila_fin,columna] = 'O'\n",
    "                \n",
    "                else:  return crear_barcos()\n",
    "                    \n",
    "            elif direccion == 'este' :\n",
    "            \n",
    "                if np.all( tablero[fila,columna_ini:columna_fin] == ' '):\n",
    "                    tablero[fila,columna_ini:columna_fin]= 'O'\n",
    "                    \n",
    "                else:  return crear_barcos()\n",
    "\n",
    "            elif direccion == 'oeste':\n",
    "                \n",
    "                if np.all(tablero[fila,columna_ini:columna_fin] == ' '):\n",
    "                    tablero[fila,columna_ini:columna_fin] = 'O'\n",
    "                else:  return crear_barcos()\n",
    "    return  tablero"
   ]
  },
  {
   "cell_type": "code",
   "execution_count": null,
   "metadata": {},
   "outputs": [],
   "source": [
    "crear_barcos()"
   ]
  },
  {
   "cell_type": "code",
   "execution_count": null,
   "metadata": {},
   "outputs": [],
   "source": [
    "def disparo():\n",
    "    # función que pide unas coordenadas al jugador y comprueba si las mismas están ocupadas por barco o por agua.\n",
    "    a = 0\n",
    "    fila_d  = input('Inserte la fila del disparo',)\n",
    "    col_d = input('Inserte la columna del disparo',)\n",
    "    if tablero[int(fila_d),int(col_d)] == 'O':\n",
    "        tablero[int(fila_d),int(col_d)]  = 'X'\n",
    "        a+=1\n",
    "        if a == 17:\n",
    "            print('Enhorabuena, has hundido todos los barcos')\n",
    "        else:\n",
    "            return print('Enhorabuena, ha disparado a un barco'), print(tablero), disparo()\n",
    "    else: \n",
    "        return print('AGUA! Prueba otra vez.'), disparo()\n",
    "   "
   ]
  },
  {
   "cell_type": "code",
   "execution_count": null,
   "metadata": {},
   "outputs": [],
   "source": [
    "disparo()"
   ]
  }
 ],
 "metadata": {
  "kernelspec": {
   "display_name": "este",
   "language": "python",
   "name": "python3"
  },
  "language_info": {
   "codemirror_mode": {
    "name": "ipython",
    "version": 3
   },
   "file_extension": ".py",
   "mimetype": "text/x-python",
   "name": "python",
   "nbconvert_exporter": "python",
   "pygments_lexer": "ipython3",
   "version": "3.11.5"
  }
 },
 "nbformat": 4,
 "nbformat_minor": 2
}
