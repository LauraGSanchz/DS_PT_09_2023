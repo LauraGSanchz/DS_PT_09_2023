{
 "cells": [
  {
   "attachments": {},
   "cell_type": "markdown",
   "metadata": {},
   "source": [
    "!['streamlit'](https://streamlit.io/images/brand/streamlit-logo-secondary-colormark-darktext.png)"
   ]
  },
  {
   "attachments": {},
   "cell_type": "markdown",
   "metadata": {},
   "source": [
    "Streamlit (https://streamlit.io/) fue lanzada en octubre de 2019 por los antiguos empleados de Google y Zoox, Adrien Treuille, Thiago Teixeira y Amanda Kelly.\n",
    "\n",
    "Su idea era ayudar a los científicos de datos e ingenieros de datos a poder crear rápidamente una aplicación web para mostrar el resultado de su trabajo. La oportunidad surgió porque los fundadores se dieron cuenta de que muchos no podían dedicar mucho tiempo a construir algo a veces en un lenguaje de programación diferente al del proyecto. En palabras de Adrien\n",
    "\n",
    "\"(...) estamos dando a los ingenieros esta especie de bloques de Lego para que construyan lo que quieran\"."
   ]
  },
  {
   "attachments": {},
   "cell_type": "markdown",
   "metadata": {},
   "source": [
    "## Qué puede hacer Streamlit\n",
    "\n",
    "Streamlit puede ser tu herramienta para construir una aplicación web de gran apariencia que puede contener gráficos, imágenes, texto, tablas, mapas y también modelos de aprendizaje automático, lo que le permite crear una presentación elegante y dinámica de tus datos.\n",
    "\n",
    "Además, recientemente lanzaron su función de despliegue, por lo que es muy fácil de poner su  dashboard / web site / web app en vivo en un par de minutos."
   ]
  },
  {
   "cell_type": "code",
   "execution_count": 1,
   "metadata": {},
   "outputs": [
    {
     "name": "stdout",
     "output_type": "stream",
     "text": [
      "Requirement already satisfied: streamlit in c:\\users\\laura\\onedrive\\desktop\\ds_pt_09_2023\\.venv\\lib\\site-packages (1.32.0)\n",
      "Requirement already satisfied: altair<6,>=4.0 in c:\\users\\laura\\onedrive\\desktop\\ds_pt_09_2023\\.venv\\lib\\site-packages (from streamlit) (5.2.0)\n",
      "Requirement already satisfied: blinker<2,>=1.0.0 in c:\\users\\laura\\onedrive\\desktop\\ds_pt_09_2023\\.venv\\lib\\site-packages (from streamlit) (1.7.0)\n",
      "Requirement already satisfied: cachetools<6,>=4.0 in c:\\users\\laura\\onedrive\\desktop\\ds_pt_09_2023\\.venv\\lib\\site-packages (from streamlit) (5.3.2)\n",
      "Requirement already satisfied: click<9,>=7.0 in c:\\users\\laura\\onedrive\\desktop\\ds_pt_09_2023\\.venv\\lib\\site-packages (from streamlit) (8.1.7)\n",
      "Requirement already satisfied: numpy<2,>=1.19.3 in c:\\users\\laura\\onedrive\\desktop\\ds_pt_09_2023\\.venv\\lib\\site-packages (from streamlit) (1.25.2)\n",
      "Requirement already satisfied: packaging<24,>=16.8 in c:\\users\\laura\\onedrive\\desktop\\ds_pt_09_2023\\.venv\\lib\\site-packages (from streamlit) (23.2)\n",
      "Requirement already satisfied: pandas<3,>=1.3.0 in c:\\users\\laura\\onedrive\\desktop\\ds_pt_09_2023\\.venv\\lib\\site-packages (from streamlit) (2.1.1)\n",
      "Requirement already satisfied: pillow<11,>=7.1.0 in c:\\users\\laura\\onedrive\\desktop\\ds_pt_09_2023\\.venv\\lib\\site-packages (from streamlit) (10.1.0)\n",
      "Requirement already satisfied: protobuf<5,>=3.20 in c:\\users\\laura\\onedrive\\desktop\\ds_pt_09_2023\\.venv\\lib\\site-packages (from streamlit) (4.25.3)\n",
      "Requirement already satisfied: pyarrow>=7.0 in c:\\users\\laura\\onedrive\\desktop\\ds_pt_09_2023\\.venv\\lib\\site-packages (from streamlit) (15.0.0)\n",
      "Requirement already satisfied: requests<3,>=2.27 in c:\\users\\laura\\onedrive\\desktop\\ds_pt_09_2023\\.venv\\lib\\site-packages (from streamlit) (2.31.0)\n",
      "Requirement already satisfied: rich<14,>=10.14.0 in c:\\users\\laura\\onedrive\\desktop\\ds_pt_09_2023\\.venv\\lib\\site-packages (from streamlit) (13.7.1)\n",
      "Requirement already satisfied: tenacity<9,>=8.1.0 in c:\\users\\laura\\onedrive\\desktop\\ds_pt_09_2023\\.venv\\lib\\site-packages (from streamlit) (8.2.3)\n",
      "Requirement already satisfied: toml<2,>=0.10.1 in c:\\users\\laura\\onedrive\\desktop\\ds_pt_09_2023\\.venv\\lib\\site-packages (from streamlit) (0.10.2)\n",
      "Requirement already satisfied: typing-extensions<5,>=4.3.0 in c:\\users\\laura\\onedrive\\desktop\\ds_pt_09_2023\\.venv\\lib\\site-packages (from streamlit) (4.8.0)\n",
      "Requirement already satisfied: gitpython!=3.1.19,<4,>=3.0.7 in c:\\users\\laura\\onedrive\\desktop\\ds_pt_09_2023\\.venv\\lib\\site-packages (from streamlit) (3.1.42)\n",
      "Requirement already satisfied: pydeck<1,>=0.8.0b4 in c:\\users\\laura\\onedrive\\desktop\\ds_pt_09_2023\\.venv\\lib\\site-packages (from streamlit) (0.8.1b0)\n",
      "Requirement already satisfied: tornado<7,>=6.0.3 in c:\\users\\laura\\onedrive\\desktop\\ds_pt_09_2023\\.venv\\lib\\site-packages (from streamlit) (6.3.3)\n",
      "Requirement already satisfied: watchdog>=2.1.5 in c:\\users\\laura\\onedrive\\desktop\\ds_pt_09_2023\\.venv\\lib\\site-packages (from streamlit) (4.0.0)\n",
      "Requirement already satisfied: jinja2 in c:\\users\\laura\\onedrive\\desktop\\ds_pt_09_2023\\.venv\\lib\\site-packages (from altair<6,>=4.0->streamlit) (3.1.2)\n",
      "Requirement already satisfied: jsonschema>=3.0 in c:\\users\\laura\\onedrive\\desktop\\ds_pt_09_2023\\.venv\\lib\\site-packages (from altair<6,>=4.0->streamlit) (4.19.1)\n",
      "Requirement already satisfied: toolz in c:\\users\\laura\\onedrive\\desktop\\ds_pt_09_2023\\.venv\\lib\\site-packages (from altair<6,>=4.0->streamlit) (0.12.1)\n",
      "Requirement already satisfied: colorama in c:\\users\\laura\\onedrive\\desktop\\ds_pt_09_2023\\.venv\\lib\\site-packages (from click<9,>=7.0->streamlit) (0.4.6)\n",
      "Requirement already satisfied: gitdb<5,>=4.0.1 in c:\\users\\laura\\onedrive\\desktop\\ds_pt_09_2023\\.venv\\lib\\site-packages (from gitpython!=3.1.19,<4,>=3.0.7->streamlit) (4.0.11)\n",
      "Requirement already satisfied: python-dateutil>=2.8.2 in c:\\users\\laura\\onedrive\\desktop\\ds_pt_09_2023\\.venv\\lib\\site-packages (from pandas<3,>=1.3.0->streamlit) (2.8.2)\n",
      "Requirement already satisfied: pytz>=2020.1 in c:\\users\\laura\\onedrive\\desktop\\ds_pt_09_2023\\.venv\\lib\\site-packages (from pandas<3,>=1.3.0->streamlit) (2023.3.post1)\n",
      "Requirement already satisfied: tzdata>=2022.1 in c:\\users\\laura\\onedrive\\desktop\\ds_pt_09_2023\\.venv\\lib\\site-packages (from pandas<3,>=1.3.0->streamlit) (2023.3)\n",
      "Requirement already satisfied: charset-normalizer<4,>=2 in c:\\users\\laura\\onedrive\\desktop\\ds_pt_09_2023\\.venv\\lib\\site-packages (from requests<3,>=2.27->streamlit) (3.3.1)\n",
      "Requirement already satisfied: idna<4,>=2.5 in c:\\users\\laura\\onedrive\\desktop\\ds_pt_09_2023\\.venv\\lib\\site-packages (from requests<3,>=2.27->streamlit) (3.4)\n",
      "Requirement already satisfied: urllib3<3,>=1.21.1 in c:\\users\\laura\\onedrive\\desktop\\ds_pt_09_2023\\.venv\\lib\\site-packages (from requests<3,>=2.27->streamlit) (1.26.18)\n",
      "Requirement already satisfied: certifi>=2017.4.17 in c:\\users\\laura\\onedrive\\desktop\\ds_pt_09_2023\\.venv\\lib\\site-packages (from requests<3,>=2.27->streamlit) (2023.7.22)\n",
      "Requirement already satisfied: markdown-it-py>=2.2.0 in c:\\users\\laura\\onedrive\\desktop\\ds_pt_09_2023\\.venv\\lib\\site-packages (from rich<14,>=10.14.0->streamlit) (3.0.0)\n",
      "Requirement already satisfied: pygments<3.0.0,>=2.13.0 in c:\\users\\laura\\onedrive\\desktop\\ds_pt_09_2023\\.venv\\lib\\site-packages (from rich<14,>=10.14.0->streamlit) (2.16.1)\n",
      "Requirement already satisfied: smmap<6,>=3.0.1 in c:\\users\\laura\\onedrive\\desktop\\ds_pt_09_2023\\.venv\\lib\\site-packages (from gitdb<5,>=4.0.1->gitpython!=3.1.19,<4,>=3.0.7->streamlit) (5.0.1)\n",
      "Requirement already satisfied: MarkupSafe>=2.0 in c:\\users\\laura\\onedrive\\desktop\\ds_pt_09_2023\\.venv\\lib\\site-packages (from jinja2->altair<6,>=4.0->streamlit) (2.1.3)\n",
      "Requirement already satisfied: attrs>=22.2.0 in c:\\users\\laura\\onedrive\\desktop\\ds_pt_09_2023\\.venv\\lib\\site-packages (from jsonschema>=3.0->altair<6,>=4.0->streamlit) (23.1.0)\n",
      "Requirement already satisfied: jsonschema-specifications>=2023.03.6 in c:\\users\\laura\\onedrive\\desktop\\ds_pt_09_2023\\.venv\\lib\\site-packages (from jsonschema>=3.0->altair<6,>=4.0->streamlit) (2023.7.1)\n",
      "Requirement already satisfied: referencing>=0.28.4 in c:\\users\\laura\\onedrive\\desktop\\ds_pt_09_2023\\.venv\\lib\\site-packages (from jsonschema>=3.0->altair<6,>=4.0->streamlit) (0.30.2)\n",
      "Requirement already satisfied: rpds-py>=0.7.1 in c:\\users\\laura\\onedrive\\desktop\\ds_pt_09_2023\\.venv\\lib\\site-packages (from jsonschema>=3.0->altair<6,>=4.0->streamlit) (0.10.6)\n",
      "Requirement already satisfied: mdurl~=0.1 in c:\\users\\laura\\onedrive\\desktop\\ds_pt_09_2023\\.venv\\lib\\site-packages (from markdown-it-py>=2.2.0->rich<14,>=10.14.0->streamlit) (0.1.2)\n",
      "Requirement already satisfied: six>=1.5 in c:\\users\\laura\\onedrive\\desktop\\ds_pt_09_2023\\.venv\\lib\\site-packages (from python-dateutil>=2.8.2->pandas<3,>=1.3.0->streamlit) (1.16.0)\n",
      "Note: you may need to restart the kernel to use updated packages.\n"
     ]
    }
   ],
   "source": [
    "%pip install streamlit"
   ]
  },
  {
   "attachments": {},
   "cell_type": "markdown",
   "metadata": {},
   "source": [
    "## Empecemos"
   ]
  },
  {
   "attachments": {},
   "cell_type": "markdown",
   "metadata": {},
   "source": [
    "Esta librería funciona mejor usando un IDE, ya que necesitarás abrir un servidor local en tu máquina para poder ver el resultado. Pero que no cunda el pánico. Esto es muy fácil.\n",
    "\n",
    "Abra un símbolo del sistema o terminal y escriba ``pip install streamlit`` para instalar la biblioteca.\n",
    "\n",
    "Usa cualquier IDE de Python (Spyder, Pycharm, VSCode)\n",
    "\n",
    "Importa Streamlit y escribe tu primera línea de código."
   ]
  },
  {
   "attachments": {},
   "cell_type": "markdown",
   "metadata": {},
   "source": [
    "[Streamlit 101](app/app.py)"
   ]
  },
  {
   "attachments": {},
   "cell_type": "markdown",
   "metadata": {},
   "source": [
    "Otra forma de iniciar nuestra app de Streamlit es desde la terminal usar el comando\n",
    ">> streamlit run <nombre app>.py"
   ]
  },
  {
   "attachments": {},
   "cell_type": "markdown",
   "metadata": {},
   "source": [
    "## Texto"
   ]
  },
  {
   "attachments": {},
   "cell_type": "markdown",
   "metadata": {},
   "source": [
    "Podemos añadir texto utilizando la notación [markdown](https://www.markdownguide.org/basic-syntax/) como podemos ver [aquí](./app/app2.py)"
   ]
  },
  {
   "attachments": {},
   "cell_type": "markdown",
   "metadata": {},
   "source": [
    "## Comandos Útiles"
   ]
  },
  {
   "attachments": {},
   "cell_type": "markdown",
   "metadata": {},
   "source": [
    "#### ``st.write()``"
   ]
  },
  {
   "attachments": {},
   "cell_type": "markdown",
   "metadata": {},
   "source": [
    "Según la documentación de Streamlit, ``st.write()`` es la \"navaja suiza de los comandos\". Se puede utilizar para escribir texto, imprimir cálculos y muchas otras cosas que usted encontrará en la documentación, [aquí](https://docs.streamlit.io/en/stable/api.html?highlight=st.write#streamlit.write)."
   ]
  },
  {
   "attachments": {},
   "cell_type": "markdown",
   "metadata": {},
   "source": [
    "[Este es un ejemplo](./app/app3.py)"
   ]
  },
  {
   "attachments": {},
   "cell_type": "markdown",
   "metadata": {},
   "source": [
    "#### ``st.image()``"
   ]
  },
  {
   "attachments": {},
   "cell_type": "markdown",
   "metadata": {},
   "source": [
    "[Asi se inserta una imagen](./app/app4.py)"
   ]
  },
  {
   "attachments": {},
   "cell_type": "markdown",
   "metadata": {},
   "source": [
    "#### ``st.map()``"
   ]
  },
  {
   "attachments": {},
   "cell_type": "markdown",
   "metadata": {},
   "source": [
    "La función de mapa geográfico es siempre un buen complemento para un dashboard. Causa un buen impacto y aquí podemos insertar un mapa con una sola línea de código, utilizando ``st.map()`` , siempre que tenga información de latitud y longitud en su dataframe. Ten en cuenta que la información de latitud y longitud deben ser columnas separadas y nombrarse como 'lat' y 'lon' o 'latitude' y 'longitude'."
   ]
  },
  {
   "attachments": {},
   "cell_type": "markdown",
   "metadata": {},
   "source": [
    "[![Mapa](.\\img\\2781304.jpg \"meme\")](./app/app5.py)"
   ]
  },
  {
   "attachments": {},
   "cell_type": "markdown",
   "metadata": {},
   "source": [
    "## Gadgets"
   ]
  },
  {
   "attachments": {},
   "cell_type": "markdown",
   "metadata": {},
   "source": [
    "También podemos añadir algunos gadgets, como controles deslizantes, botones de radio, cuadros de texto de entrada, cuadros de selección... ¡muchas cosas que harán que nuestra aplicación cobre vida!"
   ]
  },
  {
   "attachments": {},
   "cell_type": "markdown",
   "metadata": {},
   "source": [
    "[![Mapa](.\\img\\521209.jpg \"Meme\")](./app/app6.py)"
   ]
  },
  {
   "attachments": {},
   "cell_type": "markdown",
   "metadata": {},
   "source": [
    "# Mi primera App en Streamlit"
   ]
  },
  {
   "attachments": {},
   "cell_type": "markdown",
   "metadata": {},
   "source": [
    "[![Mapa](.\\img\\descarga.jpg \"Meme\")](./app/app7.py)"
   ]
  },
  {
   "attachments": {},
   "cell_type": "markdown",
   "metadata": {},
   "source": [
    "## Desplegar Streamlit"
   ]
  },
  {
   "attachments": {},
   "cell_type": "markdown",
   "metadata": {},
   "source": [
    "[![Mapa](.\\img\\one-does-not-2aj0ro.jpg \"Meme\")](Despliege.ipynb)"
   ]
  }
 ],
 "metadata": {
  "kernelspec": {
   "display_name": "este",
   "language": "python",
   "name": "python3"
  },
  "language_info": {
   "codemirror_mode": {
    "name": "ipython",
    "version": 3
   },
   "file_extension": ".py",
   "mimetype": "text/x-python",
   "name": "python",
   "nbconvert_exporter": "python",
   "pygments_lexer": "ipython3",
   "version": "3.11.5"
  },
  "orig_nbformat": 4
 },
 "nbformat": 4,
 "nbformat_minor": 2
}
